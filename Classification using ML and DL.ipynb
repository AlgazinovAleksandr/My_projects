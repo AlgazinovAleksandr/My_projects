{
 "cells": [
  {
   "cell_type": "markdown",
   "metadata": {
    "id": "6uJzE0wun8jt"
   },
   "source": [
    "# 1 Abstract\n",
    "\n",
    "In this project, I wanted to do multiclass classification on an imbalanced dataset based on the text. This is not the simplest ML problem, since most of the typical statistical models cannot handle the text data (only continuous and categorical). That is why, we usually leave this task for Neural Networks. However, we still have Naive Bayes classifier and SVM classifier. Therefore, I want to compare the performance of ML algorithm (we will choose Naive Bayes because it is usually simpler and faster than SVM classifier) and DL. There is a widespread belief that DL models are more accurate while ML models are faster. So, in the end we will be able to test this hypothesis on the given data"
   ]
  },
  {
   "cell_type": "markdown",
   "metadata": {
    "id": "ujgSvWGwn8ju"
   },
   "source": [
    "# 2 Dataset\n",
    "\n"
   ]
  },
  {
   "cell_type": "markdown",
   "metadata": {
    "id": "XWNEdswJn8jv"
   },
   "source": [
    "### 2.1 Source\n",
    "\n",
    "In the previous projects we used to work with csv files. They were downloaded and after that read with the help of pandas. Now we will take dataset directly from Kaggle without downloading it. To do so, we will use Kaggle API (for more details, see references)\n"
   ]
  },
  {
   "cell_type": "markdown",
   "metadata": {
    "id": "ij9xUpQkn8jv"
   },
   "source": [
    "### 2.2 Structure\n",
    "\n",
    "We will take one of the very popular datasets from Kaggle. It represents information about different wines. The thing I want to do is to identify the location of wine given its description. That is why, we will leave just one feature (description) and will use it to predict country. The dataset is an imbalanced one and I also want to show why this is bad and why we need to do some preprocessing (undersampling or oversampling) to resolve the issue. It will be done by comparing the results on the whole dataset and on the undersampled one"
   ]
  },
  {
   "cell_type": "markdown",
   "metadata": {
    "id": "uEQe2gPOn8jw"
   },
   "source": [
    "### 2.3 Getting the data\n",
    "\n",
    "Note that you need first to download a special file from Kaggle named kaggle.json, which will be a unique file for anybody. After that, the procedure of getting needed datasets does not change"
   ]
  },
  {
   "cell_type": "code",
   "execution_count": 1,
   "metadata": {
    "id": "nK_dWpjQEXAv"
   },
   "outputs": [],
   "source": [
    "! pip install -q kaggle"
   ]
  },
  {
   "cell_type": "code",
   "execution_count": 2,
   "metadata": {
    "id": "nePNDm7uFdm5"
   },
   "outputs": [],
   "source": [
    "! mkdir ~/.kaggle"
   ]
  },
  {
   "cell_type": "code",
   "execution_count": 3,
   "metadata": {
    "id": "A-tSGn_BF0EQ"
   },
   "outputs": [],
   "source": [
    "! cp kaggle.json ~/.kaggle/"
   ]
  },
  {
   "cell_type": "code",
   "execution_count": 4,
   "metadata": {
    "id": "HT53u6xKF_Ua"
   },
   "outputs": [],
   "source": [
    "\n",
    "! chmod 600 ~/.kaggle/kaggle.json"
   ]
  },
  {
   "cell_type": "code",
   "execution_count": 5,
   "metadata": {
    "colab": {
     "base_uri": "https://localhost:8080/"
    },
    "id": "k7pTAeaQGN9t",
    "outputId": "1a783f86-1ce5-481d-ce7f-6d16553aede2"
   },
   "outputs": [
    {
     "name": "stdout",
     "output_type": "stream",
     "text": [
      "ref                                                  title                                       size  lastUpdated          downloadCount  voteCount  usabilityRating  \n",
      "---------------------------------------------------  -----------------------------------------  -----  -------------------  -------------  ---------  ---------------  \n",
      "iamsouravbanerjee/house-rent-prediction-dataset      House Rent Prediction Dataset               82KB  2022-08-20 13:49:03           4574        153  1.0              \n",
      "deepcontractor/mcdonalds-india-menu-nutrition-facts  McDonald's India : Menu Nutrition Dataset    5KB  2022-07-28 17:08:52           4224        165  0.9411765        \n",
      "arianazmoudeh/airbnbopendata                         Airbnb Open Data                            10MB  2022-08-01 15:58:10           2644         87  0.9705882        \n",
      "digitalbro/usa-childrens-hospitals                   USA Childrens Hospitals                     18KB  2022-08-24 02:20:09            275         24  1.0              \n",
      "iamsouravbanerjee/world-population-dataset           World Population Dataset                    17KB  2022-08-27 08:29:18            490         52  1.0              \n",
      "sveta151/tiktok-popular-songs-2022                   Tiktok popular songs 2022                   15KB  2022-08-22 11:20:57            615         27  1.0              \n",
      "tarundalal/100-richest-people-in-world               100 Richest People In World                  3KB  2022-08-17 14:30:02            661         39  1.0              \n",
      "deepcontractor/smoke-detection-dataset               Smoke Detection Dataset                      2MB  2022-08-21 06:29:34            573         33  1.0              \n",
      "infamouscoder/dataset-netflix-shows                  Dataset: NetFlix Shows                       1MB  2022-08-11 05:05:41           1250         56  1.0              \n",
      "tarundalal/the-big-three-anime-arcs                  The Big Three Anime Arcs                     3KB  2022-08-16 12:22:54            246         24  1.0              \n",
      "sveta151/tiktok-popular-songs-2019                   TikTok popular songs 2019                   45KB  2022-08-22 10:04:48            307         22  1.0              \n",
      "mohannapd/mobile-price-prediction                    Mobile Price Prediction                     19KB  2022-08-21 12:24:41            513         23  0.7941176        \n",
      "imbikramsaha/indian-gdp                              GDP Growth of India                          2KB  2022-08-21 03:35:13            453         25  1.0              \n",
      "adoumtaiga/transport                                 Transport                                   636B  2022-08-17 11:49:08            354         25  1.0              \n",
      "jgiigii/uscrimesdataset                              USCrimesDataset                             45MB  2022-08-13 22:48:23            517         22  0.9117647        \n",
      "reihanenamdari/breast-cancer                         Breast Cancer                               43KB  2022-08-08 19:25:55           1122         49  1.0              \n",
      "dansbecker/melbourne-housing-snapshot                Melbourne Housing Snapshot                 451KB  2018-06-05 12:52:24          94104       1127  0.7058824        \n",
      "himanshunakrani/student-study-hours                  Student Study Hours                         276B  2022-07-20 13:17:29           3278         93  1.0              \n",
      "vanvalkenberg/historicalweatherdataforindiancities   Weather data Indian cities (1990 to 2022)  504KB  2022-07-29 11:13:42           1290         43  1.0              \n",
      "datasnaek/youtube-new                                Trending YouTube Video Statistics          201MB  2019-06-03 00:56:47         184543       4649  0.7941176        \n"
     ]
    }
   ],
   "source": [
    "! kaggle datasets list"
   ]
  },
  {
   "cell_type": "code",
   "execution_count": 6,
   "metadata": {
    "id": "DI_em-YjPE-x"
   },
   "outputs": [],
   "source": [
    "import pandas as pd\n",
    "import numpy as np"
   ]
  },
  {
   "cell_type": "code",
   "execution_count": 7,
   "metadata": {
    "colab": {
     "base_uri": "https://localhost:8080/"
    },
    "id": "dTXmiPU0LvgI",
    "outputId": "433d0fa8-2543-48fb-96a9-a0e475019a4a"
   },
   "outputs": [
    {
     "name": "stdout",
     "output_type": "stream",
     "text": [
      "Downloading wine-reviews.zip to /content\n",
      " 94% 48.0M/50.9M [00:00<00:00, 102MB/s] \n",
      "100% 50.9M/50.9M [00:00<00:00, 76.1MB/s]\n"
     ]
    }
   ],
   "source": [
    "! kaggle datasets download zynicide/wine-reviews\n",
    "\n",
    "#downloading a dataset we are interested in"
   ]
  },
  {
   "cell_type": "code",
   "execution_count": 8,
   "metadata": {
    "colab": {
     "base_uri": "https://localhost:8080/"
    },
    "id": "lcfKdlNwMwG_",
    "outputId": "68f86f48-01f8-4b59-d838-10c6586efce8"
   },
   "outputs": [
    {
     "name": "stdout",
     "output_type": "stream",
     "text": [
      "Archive:  wine-reviews.zip\n",
      "  inflating: winemag-data-130k-v2.csv  \n",
      "  inflating: winemag-data-130k-v2.json  \n",
      "  inflating: winemag-data_first150k.csv  \n"
     ]
    }
   ],
   "source": [
    "! unzip wine-reviews.zip"
   ]
  },
  {
   "cell_type": "markdown",
   "metadata": {
    "id": "5LBptXn9n8j2"
   },
   "source": [
    "# 3 Data Preprocessing"
   ]
  },
  {
   "cell_type": "code",
   "execution_count": 9,
   "metadata": {
    "colab": {
     "base_uri": "https://localhost:8080/"
    },
    "id": "SDfJwnqkTAi_",
    "outputId": "a992659b-9788-4179-ba89-442b77224de8"
   },
   "outputs": [
    {
     "name": "stdout",
     "output_type": "stream",
     "text": [
      "US                        62397\n",
      "Italy                     23478\n",
      "France                    21098\n",
      "Spain                      8268\n",
      "Chile                      5816\n",
      "Argentina                  5631\n",
      "Portugal                   5322\n",
      "Australia                  4957\n",
      "New Zealand                3320\n",
      "Austria                    3057\n",
      "Germany                    2452\n",
      "South Africa               2258\n",
      "Greece                      884\n",
      "Israel                      630\n",
      "Hungary                     231\n",
      "Canada                      196\n",
      "Romania                     139\n",
      "Slovenia                     94\n",
      "Uruguay                      92\n",
      "Croatia                      89\n",
      "Bulgaria                     77\n",
      "Moldova                      71\n",
      "Mexico                       63\n",
      "Turkey                       52\n",
      "Georgia                      43\n",
      "Lebanon                      37\n",
      "Cyprus                       31\n",
      "Brazil                       25\n",
      "Macedonia                    16\n",
      "Serbia                       14\n",
      "Morocco                      12\n",
      "England                       9\n",
      "Luxembourg                    9\n",
      "Lithuania                     8\n",
      "India                         8\n",
      "Czech Republic                6\n",
      "Ukraine                       5\n",
      "Switzerland                   4\n",
      "South Korea                   4\n",
      "Bosnia and Herzegovina        4\n",
      "China                         3\n",
      "Egypt                         3\n",
      "Slovakia                      3\n",
      "Tunisia                       2\n",
      "Albania                       2\n",
      "Montenegro                    2\n",
      "Japan                         2\n",
      "US-France                     1\n",
      "Name: country, dtype: int64\n"
     ]
    }
   ],
   "source": [
    "df2 = pd.read_csv('winemag-data_first150k.csv')\n",
    "df2 = df2.iloc[:, 1:]\n",
    "df2 = df2[['country', 'description']]\n",
    "df2 = df2.dropna()\n",
    "df2\n",
    "print(df2['country'].value_counts())"
   ]
  },
  {
   "cell_type": "markdown",
   "metadata": {},
   "source": [
    "### 3.1 As we see, dataset is very imbalanced\n",
    "\n",
    "I want to show why this is a trouble by comparing the model performance on both imbalanced and undersampled dataset. However, we will work not with all classes. In the context of problem, I do not see any point in considering more than 10 classes, making it more complicated for model to learn and for us to interpret the results. So, we will leave only those classes having at least 3000 observations"
   ]
  },
  {
   "cell_type": "code",
   "execution_count": 10,
   "metadata": {
    "colab": {
     "base_uri": "https://localhost:8080/",
     "height": 419
    },
    "id": "-XdSY5XHTykt",
    "outputId": "11833840-53a9-4dca-efdd-42480718612f"
   },
   "outputs": [
    {
     "data": {
      "text/html": [
       "\n",
       "  <div id=\"df-f49e2fcf-e1c8-4e7a-b04e-70090bc1d0ed\">\n",
       "    <div class=\"colab-df-container\">\n",
       "      <div>\n",
       "<style scoped>\n",
       "    .dataframe tbody tr th:only-of-type {\n",
       "        vertical-align: middle;\n",
       "    }\n",
       "\n",
       "    .dataframe tbody tr th {\n",
       "        vertical-align: top;\n",
       "    }\n",
       "\n",
       "    .dataframe thead th {\n",
       "        text-align: right;\n",
       "    }\n",
       "</style>\n",
       "<table border=\"1\" class=\"dataframe\">\n",
       "  <thead>\n",
       "    <tr style=\"text-align: right;\">\n",
       "      <th></th>\n",
       "      <th>country</th>\n",
       "      <th>description</th>\n",
       "    </tr>\n",
       "  </thead>\n",
       "  <tbody>\n",
       "    <tr>\n",
       "      <th>0</th>\n",
       "      <td>US</td>\n",
       "      <td>This tremendous 100% varietal wine hails from ...</td>\n",
       "    </tr>\n",
       "    <tr>\n",
       "      <th>1</th>\n",
       "      <td>Spain</td>\n",
       "      <td>Ripe aromas of fig, blackberry and cassis are ...</td>\n",
       "    </tr>\n",
       "    <tr>\n",
       "      <th>2</th>\n",
       "      <td>US</td>\n",
       "      <td>Mac Watson honors the memory of a wine once ma...</td>\n",
       "    </tr>\n",
       "    <tr>\n",
       "      <th>3</th>\n",
       "      <td>US</td>\n",
       "      <td>This spent 20 months in 30% new French oak, an...</td>\n",
       "    </tr>\n",
       "    <tr>\n",
       "      <th>4</th>\n",
       "      <td>France</td>\n",
       "      <td>This is the top wine from La Bégude, named aft...</td>\n",
       "    </tr>\n",
       "    <tr>\n",
       "      <th>...</th>\n",
       "      <td>...</td>\n",
       "      <td>...</td>\n",
       "    </tr>\n",
       "    <tr>\n",
       "      <th>143339</th>\n",
       "      <td>Italy</td>\n",
       "      <td>Many people feel Fiano represents southern Ita...</td>\n",
       "    </tr>\n",
       "    <tr>\n",
       "      <th>143340</th>\n",
       "      <td>France</td>\n",
       "      <td>Offers an intriguing nose with ginger, lime an...</td>\n",
       "    </tr>\n",
       "    <tr>\n",
       "      <th>143341</th>\n",
       "      <td>Italy</td>\n",
       "      <td>This classic example comes from a cru vineyard...</td>\n",
       "    </tr>\n",
       "    <tr>\n",
       "      <th>143342</th>\n",
       "      <td>France</td>\n",
       "      <td>A perfect salmon shade, with scents of peaches...</td>\n",
       "    </tr>\n",
       "    <tr>\n",
       "      <th>143343</th>\n",
       "      <td>Italy</td>\n",
       "      <td>More Pinot Grigios should taste like this. A r...</td>\n",
       "    </tr>\n",
       "  </tbody>\n",
       "</table>\n",
       "<p>143344 rows × 2 columns</p>\n",
       "</div>\n",
       "      <button class=\"colab-df-convert\" onclick=\"convertToInteractive('df-f49e2fcf-e1c8-4e7a-b04e-70090bc1d0ed')\"\n",
       "              title=\"Convert this dataframe to an interactive table.\"\n",
       "              style=\"display:none;\">\n",
       "        \n",
       "  <svg xmlns=\"http://www.w3.org/2000/svg\" height=\"24px\"viewBox=\"0 0 24 24\"\n",
       "       width=\"24px\">\n",
       "    <path d=\"M0 0h24v24H0V0z\" fill=\"none\"/>\n",
       "    <path d=\"M18.56 5.44l.94 2.06.94-2.06 2.06-.94-2.06-.94-.94-2.06-.94 2.06-2.06.94zm-11 1L8.5 8.5l.94-2.06 2.06-.94-2.06-.94L8.5 2.5l-.94 2.06-2.06.94zm10 10l.94 2.06.94-2.06 2.06-.94-2.06-.94-.94-2.06-.94 2.06-2.06.94z\"/><path d=\"M17.41 7.96l-1.37-1.37c-.4-.4-.92-.59-1.43-.59-.52 0-1.04.2-1.43.59L10.3 9.45l-7.72 7.72c-.78.78-.78 2.05 0 2.83L4 21.41c.39.39.9.59 1.41.59.51 0 1.02-.2 1.41-.59l7.78-7.78 2.81-2.81c.8-.78.8-2.07 0-2.86zM5.41 20L4 18.59l7.72-7.72 1.47 1.35L5.41 20z\"/>\n",
       "  </svg>\n",
       "      </button>\n",
       "      \n",
       "  <style>\n",
       "    .colab-df-container {\n",
       "      display:flex;\n",
       "      flex-wrap:wrap;\n",
       "      gap: 12px;\n",
       "    }\n",
       "\n",
       "    .colab-df-convert {\n",
       "      background-color: #E8F0FE;\n",
       "      border: none;\n",
       "      border-radius: 50%;\n",
       "      cursor: pointer;\n",
       "      display: none;\n",
       "      fill: #1967D2;\n",
       "      height: 32px;\n",
       "      padding: 0 0 0 0;\n",
       "      width: 32px;\n",
       "    }\n",
       "\n",
       "    .colab-df-convert:hover {\n",
       "      background-color: #E2EBFA;\n",
       "      box-shadow: 0px 1px 2px rgba(60, 64, 67, 0.3), 0px 1px 3px 1px rgba(60, 64, 67, 0.15);\n",
       "      fill: #174EA6;\n",
       "    }\n",
       "\n",
       "    [theme=dark] .colab-df-convert {\n",
       "      background-color: #3B4455;\n",
       "      fill: #D2E3FC;\n",
       "    }\n",
       "\n",
       "    [theme=dark] .colab-df-convert:hover {\n",
       "      background-color: #434B5C;\n",
       "      box-shadow: 0px 1px 3px 1px rgba(0, 0, 0, 0.15);\n",
       "      filter: drop-shadow(0px 1px 2px rgba(0, 0, 0, 0.3));\n",
       "      fill: #FFFFFF;\n",
       "    }\n",
       "  </style>\n",
       "\n",
       "      <script>\n",
       "        const buttonEl =\n",
       "          document.querySelector('#df-f49e2fcf-e1c8-4e7a-b04e-70090bc1d0ed button.colab-df-convert');\n",
       "        buttonEl.style.display =\n",
       "          google.colab.kernel.accessAllowed ? 'block' : 'none';\n",
       "\n",
       "        async function convertToInteractive(key) {\n",
       "          const element = document.querySelector('#df-f49e2fcf-e1c8-4e7a-b04e-70090bc1d0ed');\n",
       "          const dataTable =\n",
       "            await google.colab.kernel.invokeFunction('convertToInteractive',\n",
       "                                                     [key], {});\n",
       "          if (!dataTable) return;\n",
       "\n",
       "          const docLinkHtml = 'Like what you see? Visit the ' +\n",
       "            '<a target=\"_blank\" href=https://colab.research.google.com/notebooks/data_table.ipynb>data table notebook</a>'\n",
       "            + ' to learn more about interactive tables.';\n",
       "          element.innerHTML = '';\n",
       "          dataTable['output_type'] = 'display_data';\n",
       "          await google.colab.output.renderOutput(dataTable, element);\n",
       "          const docLink = document.createElement('div');\n",
       "          docLink.innerHTML = docLinkHtml;\n",
       "          element.appendChild(docLink);\n",
       "        }\n",
       "      </script>\n",
       "    </div>\n",
       "  </div>\n",
       "  "
      ],
      "text/plain": [
       "       country                                        description\n",
       "0           US  This tremendous 100% varietal wine hails from ...\n",
       "1        Spain  Ripe aromas of fig, blackberry and cassis are ...\n",
       "2           US  Mac Watson honors the memory of a wine once ma...\n",
       "3           US  This spent 20 months in 30% new French oak, an...\n",
       "4       France  This is the top wine from La Bégude, named aft...\n",
       "...        ...                                                ...\n",
       "143339   Italy  Many people feel Fiano represents southern Ita...\n",
       "143340  France  Offers an intriguing nose with ginger, lime an...\n",
       "143341   Italy  This classic example comes from a cru vineyard...\n",
       "143342  France  A perfect salmon shade, with scents of peaches...\n",
       "143343   Italy  More Pinot Grigios should taste like this. A r...\n",
       "\n",
       "[143344 rows x 2 columns]"
      ]
     },
     "execution_count": 10,
     "metadata": {},
     "output_type": "execute_result"
    }
   ],
   "source": [
    "res_stats = df2.groupby('country')['country'].agg('count').sort_values(ascending = False)\n",
    "res_stats\n",
    "res_stats_less_than_3000 = res_stats[res_stats < 3000]\n",
    "df2.country = df2.country.apply(lambda x: 'other' if x in res_stats_less_than_3000 else x)\n",
    "df2 = df2[df2['country'] != 'other']\n",
    "df2.index = np.arange(0, len(df2))\n",
    "df2"
   ]
  },
  {
   "cell_type": "markdown",
   "metadata": {},
   "source": [
    "### 3.2 NLP part\n",
    "\n",
    "We will delete punctuation and stop words, since the presence of these symbols will not make our model perform better. Moreover, it can result in worse performance, overfitting, and more time to train the model\n",
    "\n",
    "For doing so, we will use NLTK library. This code will take from 10 to 15 minutes, on average, to compile, which is much more than everything else in a Machine Learning section combined. However, I still find this step useful and necessary"
   ]
  },
  {
   "cell_type": "code",
   "execution_count": 11,
   "metadata": {
    "colab": {
     "base_uri": "https://localhost:8080/"
    },
    "id": "hWgg7nXwUSxv",
    "outputId": "4a8f605d-d8e0-4c71-dc1f-cd978339b503"
   },
   "outputs": [
    {
     "name": "stderr",
     "output_type": "stream",
     "text": [
      "[nltk_data] Downloading package stopwords to /root/nltk_data...\n",
      "[nltk_data]   Unzipping corpora/stopwords.zip.\n"
     ]
    }
   ],
   "source": [
    "import nltk\n",
    "from nltk import word_tokenize\n",
    "nltk.download('stopwords')\n",
    "from nltk.corpus import stopwords\n",
    "import string\n",
    "from sklearn.feature_extraction.text import CountVectorizer\n",
    "def text_cleaning(a):\n",
    "  remove_punctuation = [char for char in a if char not in string.punctuation]\n",
    "  remove_punctuation = ''.join(remove_punctuation)\n",
    "  remove_punctuation = [word for word in remove_punctuation.split() if word.lower() not in stopwords.words('english')]\n",
    "  return ' '.join(remove_punctuation)\n",
    "\n",
    "df2['description'] = df2['description'].apply(text_cleaning)"
   ]
  },
  {
   "cell_type": "markdown",
   "metadata": {},
   "source": [
    "### 4 Machine Learning"
   ]
  },
  {
   "cell_type": "markdown",
   "metadata": {},
   "source": [
    "### 4.1 Model selection\n",
    "\n",
    "Initially, I wanted to use both Naive Bayes classifier and SVM classifier. When I was working with them previously, the former one turned out to be much faster but less efficient than the latter one. However, we will implement a very slow yet efficient algorithm in Deep Learning part, so we do not probably need one more slow algorithm. I also do not want to implement SVM classifier, since there are already a lot of interesting and important things in this project\n",
    "\n",
    "That is why, we will use Naive Bayes only. It is a very simple one. We just memorise typical combinations of words that are suitable for different classes. In the end, we will be able to calculate the conditional probabilities. So, we choose the most likely class given the combinations of words we have. The problem of the algorithm (what actually makes it naive and relatively fast at the same time) is that order does not matter. However, we understand, that it actually matters, since by changing the order of words in a sentence we can change the whole structure and point of the sentence"
   ]
  },
  {
   "cell_type": "markdown",
   "metadata": {},
   "source": [
    "### 4.2 Metrics\n",
    "\n",
    "In this problem, I do not care too much about False Positives or False Negatives. If a Spanish wine was considered as not Spanish, it is not a big problem. On the other hand, if not Spanish wine was considered as Spanish, it is also not a big problem. Therefore, the most important metric is Accuracy, since both Precision and Recall are not significant for us in the context of problem. However, we deal with imbalaced dataset, where Accuracy is bad in terms of model evaluation. That is why, we will look at Accuracy, Precision, Recall, and Confusion Matrix. Checking more metrics is always better when we want to compare different models. Balanced dataset can be worse in terms of Accuracy than the imbalanced one. However, the general performance is usually better"
   ]
  },
  {
   "cell_type": "markdown",
   "metadata": {},
   "source": [
    "### 4.3 Working with imbalanced dataset\n",
    "\n",
    "We alredy processed our data and got df2. Now we will run our algorithm on this table using standard train-test split approach, calculate all the necessary metrics, and plot the confusion matrix. There is no point in validation since there is actually nothing to tune"
   ]
  },
  {
   "cell_type": "code",
   "execution_count": 12,
   "metadata": {
    "colab": {
     "base_uri": "https://localhost:8080/",
     "height": 874
    },
    "id": "YG_6h5eQCKUt",
    "outputId": "892401a6-2a9c-43cf-e7e4-a0f75d6ac3cc"
   },
   "outputs": [
    {
     "name": "stdout",
     "output_type": "stream",
     "text": [
      "\n",
      "Accuracy is :  0.8562210052670132\n",
      "              precision    recall  f1-score   support\n",
      "\n",
      "   Argentina       0.70      0.55      0.62      1088\n",
      "   Australia       0.67      0.68      0.68       977\n",
      "     Austria       0.89      0.31      0.46       616\n",
      "       Chile       0.74      0.58      0.65      1141\n",
      "      France       0.76      0.87      0.81      4219\n",
      "       Italy       0.95      0.94      0.94      4673\n",
      " New Zealand       0.83      0.65      0.73       664\n",
      "    Portugal       0.96      0.37      0.54      1070\n",
      "       Spain       0.60      0.89      0.72      1582\n",
      "          US       0.93      0.96      0.95     12639\n",
      "\n",
      "    accuracy                           0.86     28669\n",
      "   macro avg       0.81      0.68      0.71     28669\n",
      "weighted avg       0.86      0.86      0.85     28669\n",
      "\n"
     ]
    },
    {
     "data": {
      "image/png": "[encoded data removed]",
      "text/plain": [
       "<Figure size 1152x648 with 2 Axes>"
      ]
     },
     "metadata": {
      "needs_background": "light"
     },
     "output_type": "display_data"
    }
   ],
   "source": [
    "from sklearn.model_selection import train_test_split\n",
    "x_train, x_test, y_train, y_test = train_test_split(df2.description, df2.country, test_size = 0.2)\n",
    "from sklearn.feature_extraction.text import CountVectorizer\n",
    "v = CountVectorizer()\n",
    "x_train_count = v.fit_transform(x_train.values)\n",
    "from sklearn.naive_bayes import MultinomialNB\n",
    "model = MultinomialNB()\n",
    "model.fit(x_train_count,y_train)\n",
    "x_test_count = v.transform(x_test)\n",
    "model_predictions = model.predict(x_test_count)\n",
    "from sklearn.metrics import confusion_matrix\n",
    "import seaborn as sns\n",
    "import matplotlib.pyplot as plt\n",
    "plt.gcf().set_size_inches(16, 9)\n",
    "# accuracy on X_test\n",
    "accuracy = model.score(x_test_count, y_test)\n",
    "conf_mat = confusion_matrix(y_test, model_predictions, normalize=\"true\")\n",
    "# Plot the confusion matrix\n",
    "sns.heatmap(conf_mat.T, annot=True, fmt=\".0%\", cmap=\"cividis\")\n",
    "plt.xlabel(\"True label\")\n",
    "plt.ylabel(\"Predicted label\")\n",
    "print('')\n",
    "print('Accuracy is : ', accuracy)\n",
    "from sklearn.metrics import classification_report\n",
    "print(classification_report(y_test, model.predict(x_test_count)))"
   ]
  },
  {
   "cell_type": "markdown",
   "metadata": {},
   "source": [
    "### 4.4 Results\n",
    "\n",
    "Despite the Accuracy is high, other metrics are low. The feature of the imbalanced dataset is low Recall for dominated classes since they are often recognized as dominant classes (hence, there are many False Negative examples). Here we see that Recall is relatively high for big classes and relatively low for small classes. Sometimes it is less than 40 percent\n",
    "\n",
    "In terms of confusion matrix, we see that two classes are more than 50% of the time recognized as something else, which tells me that results are unsatisfying"
   ]
  },
  {
   "cell_type": "markdown",
   "metadata": {},
   "source": [
    "### 4.5 Why other metrics (not just Accuracy) should be considered ad well?\n",
    "\n",
    "Accuracy is a very good metric for several reasons. Firstly, it is very intuitively clear. Everyone understands that the percentage of observations that were correctly classified can tell us whether the model is performing good or bad. Secondly, it it simple to interpret. Again, it is intuitively clear that 60% Accuracy is probably not so nice, while 95% seems very good\n",
    "\n",
    "However, suppose that our Accuracy is 90%. This means that our Accuracy explains perfectly these 90% of observations. On the other hand, we do not know anything about other 10%. Other metrics, such as Precision and Recall, explain this relatively well. By observing their values, we can say, whether the model is consistent or not, and, if not, whether the problem is in False Positives (if Precision is low) or in False Negatives (if Recall is low)"
   ]
  },
  {
   "cell_type": "code",
   "execution_count": 13,
   "metadata": {
    "colab": {
     "base_uri": "https://localhost:8080/",
     "height": 419
    },
    "id": "t8ohm9FAUUJ0",
    "outputId": "427b299e-b97f-42b7-f433-bb759e7a15d4"
   },
   "outputs": [
    {
     "data": {
      "text/html": [
       "\n",
       "  <div id=\"df-a3cef817-4458-429f-aa5b-dd6339d5e551\">\n",
       "    <div class=\"colab-df-container\">\n",
       "      <div>\n",
       "<style scoped>\n",
       "    .dataframe tbody tr th:only-of-type {\n",
       "        vertical-align: middle;\n",
       "    }\n",
       "\n",
       "    .dataframe tbody tr th {\n",
       "        vertical-align: top;\n",
       "    }\n",
       "\n",
       "    .dataframe thead th {\n",
       "        text-align: right;\n",
       "    }\n",
       "</style>\n",
       "<table border=\"1\" class=\"dataframe\">\n",
       "  <thead>\n",
       "    <tr style=\"text-align: right;\">\n",
       "      <th></th>\n",
       "      <th>country</th>\n",
       "      <th>description</th>\n",
       "    </tr>\n",
       "  </thead>\n",
       "  <tbody>\n",
       "    <tr>\n",
       "      <th>0</th>\n",
       "      <td>US</td>\n",
       "      <td>tremendous 100 varietal wine hails Oakville ag...</td>\n",
       "    </tr>\n",
       "    <tr>\n",
       "      <th>1</th>\n",
       "      <td>Spain</td>\n",
       "      <td>Ripe aromas fig blackberry cassis softened swe...</td>\n",
       "    </tr>\n",
       "    <tr>\n",
       "      <th>2</th>\n",
       "      <td>US</td>\n",
       "      <td>Mac Watson honors memory wine made mother trem...</td>\n",
       "    </tr>\n",
       "    <tr>\n",
       "      <th>3</th>\n",
       "      <td>US</td>\n",
       "      <td>spent 20 months 30 new French oak incorporates...</td>\n",
       "    </tr>\n",
       "    <tr>\n",
       "      <th>4</th>\n",
       "      <td>France</td>\n",
       "      <td>top wine La Bégude named highest point vineyar...</td>\n",
       "    </tr>\n",
       "    <tr>\n",
       "      <th>...</th>\n",
       "      <td>...</td>\n",
       "      <td>...</td>\n",
       "    </tr>\n",
       "    <tr>\n",
       "      <th>143339</th>\n",
       "      <td>Italy</td>\n",
       "      <td>Many people feel Fiano represents southern Ita...</td>\n",
       "    </tr>\n",
       "    <tr>\n",
       "      <th>143340</th>\n",
       "      <td>France</td>\n",
       "      <td>Offers intriguing nose ginger lime floral elem...</td>\n",
       "    </tr>\n",
       "    <tr>\n",
       "      <th>143341</th>\n",
       "      <td>Italy</td>\n",
       "      <td>classic example comes cru vineyard called Terr...</td>\n",
       "    </tr>\n",
       "    <tr>\n",
       "      <th>143342</th>\n",
       "      <td>France</td>\n",
       "      <td>perfect salmon shade scents peaches cherries t...</td>\n",
       "    </tr>\n",
       "    <tr>\n",
       "      <th>143343</th>\n",
       "      <td>Italy</td>\n",
       "      <td>Pinot Grigios taste like rich pearlike nose fo...</td>\n",
       "    </tr>\n",
       "  </tbody>\n",
       "</table>\n",
       "<p>143344 rows × 2 columns</p>\n",
       "</div>\n",
       "      <button class=\"colab-df-convert\" onclick=\"convertToInteractive('df-a3cef817-4458-429f-aa5b-dd6339d5e551')\"\n",
       "              title=\"Convert this dataframe to an interactive table.\"\n",
       "              style=\"display:none;\">\n",
       "        \n",
       "  <svg xmlns=\"http://www.w3.org/2000/svg\" height=\"24px\"viewBox=\"0 0 24 24\"\n",
       "       width=\"24px\">\n",
       "    <path d=\"M0 0h24v24H0V0z\" fill=\"none\"/>\n",
       "    <path d=\"M18.56 5.44l.94 2.06.94-2.06 2.06-.94-2.06-.94-.94-2.06-.94 2.06-2.06.94zm-11 1L8.5 8.5l.94-2.06 2.06-.94-2.06-.94L8.5 2.5l-.94 2.06-2.06.94zm10 10l.94 2.06.94-2.06 2.06-.94-2.06-.94-.94-2.06-.94 2.06-2.06.94z\"/><path d=\"M17.41 7.96l-1.37-1.37c-.4-.4-.92-.59-1.43-.59-.52 0-1.04.2-1.43.59L10.3 9.45l-7.72 7.72c-.78.78-.78 2.05 0 2.83L4 21.41c.39.39.9.59 1.41.59.51 0 1.02-.2 1.41-.59l7.78-7.78 2.81-2.81c.8-.78.8-2.07 0-2.86zM5.41 20L4 18.59l7.72-7.72 1.47 1.35L5.41 20z\"/>\n",
       "  </svg>\n",
       "      </button>\n",
       "      \n",
       "  <style>\n",
       "    .colab-df-container {\n",
       "      display:flex;\n",
       "      flex-wrap:wrap;\n",
       "      gap: 12px;\n",
       "    }\n",
       "\n",
       "    .colab-df-convert {\n",
       "      background-color: #E8F0FE;\n",
       "      border: none;\n",
       "      border-radius: 50%;\n",
       "      cursor: pointer;\n",
       "      display: none;\n",
       "      fill: #1967D2;\n",
       "      height: 32px;\n",
       "      padding: 0 0 0 0;\n",
       "      width: 32px;\n",
       "    }\n",
       "\n",
       "    .colab-df-convert:hover {\n",
       "      background-color: #E2EBFA;\n",
       "      box-shadow: 0px 1px 2px rgba(60, 64, 67, 0.3), 0px 1px 3px 1px rgba(60, 64, 67, 0.15);\n",
       "      fill: #174EA6;\n",
       "    }\n",
       "\n",
       "    [theme=dark] .colab-df-convert {\n",
       "      background-color: #3B4455;\n",
       "      fill: #D2E3FC;\n",
       "    }\n",
       "\n",
       "    [theme=dark] .colab-df-convert:hover {\n",
       "      background-color: #434B5C;\n",
       "      box-shadow: 0px 1px 3px 1px rgba(0, 0, 0, 0.15);\n",
       "      filter: drop-shadow(0px 1px 2px rgba(0, 0, 0, 0.3));\n",
       "      fill: #FFFFFF;\n",
       "    }\n",
       "  </style>\n",
       "\n",
       "      <script>\n",
       "        const buttonEl =\n",
       "          document.querySelector('#df-a3cef817-4458-429f-aa5b-dd6339d5e551 button.colab-df-convert');\n",
       "        buttonEl.style.display =\n",
       "          google.colab.kernel.accessAllowed ? 'block' : 'none';\n",
       "\n",
       "        async function convertToInteractive(key) {\n",
       "          const element = document.querySelector('#df-a3cef817-4458-429f-aa5b-dd6339d5e551');\n",
       "          const dataTable =\n",
       "            await google.colab.kernel.invokeFunction('convertToInteractive',\n",
       "                                                     [key], {});\n",
       "          if (!dataTable) return;\n",
       "\n",
       "          const docLinkHtml = 'Like what you see? Visit the ' +\n",
       "            '<a target=\"_blank\" href=https://colab.research.google.com/notebooks/data_table.ipynb>data table notebook</a>'\n",
       "            + ' to learn more about interactive tables.';\n",
       "          element.innerHTML = '';\n",
       "          dataTable['output_type'] = 'display_data';\n",
       "          await google.colab.output.renderOutput(dataTable, element);\n",
       "          const docLink = document.createElement('div');\n",
       "          docLink.innerHTML = docLinkHtml;\n",
       "          element.appendChild(docLink);\n",
       "        }\n",
       "      </script>\n",
       "    </div>\n",
       "  </div>\n",
       "  "
      ],
      "text/plain": [
       "       country                                        description\n",
       "0           US  tremendous 100 varietal wine hails Oakville ag...\n",
       "1        Spain  Ripe aromas fig blackberry cassis softened swe...\n",
       "2           US  Mac Watson honors memory wine made mother trem...\n",
       "3           US  spent 20 months 30 new French oak incorporates...\n",
       "4       France  top wine La Bégude named highest point vineyar...\n",
       "...        ...                                                ...\n",
       "143339   Italy  Many people feel Fiano represents southern Ita...\n",
       "143340  France  Offers intriguing nose ginger lime floral elem...\n",
       "143341   Italy  classic example comes cru vineyard called Terr...\n",
       "143342  France  perfect salmon shade scents peaches cherries t...\n",
       "143343   Italy  Pinot Grigios taste like rich pearlike nose fo...\n",
       "\n",
       "[143344 rows x 2 columns]"
      ]
     },
     "execution_count": 13,
     "metadata": {},
     "output_type": "execute_result"
    }
   ],
   "source": [
    "df2"
   ]
  },
  {
   "cell_type": "markdown",
   "metadata": {},
   "source": [
    "### 4.6 Do the same with balanced dataset (we will use undersampling)\n",
    "\n",
    "The idea is that we will count the number of records within the rarest class and select this number of observations from all other classes. As a result, if we randomly choose an observation, each class will equally likely correspond to it"
   ]
  },
  {
   "cell_type": "code",
   "execution_count": 14,
   "metadata": {
    "colab": {
     "base_uri": "https://localhost:8080/",
     "height": 419
    },
    "id": "gfyxuVfHgviy",
    "outputId": "292cb7c8-b171-43af-c5ec-f8cb0af8c6e2"
   },
   "outputs": [
    {
     "data": {
      "text/html": [
       "\n",
       "  <div id=\"df-c8b19d46-04a7-4e7d-94e5-7c048cc4fdd7\">\n",
       "    <div class=\"colab-df-container\">\n",
       "      <div>\n",
       "<style scoped>\n",
       "    .dataframe tbody tr th:only-of-type {\n",
       "        vertical-align: middle;\n",
       "    }\n",
       "\n",
       "    .dataframe tbody tr th {\n",
       "        vertical-align: top;\n",
       "    }\n",
       "\n",
       "    .dataframe thead th {\n",
       "        text-align: right;\n",
       "    }\n",
       "</style>\n",
       "<table border=\"1\" class=\"dataframe\">\n",
       "  <thead>\n",
       "    <tr style=\"text-align: right;\">\n",
       "      <th></th>\n",
       "      <th>country</th>\n",
       "      <th>description</th>\n",
       "    </tr>\n",
       "  </thead>\n",
       "  <tbody>\n",
       "    <tr>\n",
       "      <th>0</th>\n",
       "      <td>Argentina</td>\n",
       "      <td>Opens earthy muscle nose soon loses focus fres...</td>\n",
       "    </tr>\n",
       "    <tr>\n",
       "      <th>1</th>\n",
       "      <td>Argentina</td>\n",
       "      <td>nose exudes popcorn butter spice palate downri...</td>\n",
       "    </tr>\n",
       "    <tr>\n",
       "      <th>2</th>\n",
       "      <td>Argentina</td>\n",
       "      <td>touch chunky oily nose part smacks tropical fr...</td>\n",
       "    </tr>\n",
       "    <tr>\n",
       "      <th>3</th>\n",
       "      <td>Argentina</td>\n",
       "      <td>Reduction iodine matchstick aromas cloud bouqu...</td>\n",
       "    </tr>\n",
       "    <tr>\n",
       "      <th>4</th>\n",
       "      <td>Argentina</td>\n",
       "      <td>Lean mildly green aromas offer minimal fruit t...</td>\n",
       "    </tr>\n",
       "    <tr>\n",
       "      <th>...</th>\n",
       "      <td>...</td>\n",
       "      <td>...</td>\n",
       "    </tr>\n",
       "    <tr>\n",
       "      <th>30565</th>\n",
       "      <td>US</td>\n",
       "      <td>Volume Zin vineyard warmest part valley grapes...</td>\n",
       "    </tr>\n",
       "    <tr>\n",
       "      <th>30566</th>\n",
       "      <td>US</td>\n",
       "      <td>fact variety still ground county says somethin...</td>\n",
       "    </tr>\n",
       "    <tr>\n",
       "      <th>30567</th>\n",
       "      <td>US</td>\n",
       "      <td>good sound red wine made five Bordeaux varieti...</td>\n",
       "    </tr>\n",
       "    <tr>\n",
       "      <th>30568</th>\n",
       "      <td>US</td>\n",
       "      <td>fine selection vineyards Dineen Red Willow Sti...</td>\n",
       "    </tr>\n",
       "    <tr>\n",
       "      <th>30569</th>\n",
       "      <td>US</td>\n",
       "      <td>Lovely crisp acidity marks dry complex Pinot N...</td>\n",
       "    </tr>\n",
       "  </tbody>\n",
       "</table>\n",
       "<p>30570 rows × 2 columns</p>\n",
       "</div>\n",
       "      <button class=\"colab-df-convert\" onclick=\"convertToInteractive('df-c8b19d46-04a7-4e7d-94e5-7c048cc4fdd7')\"\n",
       "              title=\"Convert this dataframe to an interactive table.\"\n",
       "              style=\"display:none;\">\n",
       "        \n",
       "  <svg xmlns=\"http://www.w3.org/2000/svg\" height=\"24px\"viewBox=\"0 0 24 24\"\n",
       "       width=\"24px\">\n",
       "    <path d=\"M0 0h24v24H0V0z\" fill=\"none\"/>\n",
       "    <path d=\"M18.56 5.44l.94 2.06.94-2.06 2.06-.94-2.06-.94-.94-2.06-.94 2.06-2.06.94zm-11 1L8.5 8.5l.94-2.06 2.06-.94-2.06-.94L8.5 2.5l-.94 2.06-2.06.94zm10 10l.94 2.06.94-2.06 2.06-.94-2.06-.94-.94-2.06-.94 2.06-2.06.94z\"/><path d=\"M17.41 7.96l-1.37-1.37c-.4-.4-.92-.59-1.43-.59-.52 0-1.04.2-1.43.59L10.3 9.45l-7.72 7.72c-.78.78-.78 2.05 0 2.83L4 21.41c.39.39.9.59 1.41.59.51 0 1.02-.2 1.41-.59l7.78-7.78 2.81-2.81c.8-.78.8-2.07 0-2.86zM5.41 20L4 18.59l7.72-7.72 1.47 1.35L5.41 20z\"/>\n",
       "  </svg>\n",
       "      </button>\n",
       "      \n",
       "  <style>\n",
       "    .colab-df-container {\n",
       "      display:flex;\n",
       "      flex-wrap:wrap;\n",
       "      gap: 12px;\n",
       "    }\n",
       "\n",
       "    .colab-df-convert {\n",
       "      background-color: #E8F0FE;\n",
       "      border: none;\n",
       "      border-radius: 50%;\n",
       "      cursor: pointer;\n",
       "      display: none;\n",
       "      fill: #1967D2;\n",
       "      height: 32px;\n",
       "      padding: 0 0 0 0;\n",
       "      width: 32px;\n",
       "    }\n",
       "\n",
       "    .colab-df-convert:hover {\n",
       "      background-color: #E2EBFA;\n",
       "      box-shadow: 0px 1px 2px rgba(60, 64, 67, 0.3), 0px 1px 3px 1px rgba(60, 64, 67, 0.15);\n",
       "      fill: #174EA6;\n",
       "    }\n",
       "\n",
       "    [theme=dark] .colab-df-convert {\n",
       "      background-color: #3B4455;\n",
       "      fill: #D2E3FC;\n",
       "    }\n",
       "\n",
       "    [theme=dark] .colab-df-convert:hover {\n",
       "      background-color: #434B5C;\n",
       "      box-shadow: 0px 1px 3px 1px rgba(0, 0, 0, 0.15);\n",
       "      filter: drop-shadow(0px 1px 2px rgba(0, 0, 0, 0.3));\n",
       "      fill: #FFFFFF;\n",
       "    }\n",
       "  </style>\n",
       "\n",
       "      <script>\n",
       "        const buttonEl =\n",
       "          document.querySelector('#df-c8b19d46-04a7-4e7d-94e5-7c048cc4fdd7 button.colab-df-convert');\n",
       "        buttonEl.style.display =\n",
       "          google.colab.kernel.accessAllowed ? 'block' : 'none';\n",
       "\n",
       "        async function convertToInteractive(key) {\n",
       "          const element = document.querySelector('#df-c8b19d46-04a7-4e7d-94e5-7c048cc4fdd7');\n",
       "          const dataTable =\n",
       "            await google.colab.kernel.invokeFunction('convertToInteractive',\n",
       "                                                     [key], {});\n",
       "          if (!dataTable) return;\n",
       "\n",
       "          const docLinkHtml = 'Like what you see? Visit the ' +\n",
       "            '<a target=\"_blank\" href=https://colab.research.google.com/notebooks/data_table.ipynb>data table notebook</a>'\n",
       "            + ' to learn more about interactive tables.';\n",
       "          element.innerHTML = '';\n",
       "          dataTable['output_type'] = 'display_data';\n",
       "          await google.colab.output.renderOutput(dataTable, element);\n",
       "          const docLink = document.createElement('div');\n",
       "          docLink.innerHTML = docLinkHtml;\n",
       "          element.appendChild(docLink);\n",
       "        }\n",
       "      </script>\n",
       "    </div>\n",
       "  </div>\n",
       "  "
      ],
      "text/plain": [
       "         country                                        description\n",
       "0      Argentina  Opens earthy muscle nose soon loses focus fres...\n",
       "1      Argentina  nose exudes popcorn butter spice palate downri...\n",
       "2      Argentina  touch chunky oily nose part smacks tropical fr...\n",
       "3      Argentina  Reduction iodine matchstick aromas cloud bouqu...\n",
       "4      Argentina  Lean mildly green aromas offer minimal fruit t...\n",
       "...          ...                                                ...\n",
       "30565         US  Volume Zin vineyard warmest part valley grapes...\n",
       "30566         US  fact variety still ground county says somethin...\n",
       "30567         US  good sound red wine made five Bordeaux varieti...\n",
       "30568         US  fine selection vineyards Dineen Red Willow Sti...\n",
       "30569         US  Lovely crisp acidity marks dry complex Pinot N...\n",
       "\n",
       "[30570 rows x 2 columns]"
      ]
     },
     "execution_count": 14,
     "metadata": {},
     "output_type": "execute_result"
    }
   ],
   "source": [
    "from imblearn.under_sampling import RandomUnderSampler\n",
    "under_sampler = RandomUnderSampler()\n",
    "df3 = under_sampler.fit_resample(df2, df2['country'])\n",
    "df4 = df3[0]\n",
    "df4"
   ]
  },
  {
   "cell_type": "code",
   "execution_count": 15,
   "metadata": {
    "colab": {
     "base_uri": "https://localhost:8080/",
     "height": 874
    },
    "id": "RFPisT4clG9u",
    "outputId": "6b14475e-c561-49f5-a60c-7e0b2919bc31"
   },
   "outputs": [
    {
     "name": "stdout",
     "output_type": "stream",
     "text": [
      "\n",
      "Accuracy is :  0.7414131501472031\n",
      "              precision    recall  f1-score   support\n",
      "\n",
      "   Argentina       0.62      0.69      0.65       590\n",
      "   Australia       0.69      0.78      0.73       567\n",
      "     Austria       0.77      0.77      0.77       643\n",
      "       Chile       0.66      0.63      0.65       615\n",
      "      France       0.73      0.46      0.57       624\n",
      "       Italy       0.96      0.93      0.94       626\n",
      " New Zealand       0.76      0.85      0.80       579\n",
      "    Portugal       0.69      0.79      0.73       628\n",
      "       Spain       0.65      0.72      0.68       591\n",
      "          US       0.92      0.80      0.85       651\n",
      "\n",
      "    accuracy                           0.74      6114\n",
      "   macro avg       0.74      0.74      0.74      6114\n",
      "weighted avg       0.75      0.74      0.74      6114\n",
      "\n"
     ]
    },
    {
     "data": {
      "image/png": "[encoded data removed]",
      "text/plain": [
       "<Figure size 1152x648 with 2 Axes>"
      ]
     },
     "metadata": {
      "needs_background": "light"
     },
     "output_type": "display_data"
    }
   ],
   "source": [
    "from sklearn.model_selection import train_test_split\n",
    "x_train, x_test, y_train, y_test = train_test_split(df4.description, df4.country, test_size = 0.2)\n",
    "from sklearn.feature_extraction.text import CountVectorizer\n",
    "v = CountVectorizer()\n",
    "x_train_count = v.fit_transform(x_train.values)\n",
    "from sklearn.naive_bayes import MultinomialNB\n",
    "model = MultinomialNB()\n",
    "model.fit(x_train_count,y_train)\n",
    "x_test_count = v.transform(x_test)\n",
    "model_predictions = model.predict(x_test_count)\n",
    "from sklearn.metrics import confusion_matrix\n",
    "import seaborn as sns\n",
    "import matplotlib.pyplot as plt\n",
    "plt.gcf().set_size_inches(16, 9)\n",
    "# accuracy on X_test\n",
    "accuracy = model.score(x_test_count, y_test)\n",
    "conf_mat = confusion_matrix(y_test, model_predictions, normalize=\"true\")\n",
    "# Plot the confusion matrix\n",
    "sns.heatmap(conf_mat.T, annot=True, fmt=\".0%\", cmap=\"cividis\")\n",
    "plt.xlabel(\"True label\")\n",
    "plt.ylabel(\"Predicted label\")\n",
    "print('')\n",
    "print('Accuracy is : ', accuracy)\n",
    "from sklearn.metrics import classification_report\n",
    "print(classification_report(y_test, model.predict(x_test_count)))"
   ]
  },
  {
   "cell_type": "markdown",
   "metadata": {},
   "source": [
    "### 4.7 Model performance on balanced dataset\n",
    "\n",
    "Accuracy is not lower, but it is equal to Precision and Recall. This means that our model has very low variance. Despite it makes mistakes more frequently than the previous model (higher bias), this model will be less likely to confuse classes with each other. As we see, now only one class is correctly classified less than half of the time"
   ]
  },
  {
   "cell_type": "markdown",
   "metadata": {},
   "source": [
    "### 4.8 One important thing before we move on\n",
    "\n",
    "The goal of the model is to maximize Accuracy. That is why if there are dominant classes, model will be very likely to assign those classes to random samples, since this will, on average, result in fewer mistakes. This results in overfitting. In the given case it might work well, but if I give another dataset for testing (say, a balanced version of this, the result will be bad). People might come up with a reasonable question - why inventors of those algorithms allow such ways to improve Accuracy by making the model very inconsistent and overfitted? The answer is simple - the models are built under an assumption of a balanced dataset. That is why (since in many situations datasets turn out to be imbalanced ones) we usually have to solve this problems on our own by either doing undersampling (useful when dataset is large) or oversampling (when dataset is small). The result is both loss in accuracy, and preventing overfitting (in our case, better predictions for dominated classes)"
   ]
  },
  {
   "cell_type": "markdown",
   "metadata": {},
   "source": [
    "# 5 Deep Learning part"
   ]
  },
  {
   "cell_type": "markdown",
   "metadata": {},
   "source": [
    "### 5.1 Useful information before we start\n",
    "\n",
    "In some more standard Machine Learning problems (say, regression or non-text classification) it is often sufficient to use Gradient Boosting techniques like CatBoost or LightGBM. Neural Networks, even though might be more accurate and solve problems in end-to-end manner, require a lot of data to train well (however, most of the time it is not a problem), and much more time to learn. In addition, these algorithms are complicated to explain, interpret (black boxes), and sometimes even understand. That is why I try to avoid using them when it is not necessary\n",
    "\n",
    "Note that the DL part of the code is actually not mine, I have taken it from an open source (see references) and adapted for our problem (there were some important changes). Non-trivial problems (such as this one) usually require doing some researches, seeing what other people have done so far, comparing their solutions and coming up with the one that you find the best. Most of the time, the solution will require some changes that are to be done by oneself. In particular, the author of the code was using testing set for both test and validation of the data, while I made one more additional set for validation"
   ]
  },
  {
   "cell_type": "markdown",
   "metadata": {},
   "source": [
    "### 5.2 Why Deep Learning is applicable to this problem?\n",
    "\n",
    "Most of Machine Learning algorithms cannot handle text data. As far as I am aware, most typically used algorithms are Naive Bayes and SVM classifier (for text classification). The drawbacks of the Naive Bayes I have already explained, while Support Vector Machine is a very general algorithm which might be used to solve probably any type of Supervised ML problems. That is why, I want to try something more specific. Neural Networks are mentioned to work exceptionally well in terms of text classification, since there are specific and unique algorithms designed for it. Additionally, now we will be able to introduce weights to our classes. In other words, we will handle imbalanced dataset problem without reducing the number of observations"
   ]
  },
  {
   "cell_type": "markdown",
   "metadata": {},
   "source": [
    "### 5.3 Plan\n",
    "\n",
    "I will try to do my best at explaining what we are doing here. In the case of Machine Learning algorithm everything is simple and standard, hence, I do not spend much time explaining the code. In case of Neural Networks I will. After that, we will do a comparison of these model with ML part and come up with conclusions"
   ]
  },
  {
   "cell_type": "markdown",
   "metadata": {},
   "source": [
    "### 5.4 Model construction"
   ]
  },
  {
   "cell_type": "markdown",
   "metadata": {},
   "source": [
    "###### 5.4.1 Weights"
   ]
  },
  {
   "cell_type": "code",
   "execution_count": 44,
   "metadata": {
    "id": "Wu5MrjqDKl-v"
   },
   "outputs": [],
   "source": [
    "from sklearn.utils import class_weight\n",
    "class_weights = list(class_weight.compute_class_weight(class_weight = 'balanced', \n",
    "                                                       classes = np.unique(df2['country']), \n",
    "                                                       y = df2['country']))"
   ]
  },
  {
   "cell_type": "code",
   "execution_count": 45,
   "metadata": {
    "colab": {
     "base_uri": "https://localhost:8080/"
    },
    "id": "QztGKXTFLP0O",
    "outputId": "d6bbdff5-c82c-42bb-8597-6af9184be5b5"
   },
   "outputs": [
    {
     "data": {
      "text/plain": [
       "US             62397\n",
       "Italy          23478\n",
       "France         21098\n",
       "Spain           8268\n",
       "Chile           5816\n",
       "Argentina       5631\n",
       "Portugal        5322\n",
       "Australia       4957\n",
       "New Zealand     3320\n",
       "Austria         3057\n",
       "Name: country, dtype: int64"
      ]
     },
     "execution_count": 45,
     "metadata": {},
     "output_type": "execute_result"
    }
   ],
   "source": [
    "df2['country'].value_counts()"
   ]
  },
  {
   "cell_type": "code",
   "execution_count": 46,
   "metadata": {
    "colab": {
     "base_uri": "https://localhost:8080/"
    },
    "id": "4qOojIjQLWyo",
    "outputId": "21e9efe9-019f-4e44-c9c0-7d69dd194ae3"
   },
   "outputs": [
    {
     "data": {
      "text/plain": [
       "[0.22972899338109204,\n",
       " 0.6105460431041826,\n",
       " 0.67941985022277,\n",
       " 1.7337203676826318,\n",
       " 2.4646492434662997,\n",
       " 2.545622447167466,\n",
       " 2.693423524990605,\n",
       " 2.8917490417591285,\n",
       " 4.317590361445784,\n",
       " 4.689041543997383]"
      ]
     },
     "execution_count": 46,
     "metadata": {},
     "output_type": "execute_result"
    }
   ],
   "source": [
    "class_weights.sort()\n",
    "class_weights"
   ]
  },
  {
   "cell_type": "markdown",
   "metadata": {},
   "source": [
    "As we see, the smaller the class is, the higher its weight is. Because of that, the model will not be able to increase accuracy by recognizing the dominant classes too often, since it will be penalized for misclassifying the minority samples"
   ]
  },
  {
   "cell_type": "code",
   "execution_count": 47,
   "metadata": {
    "id": "-sWBjhUWLe2N"
   },
   "outputs": [],
   "source": [
    "weights = {}\n",
    "for index, weight in enumerate(class_weights):\n",
    "  weights[index] = weight"
   ]
  },
  {
   "cell_type": "markdown",
   "metadata": {},
   "source": [
    "###### 5.4.2 Sets\n",
    "\n",
    "In terms of Machine Learning problems, I do not usually see the point in making 3 sets. To my mind, K-Fold Cross Validation is a reasonable substitution for validation set, since we have more metrics, every observation is used for both training and testing the data, and it is done in a simplier and more convenient way. However, in Deep Learning problems we are usually required to have a validation set, so we will split our data into 3 sets. This will be done by separating the training data from the other data in the first step, and by spliting the remaining data to validation and testing sets"
   ]
  },
  {
   "cell_type": "code",
   "execution_count": 48,
   "metadata": {
    "id": "zPnQxSgsmRrA"
   },
   "outputs": [],
   "source": [
    "x_train, x_rem, y_train, y_rem = train_test_split(df2.description,df2.country, train_size=0.8)\n",
    "x_valid, x_test, y_valid, y_test = train_test_split(x_rem,y_rem, test_size=0.5)\n",
    "import tensorflow as tf\n",
    "import tensorflow_hub as hub"
   ]
  },
  {
   "cell_type": "code",
   "execution_count": 49,
   "metadata": {
    "id": "Ls499L9IoxEB"
   },
   "outputs": [],
   "source": [
    "dataset_train = tf.data.Dataset.from_tensor_slices((x_train.values, y_train.values))\n",
    "dataset_test = tf.data.Dataset.from_tensor_slices((x_test.values, y_test.values))\n",
    "dataset_valid = tf.data.Dataset.from_tensor_slices((x_valid.values, y_valid.values))"
   ]
  },
  {
   "cell_type": "markdown",
   "metadata": {},
   "source": [
    "###### 5.4.3 Convert target column to numbers\n",
    "\n",
    "We will use Tensforlow's built-in hashtable for doing so. Note that we put classes in a special order (in a way that weights are ascending)"
   ]
  },
  {
   "cell_type": "code",
   "execution_count": 50,
   "metadata": {
    "id": "VVqpSh0poyDh"
   },
   "outputs": [],
   "source": [
    "\n",
    "\n",
    "\n",
    "table = tf.lookup.StaticHashTable(\n",
    "    initializer = tf.lookup.KeyValueTensorInitializer(\n",
    "        keys = tf.constant(['US', 'Italy', 'France', 'Spain', 'Chile', 'Argentina', 'Portugal', 'Australia', 'New Zealand', 'Austria']),\n",
    "        values = tf.constant([0, 1, 2, 3, 4, 5, 6, 7, 8, 9]),\n",
    "    ),\n",
    "    default_value = tf.constant(-1),\n",
    "    name = 'target_encoding'\n",
    ")\n",
    "\n",
    "def target(x):\n",
    "  return table.lookup(x)"
   ]
  },
  {
   "cell_type": "markdown",
   "metadata": {},
   "source": [
    "###### 5.4.4 Visual representation of the data"
   ]
  },
  {
   "cell_type": "code",
   "execution_count": 51,
   "metadata": {
    "colab": {
     "base_uri": "https://localhost:8080/"
    },
    "id": "Tk8-4v2rpllQ",
    "outputId": "d472238b-13ef-4d8c-e855-64ec3c1f77c1"
   },
   "outputs": [
    {
     "name": "stdout",
     "output_type": "stream",
     "text": [
      "b'mildly floral nose leads lean acidic palate flavors lemon green apple'\n",
      "3\n",
      "b'Norace blend Cannonau Syrah Carignano offers dried fruit spice backed tobacco black olive whiff blue flower mouthfeel dominated savory flavors peppercorn cured meat'\n",
      "1\n",
      "b'Overoaked hot sour raspberry fruit Plain simple wine way much wood tannin fire price outlandish'\n",
      "4\n",
      "b'Fragrant floral tones drying mineral notes characterize luminous Prosecco Brut sparkling wine delivers frothy peach herbal accents steady dose citrus zest'\n",
      "1\n",
      "b'surprisingly good show soggy vintage ripe bordering stewy rich notes prune blueberry mushroom forest floor tannins hard theres plenty toast spice finish 6020155 percent SangioveseCabernet SauvignonMerlotSyrah blend'\n",
      "1\n",
      "b'Stiff hard green leafy flavors tough tight tannins type Oregon Pinot needs breathing time decanting perhaps years cellar'\n",
      "0\n",
      "b'Immaculately clean ripe fruit display potpourri mixed berries High toned aromas bring accents wildflowers honey vanilla continuing pretty finish'\n",
      "0\n",
      "b'great example power come Grand Cru vineyard opulent dense intense energy drive Although wine marked medium sweet spice pepper give dry tight nervy edge wine still young best 2017'\n",
      "2\n",
      "b'Dark savory spicy aromas clove cinnamon prune red currant shows freshness medium density overall'\n",
      "1\n",
      "b'Muddy Waters 2007 James Hardwick Riesling made ripe offdry style marrying high Riesling alcohol 13 considerable residual sugar 16 gl result mediumbodied wine combining subtle mineral lime shadings lingering sweetness balanced tart acids'\n",
      "8\n"
     ]
    }
   ],
   "source": [
    "def show_batch(dataset, size=5):\n",
    "  for batch, label in dataset.take(size):\n",
    "    print(batch.numpy())\n",
    "    print(target(label).numpy())\n",
    "\n",
    "show_batch(dataset_test, 10)\n"
   ]
  },
  {
   "cell_type": "markdown",
   "metadata": {},
   "source": [
    "###### 5.4.5 Encoding (convert string values to numeric ones)"
   ]
  },
  {
   "cell_type": "code",
   "execution_count": 52,
   "metadata": {
    "id": "mGMbohSAqFSV"
   },
   "outputs": [],
   "source": [
    "def fetch(text, labels):\n",
    "  return text, tf.one_hot(target(labels), 10)\n"
   ]
  },
  {
   "cell_type": "code",
   "execution_count": 53,
   "metadata": {
    "id": "jo-AAIb3qQyo"
   },
   "outputs": [],
   "source": [
    "train_data_f = dataset_train.map(fetch)\n",
    "test_data_f = dataset_test.map(fetch) \n",
    "valid_data_f = dataset_valid.map(fetch) "
   ]
  },
  {
   "cell_type": "code",
   "execution_count": 54,
   "metadata": {
    "colab": {
     "base_uri": "https://localhost:8080/"
    },
    "id": "wHFaBYINtjVZ",
    "outputId": "644b33ad-c880-42fa-b7de-95cbcc031bf5"
   },
   "outputs": [
    {
     "data": {
      "text/plain": [
       "(<tf.Tensor: shape=(9,), dtype=string, numpy=\n",
       " array([b'taut nervy wine tight structure acidity crisp dry taste offering intense green apple lemon zest wine even better 2\\xe2\\x80\\x933 years',\n",
       "        b'bit soft sweet Zinfandel sure delicious berry fruit chocolate pepper herb flavors Drink barbecue',\n",
       "        b'Intital bright green fruit aromas concentrated intense style wine smoky flavors complement crisp green freshness complete wine well balanced fruits place along spice',\n",
       "        b'good Cab little young need cellaring fruit drink plush black currant cr\\xc3\\xa8me de cassis new oaky flavors wrapped soft velvety tannins chocolaty licorice finish hold good ten years',\n",
       "        b'8789 Barrel sample Quite light wine fresh style attractive fruits tannins showing along bright acidity',\n",
       "        b'Sour cherry damp soil wet rocks frame minerallyminded Pinot Noir coastal range northern part county palate dominated herbs oregano thyme fennel licorice ripe cranberry framing fruit profile intriguing look promising though justemerging coastal region',\n",
       "        b'Cabernet blend estate purchased fruit successful year rivals Stags Leaps best wines including Cask 23 2008 successful year Blended 2 Merlot aged lots new French oak wine word stunning Rich flashy blackberry dark chocolate flavors anchored earthiness suggesting cured olives dried herbs Delicious beauty develop additional complexities throughout decade',\n",
       "        b'Frontloaded herbal earthy bit dull fruit',\n",
       "        b'Simple buttered popcorn toast flavors Chard underlying flavors pineapples dry wine crisp acidity Made popular style drinking'],\n",
       "       dtype=object)>, <tf.Tensor: shape=(9, 10), dtype=float32, numpy=\n",
       " array([[0., 0., 1., 0., 0., 0., 0., 0., 0., 0.],\n",
       "        [1., 0., 0., 0., 0., 0., 0., 0., 0., 0.],\n",
       "        [0., 0., 1., 0., 0., 0., 0., 0., 0., 0.],\n",
       "        [1., 0., 0., 0., 0., 0., 0., 0., 0., 0.],\n",
       "        [0., 0., 1., 0., 0., 0., 0., 0., 0., 0.],\n",
       "        [1., 0., 0., 0., 0., 0., 0., 0., 0., 0.],\n",
       "        [1., 0., 0., 0., 0., 0., 0., 0., 0., 0.],\n",
       "        [1., 0., 0., 0., 0., 0., 0., 0., 0., 0.],\n",
       "        [1., 0., 0., 0., 0., 0., 0., 0., 0., 0.]], dtype=float32)>)"
      ]
     },
     "execution_count": 54,
     "metadata": {},
     "output_type": "execute_result"
    }
   ],
   "source": [
    "train_data, train_labels = next(iter(train_data_f.batch(9)))\n",
    "train_data, train_labels"
   ]
  },
  {
   "cell_type": "markdown",
   "metadata": {},
   "source": [
    "###### 5.4.6 Applying pretrained Tensorflow model"
   ]
  },
  {
   "cell_type": "code",
   "execution_count": 55,
   "metadata": {
    "colab": {
     "base_uri": "https://localhost:8080/"
    },
    "id": "pD2gZPRarhGE",
    "outputId": "43041e3b-23ed-4bcc-8252-56164ba8f5ee"
   },
   "outputs": [
    {
     "data": {
      "text/plain": [
       "<tf.Tensor: shape=(1, 128), dtype=float32, numpy=\n",
       "array([[ 0.05772785, -0.3424155 ,  0.18887639, -0.04631041, -0.0282944 ,\n",
       "        -0.00843976,  0.12190825,  0.11346994,  0.04339409,  0.20060194,\n",
       "        -0.09115889, -0.0474581 , -0.20091057,  0.14726013, -0.02516664,\n",
       "        -0.12226307,  0.01243885,  0.1682637 ,  0.02708486, -0.04420022,\n",
       "         0.09762587, -0.0746639 , -0.1658398 , -0.09940553,  0.02810469,\n",
       "        -0.10940417,  0.36570385, -0.18902   , -0.01863232, -0.327137  ,\n",
       "        -0.09375865, -0.03590075, -0.0833379 ,  0.43534687,  0.3426385 ,\n",
       "        -0.0318408 ,  0.0194397 , -0.1806073 , -0.09568553,  0.21803218,\n",
       "        -0.22520173, -0.06746688, -0.08736845,  0.12254096, -0.03746471,\n",
       "         0.069362  , -0.10251056,  0.3050877 ,  0.4027132 ,  0.17300604,\n",
       "         0.12856632, -0.24645443,  0.01051114,  0.17445324, -0.222384  ,\n",
       "        -0.03633695,  0.15713358, -0.30118525, -0.18015572,  0.04548446,\n",
       "         0.09137334,  0.0122723 ,  0.30253798, -0.11307118, -0.14302495,\n",
       "         0.19289777, -0.02653601, -0.39079672,  0.2442405 , -0.00474405,\n",
       "         0.00685551, -0.04413731,  0.12939315,  0.03905244, -0.11777393,\n",
       "         0.24991755, -0.18398318, -0.07543551, -0.03198957,  0.16761889,\n",
       "        -0.24889076,  0.25713018,  0.20703092, -0.0943347 ,  0.0860526 ,\n",
       "         0.05415041, -0.1526793 ,  0.13829345,  0.12107092,  0.46756235,\n",
       "         0.02254634,  0.0728725 , -0.23088713, -0.13296187,  0.04152031,\n",
       "        -0.22100902, -0.0709128 , -0.12843889,  0.15352388,  0.03472991,\n",
       "         0.07868104,  0.09630199, -0.02943519,  0.01371808,  0.21734394,\n",
       "        -0.3044433 ,  0.040163  ,  0.40561795, -0.22374314, -0.08812039,\n",
       "         0.08770753, -0.09719554, -0.12545869, -0.00464035,  0.00505977,\n",
       "        -0.10256007,  0.12136103,  0.01524911,  0.0065378 , -0.02616267,\n",
       "        -0.08655226, -0.09737037, -0.17564313, -0.08050516, -0.18702446,\n",
       "        -0.42455113,  0.26640427,  0.16463985]], dtype=float32)>"
      ]
     },
     "execution_count": 55,
     "metadata": {},
     "output_type": "execute_result"
    }
   ],
   "source": [
    "embedding = 'https://tfhub.dev/google/tf2-preview/nnlm-en-dim128/1'\n",
    "hub_layer = hub.KerasLayer(embedding, output_shape=[128], input_shape=[], dtype=tf.string, trainable=True)\n",
    "hub_layer(train_data[:1])\n"
   ]
  },
  {
   "cell_type": "markdown",
   "metadata": {},
   "source": [
    "###### 5.4.7 Adding layers to the model"
   ]
  },
  {
   "cell_type": "code",
   "execution_count": 56,
   "metadata": {
    "colab": {
     "base_uri": "https://localhost:8080/"
    },
    "id": "Cfk-B1lItdYO",
    "outputId": "41a838d4-0c8b-4883-de82-705dc95d3fc6"
   },
   "outputs": [
    {
     "name": "stdout",
     "output_type": "stream",
     "text": [
      "Model: \"sequential_1\"\n",
      "_________________________________________________________________\n",
      " Layer (type)                Output Shape              Param #   \n",
      "=================================================================\n",
      " keras_layer_1 (KerasLayer)  (None, 128)               124642688 \n",
      "                                                                 \n",
      " dense_5 (Dense)             (None, 128)               16512     \n",
      "                                                                 \n",
      " dropout_4 (Dropout)         (None, 128)               0         \n",
      "                                                                 \n",
      " dense_6 (Dense)             (None, 128)               16512     \n",
      "                                                                 \n",
      " dropout_5 (Dropout)         (None, 128)               0         \n",
      "                                                                 \n",
      " dense_7 (Dense)             (None, 64)                8256      \n",
      "                                                                 \n",
      " dropout_6 (Dropout)         (None, 64)                0         \n",
      "                                                                 \n",
      " dense_8 (Dense)             (None, 32)                2080      \n",
      "                                                                 \n",
      " dropout_7 (Dropout)         (None, 32)                0         \n",
      "                                                                 \n",
      " dense_9 (Dense)             (None, 10)                330       \n",
      "                                                                 \n",
      "=================================================================\n",
      "Total params: 124,686,378\n",
      "Trainable params: 124,686,378\n",
      "Non-trainable params: 0\n",
      "_________________________________________________________________\n"
     ]
    }
   ],
   "source": [
    "model = tf.keras.Sequential()\n",
    "model.add(hub_layer)\n",
    "for units in [128, 128, 64, 32]:\n",
    "  model.add(tf.keras.layers.Dense(units, activation='relu'))\n",
    "  model.add(tf.keras.layers.Dropout(0.3))\n",
    "model.add(tf.keras.layers.Dense(10, activation='softmax')) #output layer\n",
    "model.summary()"
   ]
  },
  {
   "cell_type": "markdown",
   "metadata": {},
   "source": [
    "###### 5.4.8 Optimizing Network"
   ]
  },
  {
   "cell_type": "code",
   "execution_count": 57,
   "metadata": {
    "id": "g3Ae63DWua6m"
   },
   "outputs": [],
   "source": [
    "model.compile(optimizer='adam', loss=tf.keras.losses.CategoricalCrossentropy(from_logits=True),\n",
    "              metrics=['accuracy'])"
   ]
  },
  {
   "cell_type": "markdown",
   "metadata": {},
   "source": [
    "###### 5.4.9 Create batches for training, validation, and testing"
   ]
  },
  {
   "cell_type": "code",
   "execution_count": 58,
   "metadata": {
    "id": "cv46IoV6u0Cj"
   },
   "outputs": [],
   "source": [
    "train_data_f = train_data_f.shuffle(114675).batch(512)\n",
    "valid_data_f = valid_data_f.batch(512)\n",
    "test_data_f = test_data_f.batch(512)"
   ]
  },
  {
   "cell_type": "code",
   "execution_count": 59,
   "metadata": {
    "colab": {
     "base_uri": "https://localhost:8080/"
    },
    "id": "XYFVnUV2vqqY",
    "outputId": "28054cc8-bd0a-4add-e602-4e445de26a69"
   },
   "outputs": [
    {
     "name": "stdout",
     "output_type": "stream",
     "text": [
      "Epoch 1/4\n",
      "224/224 [==============================] - 296s 1s/step - loss: 1.6086 - accuracy: 0.4079 - val_loss: 0.7631 - val_accuracy: 0.6646\n",
      "Epoch 2/4\n",
      "224/224 [==============================] - 292s 1s/step - loss: 0.9269 - accuracy: 0.6933 - val_loss: 0.6193 - val_accuracy: 0.7642\n",
      "Epoch 3/4\n",
      "224/224 [==============================] - 299s 1s/step - loss: 0.7063 - accuracy: 0.7790 - val_loss: 0.4951 - val_accuracy: 0.8182\n",
      "Epoch 4/4\n",
      "224/224 [==============================] - 296s 1s/step - loss: 0.5523 - accuracy: 0.8394 - val_loss: 0.4613 - val_accuracy: 0.8464\n"
     ]
    }
   ],
   "source": [
    "history = model.fit(train_data_f, epochs=4, validation_data=valid_data_f, verbose=1, class_weight=weights)\n",
    "\n"
   ]
  },
  {
   "cell_type": "markdown",
   "metadata": {},
   "source": [
    "###### 5.4.10 Model is done"
   ]
  },
  {
   "cell_type": "markdown",
   "metadata": {},
   "source": [
    "### 5.5 Why exactly 4 epochs?\n",
    "\n",
    "Actually, when the last epoch was being done, Accuracy was increasing in a very small rate, and Loss was decreasing in a very small rate. That is why, I was afraid that the model started to explore the noise in order to increase Accuracy in a way we do not want (overfitting). However, model evaluation (by considering important metrics) showed us that the model was not overfitted. Because the rate of improvement was very slow in the end, I decided that there is no point in doing more epochs. We are not likely to get significant improvements, but we are likely to increase variance"
   ]
  },
  {
   "cell_type": "code",
   "execution_count": 60,
   "metadata": {
    "colab": {
     "base_uri": "https://localhost:8080/"
    },
    "id": "YQMc_RYgy2zf",
    "outputId": "0b32b302-36dd-454b-960d-59087380df1e"
   },
   "outputs": [
    {
     "data": {
      "text/plain": [
       "114675"
      ]
     },
     "execution_count": 60,
     "metadata": {},
     "output_type": "execute_result"
    }
   ],
   "source": [
    "len(dataset_train)"
   ]
  },
  {
   "cell_type": "code",
   "execution_count": 61,
   "metadata": {
    "colab": {
     "base_uri": "https://localhost:8080/"
    },
    "id": "Fx7plaWhy9MM",
    "outputId": "be153c77-1456-4c4b-ba4b-176143db4c02"
   },
   "outputs": [
    {
     "data": {
      "text/plain": [
       "14335"
      ]
     },
     "execution_count": 61,
     "metadata": {},
     "output_type": "execute_result"
    }
   ],
   "source": [
    "len(dataset_test)"
   ]
  },
  {
   "cell_type": "code",
   "execution_count": 62,
   "metadata": {
    "colab": {
     "base_uri": "https://localhost:8080/"
    },
    "id": "k-N323UoQ2tU",
    "outputId": "f4114cc7-7d72-42b0-a254-cddb1fc12a84"
   },
   "outputs": [
    {
     "data": {
      "text/plain": [
       "14334"
      ]
     },
     "execution_count": 62,
     "metadata": {},
     "output_type": "execute_result"
    }
   ],
   "source": [
    "len(dataset_valid)"
   ]
  },
  {
   "cell_type": "markdown",
   "metadata": {},
   "source": [
    "### 5.6 Testing the model, getting the results and metrics"
   ]
  },
  {
   "cell_type": "code",
   "execution_count": 63,
   "metadata": {
    "colab": {
     "base_uri": "https://localhost:8080/"
    },
    "id": "1Pinjg0hzCtD",
    "outputId": "3a9915c7-60bb-490f-ad8a-b6b103d8bb9c"
   },
   "outputs": [
    {
     "name": "stdout",
     "output_type": "stream",
     "text": [
      "1/1 - 1s - loss: 0.4623 - accuracy: 0.8476 - 1s/epoch - 1s/step\n",
      "[0.462345689535141, 0.847575843334198]\n"
     ]
    }
   ],
   "source": [
    "\n",
    "results = model.evaluate(dataset_test.map(fetch).batch(14335), verbose = 2)\n",
    "print(results)"
   ]
  },
  {
   "cell_type": "code",
   "execution_count": 64,
   "metadata": {
    "id": "VR6RtOwj0pks"
   },
   "outputs": [],
   "source": [
    "test_data, test_labels = next(iter(dataset_test.map(fetch).batch(57340)))"
   ]
  },
  {
   "cell_type": "code",
   "execution_count": 65,
   "metadata": {
    "colab": {
     "base_uri": "https://localhost:8080/"
    },
    "id": "5VoBs7SG0tLN",
    "outputId": "581868ab-ed5a-4ab0-adf7-9339c3813bcb"
   },
   "outputs": [
    {
     "name": "stdout",
     "output_type": "stream",
     "text": [
      "              precision    recall  f1-score   support\n",
      "\n",
      "           0       0.98      0.93      0.95      6209\n",
      "           1       0.96      0.96      0.96      2334\n",
      "           2       0.85      0.66      0.75      2056\n",
      "           3       0.82      0.62      0.70       877\n",
      "           4       0.57      0.72      0.64       589\n",
      "           5       0.58      0.70      0.64       569\n",
      "           6       0.54      0.77      0.64       554\n",
      "           7       0.64      0.84      0.73       482\n",
      "           8       0.70      0.88      0.78       350\n",
      "           9       0.50      0.84      0.62       315\n",
      "\n",
      "    accuracy                           0.85     14335\n",
      "   macro avg       0.71      0.79      0.74     14335\n",
      "weighted avg       0.87      0.85      0.85     14335\n",
      "\n"
     ]
    }
   ],
   "source": [
    "y_pred = model.predict(test_data)\n",
    "print(classification_report(test_labels.numpy().argmax(axis=1), y_pred.argmax(axis=1)))"
   ]
  },
  {
   "cell_type": "code",
   "execution_count": 71,
   "metadata": {
    "colab": {
     "base_uri": "https://localhost:8080/"
    },
    "id": "omjwpfWt1MRY",
    "outputId": "8aa0fb7f-76e5-4cb6-aeb6-5544d448aa7b"
   },
   "outputs": [
    {
     "data": {
      "text/plain": [
       "array([[9.30101466e-01, 9.01916573e-03, 1.64277661e-02, 2.41584796e-03,\n",
       "        6.12014817e-03, 3.06007409e-03, 3.70430021e-03, 1.99710098e-02,\n",
       "        6.60331776e-03, 2.57690449e-03],\n",
       "       [1.28534704e-02, 9.59725793e-01, 2.14224507e-03, 5.14138817e-03,\n",
       "        4.71293916e-03, 5.56983719e-03, 8.56898029e-04, 4.28449015e-03,\n",
       "        3.42759212e-03, 1.28534704e-03],\n",
       "       [2.67509728e-02, 2.91828794e-03, 6.62937743e-01, 1.45914397e-03,\n",
       "        5.35019455e-03, 1.45914397e-03, 1.55155642e-01, 2.38326848e-02,\n",
       "        1.60505837e-02, 1.04085603e-01],\n",
       "       [6.84150513e-03, 7.98175599e-03, 2.28050171e-03, 6.15735462e-01,\n",
       "        1.76738883e-01, 1.85860889e-01, 1.14025086e-03, 2.28050171e-03,\n",
       "        0.00000000e+00, 1.14025086e-03],\n",
       "       [2.88624788e-02, 5.09337861e-03, 5.09337861e-03, 6.96095076e-02,\n",
       "        7.24957555e-01, 1.40916808e-01, 3.39558574e-03, 1.35823430e-02,\n",
       "        8.48896435e-03, 0.00000000e+00],\n",
       "       [7.02987698e-03, 5.27240773e-03, 3.51493849e-03, 8.61159930e-02,\n",
       "        1.84534271e-01, 7.04745167e-01, 1.75746924e-03, 7.02987698e-03,\n",
       "        0.00000000e+00, 0.00000000e+00],\n",
       "       [5.41516245e-03, 1.80505415e-03, 1.49819495e-01, 0.00000000e+00,\n",
       "        1.80505415e-03, 1.80505415e-03, 7.72563177e-01, 3.61010830e-03,\n",
       "        7.22021661e-03, 5.59566787e-02],\n",
       "       [4.56431535e-02, 6.22406639e-03, 1.65975104e-02, 2.07468880e-03,\n",
       "        1.03734440e-02, 2.07468880e-03, 6.22406639e-03, 8.36099585e-01,\n",
       "        6.84647303e-02, 6.22406639e-03],\n",
       "       [1.71428571e-02, 2.85714286e-03, 2.57142857e-02, 0.00000000e+00,\n",
       "        2.85714286e-03, 2.85714286e-03, 0.00000000e+00, 6.85714286e-02,\n",
       "        8.80000000e-01, 0.00000000e+00],\n",
       "       [9.52380952e-03, 6.34920635e-03, 8.25396825e-02, 0.00000000e+00,\n",
       "        0.00000000e+00, 3.17460317e-03, 3.17460317e-02, 6.34920635e-03,\n",
       "        1.90476190e-02, 8.41269841e-01]])"
      ]
     },
     "execution_count": 71,
     "metadata": {},
     "output_type": "execute_result"
    }
   ],
   "source": [
    "confus_matr = confusion_matrix(test_labels.numpy().argmax(axis=1), y_pred.argmax(axis=1), normalize=\"true\")\n",
    "confus_matr"
   ]
  },
  {
   "cell_type": "code",
   "execution_count": 72,
   "metadata": {
    "colab": {
     "base_uri": "https://localhost:8080/",
     "height": 568
    },
    "id": "dvbrrm6a1fl2",
    "outputId": "27118673-dca0-4e99-ceef-a16f3f9b3402"
   },
   "outputs": [
    {
     "data": {
      "text/plain": [
       "Text(123.0, 0.5, 'Predicted label')"
      ]
     },
     "execution_count": 72,
     "metadata": {},
     "output_type": "execute_result"
    },
    {
     "data": {
      "image/png": "[encoded data removed]",
      "text/plain": [
       "<Figure size 1152x648 with 2 Axes>"
      ]
     },
     "metadata": {
      "needs_background": "light"
     },
     "output_type": "display_data"
    }
   ],
   "source": [
    "plt.gcf().set_size_inches(16, 9)\n",
    "sns.heatmap(confus_matr.T, annot=True, fmt=\".0%\", cmap=\"cividis\")\n",
    "plt.xlabel(\"True label\")\n",
    "plt.ylabel(\"Predicted label\")"
   ]
  },
  {
   "cell_type": "markdown",
   "metadata": {},
   "source": [
    "### 5.7 Interpretation of the results\n",
    "\n",
    "Both Precision and Recall are never less than 50% and in the majority of the cases Recall is greater than Accuracy. This means, our model is not overfitted. On the other hand, the Accuracy is around 0.85, which means that it has relatively low bias. So, generally the model does well in predicting classes. By looking at the Confusion Matrix, we see that each class is recognized at least 62% of the time, and I do not see cases where some 2 classes are very often confused with each other (slightly less than 20% of the time at maximum). That is why I am very satisfied with the model performance, despite it is (as probably every DL algorithm) very slow and costly to train"
   ]
  },
  {
   "cell_type": "markdown",
   "metadata": {
    "id": "3flHu9rzYb8Q"
   },
   "source": [
    "# 6 Comparison of the models and their results"
   ]
  },
  {
   "cell_type": "markdown",
   "metadata": {},
   "source": [
    "### 6.1 The question I want to answer\n",
    "\n",
    "I have not even started the timer since Neural Network is very very slower than Naive Bayes algorithm (which turned out to be very very fast). In Data Science projects we usually face a problem that I call time-accuracy tradeoff. On the one hand, we have a very clear, interpretable, fast, and easy to code simple algorithm. On the other hand, we can increase accuracy (or any desired metric) by spending much more time in choosing algorithm, coding and training the model\n",
    "\n",
    "From the results it is clear, that Naive Bayes represents the first situation, while Deep Learning - the second one. So, the point is to verify whether the step towards Neural Networks was reasonable or not in the context of the problem"
   ]
  },
  {
   "cell_type": "markdown",
   "metadata": {},
   "source": [
    "### 6.2 Naive Bayes vs Neural Network\n",
    "\n",
    "Note that I will use the results obrained by training the model on the balanced dataset (speaking about ML part)\n",
    "\n",
    "As I already mentioned, in terms of time Naive Bayes is an absolute winner (there even was no need to put the timer on). However, the model turned out to be worse than DL method by around 10% in each metric (we compare by weighted average, since in Naive Bayes case it is the same as macro one, and in Deep Learning part weighted average is more important). Comparison of confusion matrices tells us that in case of Neural Networks we do better, on average. What is more, we never get diagonal values less than 50% (in Naive Bayes there was such problem ones). Finally, for several reasons I find that both of these models turned out to have low variance. In the context of this problem, I find the improvement we made as a significant one (especially since we have a relatively large dataset, so these results are worth being trusted), therefore, it was worth inversting additional amount of time to construct a complicated model. The only problem is that is it much harder to interpret what was actually done to get the obtained results"
   ]
  },
  {
   "cell_type": "markdown",
   "metadata": {},
   "source": [
    "# 7 Conclusion\n",
    "\n",
    "When it comes to some types of Machine Learning problems, at first we usually come up with simple and intuitive solutions. However, sometimes they give us not best possible results (or even unsatisfying ones), so we start thinking about more advanced and sophisticated tools to improve our Accuracy (or whatever metric we are considering). In this project I tried to show, why we sometimes switch to the class of Deep Learning algorithms, as well as explain why imbalanced dataset is a problem and how we can fix this problem"
   ]
  },
  {
   "cell_type": "markdown",
   "metadata": {},
   "source": [
    "# 8 References\n",
    "\n",
    "https://www.youtube.com/watch?v=57N1g8k2Hwc - how to work with Kaggle dataset without downloading it using API\n",
    "\n",
    "https://www.youtube.com/watch?v=dkpS2g4K08s - how to use Deep Learning to solve text multiclass classification problems "
   ]
  },
  {
   "cell_type": "code",
   "execution_count": null,
   "metadata": {},
   "outputs": [],
   "source": []
  }
 ],
 "metadata": {
  "colab": {
   "collapsed_sections": [],
   "name": "Project_Kaggle_wine_classification.ipynb",
   "provenance": []
  },
  "kernelspec": {
   "display_name": "Python 3",
   "language": "python",
   "name": "python3"
  },
  "language_info": {
   "codemirror_mode": {
    "name": "ipython",
    "version": 3
   },
   "file_extension": ".py",
   "mimetype": "text/x-python",
   "name": "python",
   "nbconvert_exporter": "python",
   "pygments_lexer": "ipython3",
   "version": "3.7.6"
  }
 },
 "nbformat": 4,
 "nbformat_minor": 1
}
