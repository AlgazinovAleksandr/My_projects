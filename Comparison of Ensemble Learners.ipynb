{
 "cells": [
  {
   "cell_type": "markdown",
   "metadata": {
    "id": "H89ToVCkMKE9"
   },
   "source": [
    "# 1 Abstract\n",
    "\n",
    "Gradient Boosting algorithms are considered to be very effective in solving both regression and classification problems. Due to the fact they are both fast and effective, they are often used as a tool to solve Supervised Machine Learning problems. However, well-known advanced techniques, such as XGBoost, CatBoost, and LightGBM come from simple Decision Trees. These are all the development of a single idea. People created advanced modifications for simple algorithms to resolve several issues. In this project, I want to clarify the disadvantages of earlier developed algorithms, showing their performance on real example. Moreover, we will compare the efficiency of algorithms in terms of time and accuracy"
   ]
  },
  {
   "cell_type": "markdown",
   "metadata": {
    "id": "BtTuc3WnPwZJ"
   },
   "source": [
    "# 2 Brief description of the project"
   ]
  },
  {
   "cell_type": "markdown",
   "metadata": {
    "id": "P04BuIDRQ4rL"
   },
   "source": [
    "### 2.1 Dataset \n",
    "\n",
    "It was taken from Kaggle (https://www.kaggle.com/datasets/ruchi798/data-science-job-salaries) and represents salaries of DS specialists in different countires based on several features (including grade, size of company, etc.). It has relatively small number of rows, but its quality is very good (there are no nan-values)"
   ]
  },
  {
   "cell_type": "markdown",
   "metadata": {
    "id": "oytx1vqxTEOj"
   },
   "source": [
    "### 2.2 Plan\n",
    "\n",
    "At first, we will do feature engineering and feature selection. I usually do both at the same time, so we will call it preprocessing. After the table is suitable for the model creation, we will start doing ML-part. Using K-Fold Cross-Validation, we will choose best model (among Decision Tree, Random Forest, AdaBoost, XGBoost, CatBoost, and LightGBM) for our data, as well as discuss pros and cons of these algorithms. We deal with a regression problem, since we want to predict the salary of a specialist, given his features. The comparison metrics will be R squared, since it shows how well the model captures our data, and time it takes to train the model "
   ]
  },
  {
   "cell_type": "markdown",
   "metadata": {
    "id": "axJKnFTKLWAm"
   },
   "source": [
    "### 2.3 One important thing before we start\n",
    "\n",
    "The algorithms we will be looking at have many parameters, but we will be running them with default ones. Here I do not have a goal to get as high R squared as possible, especially since the dataset is not created for this goals. The thing I care about is comparison of very popular tree-based algorithms in terms of speed and accuracy, as well as discussing all of them in a nutshell"
   ]
  },
  {
   "cell_type": "markdown",
   "metadata": {
    "id": "jb_czVUnVurc"
   },
   "source": [
    "# 3 Data Preprocessing "
   ]
  },
  {
   "cell_type": "markdown",
   "metadata": {
    "id": "HQEiQrfOow0u"
   },
   "source": [
    "### 3.1 Reading the dataset"
   ]
  },
  {
   "cell_type": "code",
   "execution_count": 1,
   "metadata": {
    "id": "TGWJop5hMLGu"
   },
   "outputs": [],
   "source": [
    "import numpy as np\n",
    "import pandas as pd"
   ]
  },
  {
   "cell_type": "code",
   "execution_count": 2,
   "metadata": {
    "colab": {
     "base_uri": "https://localhost:8080/",
     "height": 687
    },
    "id": "i10zpCo3WWEc",
    "outputId": "0aaed25c-818c-46dc-860b-453689582cec"
   },
   "outputs": [
    {
     "data": {
      "text/html": [
       "\n",
       "  <div id=\"df-039ef917-09b7-4540-909e-8906ec8cee12\">\n",
       "    <div class=\"colab-df-container\">\n",
       "      <div>\n",
       "<style scoped>\n",
       "    .dataframe tbody tr th:only-of-type {\n",
       "        vertical-align: middle;\n",
       "    }\n",
       "\n",
       "    .dataframe tbody tr th {\n",
       "        vertical-align: top;\n",
       "    }\n",
       "\n",
       "    .dataframe thead th {\n",
       "        text-align: right;\n",
       "    }\n",
       "</style>\n",
       "<table border=\"1\" class=\"dataframe\">\n",
       "  <thead>\n",
       "    <tr style=\"text-align: right;\">\n",
       "      <th></th>\n",
       "      <th>work_year</th>\n",
       "      <th>experience_level</th>\n",
       "      <th>employment_type</th>\n",
       "      <th>job_title</th>\n",
       "      <th>salary</th>\n",
       "      <th>salary_currency</th>\n",
       "      <th>salary_in_usd</th>\n",
       "      <th>employee_residence</th>\n",
       "      <th>remote_ratio</th>\n",
       "      <th>company_location</th>\n",
       "      <th>company_size</th>\n",
       "    </tr>\n",
       "  </thead>\n",
       "  <tbody>\n",
       "    <tr>\n",
       "      <th>0</th>\n",
       "      <td>2020</td>\n",
       "      <td>MI</td>\n",
       "      <td>FT</td>\n",
       "      <td>Data Scientist</td>\n",
       "      <td>70000</td>\n",
       "      <td>EUR</td>\n",
       "      <td>79833</td>\n",
       "      <td>DE</td>\n",
       "      <td>0</td>\n",
       "      <td>DE</td>\n",
       "      <td>L</td>\n",
       "    </tr>\n",
       "    <tr>\n",
       "      <th>1</th>\n",
       "      <td>2020</td>\n",
       "      <td>SE</td>\n",
       "      <td>FT</td>\n",
       "      <td>Machine Learning Scientist</td>\n",
       "      <td>260000</td>\n",
       "      <td>USD</td>\n",
       "      <td>260000</td>\n",
       "      <td>JP</td>\n",
       "      <td>0</td>\n",
       "      <td>JP</td>\n",
       "      <td>S</td>\n",
       "    </tr>\n",
       "    <tr>\n",
       "      <th>2</th>\n",
       "      <td>2020</td>\n",
       "      <td>SE</td>\n",
       "      <td>FT</td>\n",
       "      <td>Big Data Engineer</td>\n",
       "      <td>85000</td>\n",
       "      <td>GBP</td>\n",
       "      <td>109024</td>\n",
       "      <td>GB</td>\n",
       "      <td>50</td>\n",
       "      <td>GB</td>\n",
       "      <td>M</td>\n",
       "    </tr>\n",
       "    <tr>\n",
       "      <th>3</th>\n",
       "      <td>2020</td>\n",
       "      <td>MI</td>\n",
       "      <td>FT</td>\n",
       "      <td>Product Data Analyst</td>\n",
       "      <td>20000</td>\n",
       "      <td>USD</td>\n",
       "      <td>20000</td>\n",
       "      <td>HN</td>\n",
       "      <td>0</td>\n",
       "      <td>HN</td>\n",
       "      <td>S</td>\n",
       "    </tr>\n",
       "    <tr>\n",
       "      <th>4</th>\n",
       "      <td>2020</td>\n",
       "      <td>SE</td>\n",
       "      <td>FT</td>\n",
       "      <td>Machine Learning Engineer</td>\n",
       "      <td>150000</td>\n",
       "      <td>USD</td>\n",
       "      <td>150000</td>\n",
       "      <td>US</td>\n",
       "      <td>50</td>\n",
       "      <td>US</td>\n",
       "      <td>L</td>\n",
       "    </tr>\n",
       "    <tr>\n",
       "      <th>...</th>\n",
       "      <td>...</td>\n",
       "      <td>...</td>\n",
       "      <td>...</td>\n",
       "      <td>...</td>\n",
       "      <td>...</td>\n",
       "      <td>...</td>\n",
       "      <td>...</td>\n",
       "      <td>...</td>\n",
       "      <td>...</td>\n",
       "      <td>...</td>\n",
       "      <td>...</td>\n",
       "    </tr>\n",
       "    <tr>\n",
       "      <th>602</th>\n",
       "      <td>2022</td>\n",
       "      <td>SE</td>\n",
       "      <td>FT</td>\n",
       "      <td>Data Engineer</td>\n",
       "      <td>154000</td>\n",
       "      <td>USD</td>\n",
       "      <td>154000</td>\n",
       "      <td>US</td>\n",
       "      <td>100</td>\n",
       "      <td>US</td>\n",
       "      <td>M</td>\n",
       "    </tr>\n",
       "    <tr>\n",
       "      <th>603</th>\n",
       "      <td>2022</td>\n",
       "      <td>SE</td>\n",
       "      <td>FT</td>\n",
       "      <td>Data Engineer</td>\n",
       "      <td>126000</td>\n",
       "      <td>USD</td>\n",
       "      <td>126000</td>\n",
       "      <td>US</td>\n",
       "      <td>100</td>\n",
       "      <td>US</td>\n",
       "      <td>M</td>\n",
       "    </tr>\n",
       "    <tr>\n",
       "      <th>604</th>\n",
       "      <td>2022</td>\n",
       "      <td>SE</td>\n",
       "      <td>FT</td>\n",
       "      <td>Data Analyst</td>\n",
       "      <td>129000</td>\n",
       "      <td>USD</td>\n",
       "      <td>129000</td>\n",
       "      <td>US</td>\n",
       "      <td>0</td>\n",
       "      <td>US</td>\n",
       "      <td>M</td>\n",
       "    </tr>\n",
       "    <tr>\n",
       "      <th>605</th>\n",
       "      <td>2022</td>\n",
       "      <td>SE</td>\n",
       "      <td>FT</td>\n",
       "      <td>Data Analyst</td>\n",
       "      <td>150000</td>\n",
       "      <td>USD</td>\n",
       "      <td>150000</td>\n",
       "      <td>US</td>\n",
       "      <td>100</td>\n",
       "      <td>US</td>\n",
       "      <td>M</td>\n",
       "    </tr>\n",
       "    <tr>\n",
       "      <th>606</th>\n",
       "      <td>2022</td>\n",
       "      <td>MI</td>\n",
       "      <td>FT</td>\n",
       "      <td>AI Scientist</td>\n",
       "      <td>200000</td>\n",
       "      <td>USD</td>\n",
       "      <td>200000</td>\n",
       "      <td>IN</td>\n",
       "      <td>100</td>\n",
       "      <td>US</td>\n",
       "      <td>L</td>\n",
       "    </tr>\n",
       "  </tbody>\n",
       "</table>\n",
       "<p>607 rows × 11 columns</p>\n",
       "</div>\n",
       "      <button class=\"colab-df-convert\" onclick=\"convertToInteractive('df-039ef917-09b7-4540-909e-8906ec8cee12')\"\n",
       "              title=\"Convert this dataframe to an interactive table.\"\n",
       "              style=\"display:none;\">\n",
       "        \n",
       "  <svg xmlns=\"http://www.w3.org/2000/svg\" height=\"24px\"viewBox=\"0 0 24 24\"\n",
       "       width=\"24px\">\n",
       "    <path d=\"M0 0h24v24H0V0z\" fill=\"none\"/>\n",
       "    <path d=\"M18.56 5.44l.94 2.06.94-2.06 2.06-.94-2.06-.94-.94-2.06-.94 2.06-2.06.94zm-11 1L8.5 8.5l.94-2.06 2.06-.94-2.06-.94L8.5 2.5l-.94 2.06-2.06.94zm10 10l.94 2.06.94-2.06 2.06-.94-2.06-.94-.94-2.06-.94 2.06-2.06.94z\"/><path d=\"M17.41 7.96l-1.37-1.37c-.4-.4-.92-.59-1.43-.59-.52 0-1.04.2-1.43.59L10.3 9.45l-7.72 7.72c-.78.78-.78 2.05 0 2.83L4 21.41c.39.39.9.59 1.41.59.51 0 1.02-.2 1.41-.59l7.78-7.78 2.81-2.81c.8-.78.8-2.07 0-2.86zM5.41 20L4 18.59l7.72-7.72 1.47 1.35L5.41 20z\"/>\n",
       "  </svg>\n",
       "      </button>\n",
       "      \n",
       "  <style>\n",
       "    .colab-df-container {\n",
       "      display:flex;\n",
       "      flex-wrap:wrap;\n",
       "      gap: 12px;\n",
       "    }\n",
       "\n",
       "    .colab-df-convert {\n",
       "      background-color: #E8F0FE;\n",
       "      border: none;\n",
       "      border-radius: 50%;\n",
       "      cursor: pointer;\n",
       "      display: none;\n",
       "      fill: #1967D2;\n",
       "      height: 32px;\n",
       "      padding: 0 0 0 0;\n",
       "      width: 32px;\n",
       "    }\n",
       "\n",
       "    .colab-df-convert:hover {\n",
       "      background-color: #E2EBFA;\n",
       "      box-shadow: 0px 1px 2px rgba(60, 64, 67, 0.3), 0px 1px 3px 1px rgba(60, 64, 67, 0.15);\n",
       "      fill: #174EA6;\n",
       "    }\n",
       "\n",
       "    [theme=dark] .colab-df-convert {\n",
       "      background-color: #3B4455;\n",
       "      fill: #D2E3FC;\n",
       "    }\n",
       "\n",
       "    [theme=dark] .colab-df-convert:hover {\n",
       "      background-color: #434B5C;\n",
       "      box-shadow: 0px 1px 3px 1px rgba(0, 0, 0, 0.15);\n",
       "      filter: drop-shadow(0px 1px 2px rgba(0, 0, 0, 0.3));\n",
       "      fill: #FFFFFF;\n",
       "    }\n",
       "  </style>\n",
       "\n",
       "      <script>\n",
       "        const buttonEl =\n",
       "          document.querySelector('#df-039ef917-09b7-4540-909e-8906ec8cee12 button.colab-df-convert');\n",
       "        buttonEl.style.display =\n",
       "          google.colab.kernel.accessAllowed ? 'block' : 'none';\n",
       "\n",
       "        async function convertToInteractive(key) {\n",
       "          const element = document.querySelector('#df-039ef917-09b7-4540-909e-8906ec8cee12');\n",
       "          const dataTable =\n",
       "            await google.colab.kernel.invokeFunction('convertToInteractive',\n",
       "                                                     [key], {});\n",
       "          if (!dataTable) return;\n",
       "\n",
       "          const docLinkHtml = 'Like what you see? Visit the ' +\n",
       "            '<a target=\"_blank\" href=https://colab.research.google.com/notebooks/data_table.ipynb>data table notebook</a>'\n",
       "            + ' to learn more about interactive tables.';\n",
       "          element.innerHTML = '';\n",
       "          dataTable['output_type'] = 'display_data';\n",
       "          await google.colab.output.renderOutput(dataTable, element);\n",
       "          const docLink = document.createElement('div');\n",
       "          docLink.innerHTML = docLinkHtml;\n",
       "          element.appendChild(docLink);\n",
       "        }\n",
       "      </script>\n",
       "    </div>\n",
       "  </div>\n",
       "  "
      ],
      "text/plain": [
       "     work_year experience_level employment_type                   job_title  \\\n",
       "0         2020               MI              FT              Data Scientist   \n",
       "1         2020               SE              FT  Machine Learning Scientist   \n",
       "2         2020               SE              FT           Big Data Engineer   \n",
       "3         2020               MI              FT        Product Data Analyst   \n",
       "4         2020               SE              FT   Machine Learning Engineer   \n",
       "..         ...              ...             ...                         ...   \n",
       "602       2022               SE              FT               Data Engineer   \n",
       "603       2022               SE              FT               Data Engineer   \n",
       "604       2022               SE              FT                Data Analyst   \n",
       "605       2022               SE              FT                Data Analyst   \n",
       "606       2022               MI              FT                AI Scientist   \n",
       "\n",
       "     salary salary_currency  salary_in_usd employee_residence  remote_ratio  \\\n",
       "0     70000             EUR          79833                 DE             0   \n",
       "1    260000             USD         260000                 JP             0   \n",
       "2     85000             GBP         109024                 GB            50   \n",
       "3     20000             USD          20000                 HN             0   \n",
       "4    150000             USD         150000                 US            50   \n",
       "..      ...             ...            ...                ...           ...   \n",
       "602  154000             USD         154000                 US           100   \n",
       "603  126000             USD         126000                 US           100   \n",
       "604  129000             USD         129000                 US             0   \n",
       "605  150000             USD         150000                 US           100   \n",
       "606  200000             USD         200000                 IN           100   \n",
       "\n",
       "    company_location company_size  \n",
       "0                 DE            L  \n",
       "1                 JP            S  \n",
       "2                 GB            M  \n",
       "3                 HN            S  \n",
       "4                 US            L  \n",
       "..               ...          ...  \n",
       "602               US            M  \n",
       "603               US            M  \n",
       "604               US            M  \n",
       "605               US            M  \n",
       "606               US            L  \n",
       "\n",
       "[607 rows x 11 columns]"
      ]
     },
     "execution_count": 2,
     "metadata": {},
     "output_type": "execute_result"
    }
   ],
   "source": [
    "df = pd.read_csv('ds_salaries.csv')\n",
    "df = df.iloc[:, 1:]\n",
    "df"
   ]
  },
  {
   "cell_type": "code",
   "execution_count": 3,
   "metadata": {
    "id": "a8sQRjbBWZ1c"
   },
   "outputs": [],
   "source": [
    "#print(df.isnull().sum())\n",
    "# There are no nan-values"
   ]
  },
  {
   "cell_type": "code",
   "execution_count": 4,
   "metadata": {
    "id": "hMsxAkuBWdxg"
   },
   "outputs": [],
   "source": [
    "# We are looking only for salary in USD\n",
    "df = df.drop(['salary', 'salary_currency'], axis = 1)\n",
    "df.index = np.arange(0, len(df))\n",
    "#df"
   ]
  },
  {
   "cell_type": "markdown",
   "metadata": {
    "id": "bD-mRJLwpE0B"
   },
   "source": [
    "### 3.2 Substitution / getting rid of unpopular values"
   ]
  },
  {
   "cell_type": "code",
   "execution_count": 5,
   "metadata": {
    "colab": {
     "base_uri": "https://localhost:8080/"
    },
    "id": "WrwGdodrXIYk",
    "outputId": "a26a5f9b-e48e-452c-d089-72be1470bf4e"
   },
   "outputs": [
    {
     "name": "stdout",
     "output_type": "stream",
     "text": [
      "FT    588\n",
      "PT     10\n",
      "CT      5\n",
      "FL      4\n",
      "Name: employment_type, dtype: int64\n"
     ]
    }
   ],
   "source": [
    "print(df['employment_type'].value_counts())"
   ]
  },
  {
   "cell_type": "markdown",
   "metadata": {
    "id": "bjiIBR0rqIx2"
   },
   "source": [
    "As we see, mainly people work full-time, so it is reasonable to make prediction for people working full-time, as for other types we do not have enough values to make a sample representative"
   ]
  },
  {
   "cell_type": "code",
   "execution_count": 6,
   "metadata": {
    "id": "oc7DEYSQXSif"
   },
   "outputs": [],
   "source": [
    "df = df[df['employment_type'] == 'FT']\n",
    "df = df.drop('employment_type', axis = 1)\n",
    "df.index = np.arange(0, len(df))"
   ]
  },
  {
   "cell_type": "code",
   "execution_count": 7,
   "metadata": {
    "id": "VMBdkc9CX3f0"
   },
   "outputs": [],
   "source": [
    "df['remote_ratio'] = df['remote_ratio'] / 100\n",
    "#normalise value to range from 0 to 1\n",
    "#df"
   ]
  },
  {
   "cell_type": "markdown",
   "metadata": {
    "id": "BkFzbmd1rOk0"
   },
   "source": [
    "###### 3.2.1 \n",
    "Now for columns 'employee_residence', 'job_title', 'company_location' we will substitute values that show up only once (for 'other'), since these are categorical values and there will be too much non needed columns while we will be doing One Hot Encoding"
   ]
  },
  {
   "cell_type": "code",
   "execution_count": 8,
   "metadata": {
    "id": "2pHzGNlha91B"
   },
   "outputs": [],
   "source": [
    "#print(df['employee_residence'].value_counts())"
   ]
  },
  {
   "cell_type": "code",
   "execution_count": 9,
   "metadata": {
    "colab": {
     "base_uri": "https://localhost:8080/"
    },
    "id": "DAuSKetLbgYo",
    "outputId": "245e11e0-a5b7-4cbb-eaef-62bb8322f19e"
   },
   "outputs": [
    {
     "name": "stdout",
     "output_type": "stream",
     "text": [
      "Data Scientist                              140\n",
      "Data Engineer                               129\n",
      "Data Analyst                                 96\n",
      "Machine Learning Engineer                    41\n",
      "Research Scientist                           16\n",
      "Data Science Manager                         12\n",
      "Data Architect                               11\n",
      "Big Data Engineer                             8\n",
      "Director of Data Science                      7\n",
      "Data Analytics Manager                        7\n",
      "Machine Learning Scientist                    7\n",
      "Data Science Consultant                       7\n",
      "Lead Data Engineer                            6\n",
      "BI Data Analyst                               6\n",
      "Principal Data Scientist                      6\n",
      "Applied Data Scientist                        5\n",
      "AI Scientist                                  5\n",
      "Head of Data                                  5\n",
      "Data Engineering Manager                      5\n",
      "Head of Data Science                          4\n",
      "Analytics Engineer                            4\n",
      "Data Analytics Engineer                       4\n",
      "Business Data Analyst                         4\n",
      "ML Engineer                                   4\n",
      "Computer Vision Engineer                      4\n",
      "Machine Learning Infrastructure Engineer      3\n",
      "Lead Data Scientist                           3\n",
      "Applied Machine Learning Scientist            3\n",
      "Machine Learning Developer                    3\n",
      "Principal Data Engineer                       3\n",
      "Data Science Engineer                         3\n",
      "Computer Vision Software Engineer             3\n",
      "Lead Data Analyst                             3\n",
      "Director of Data Engineering                  2\n",
      "Financial Data Analyst                        2\n",
      "Cloud Data Engineer                           2\n",
      "Product Data Analyst                          2\n",
      "Principal Data Analyst                        2\n",
      "ETL Developer                                 2\n",
      "Lead Machine Learning Engineer                1\n",
      "NLP Engineer                                  1\n",
      "Head of Machine Learning                      1\n",
      "Marketing Data Analyst                        1\n",
      "Big Data Architect                            1\n",
      "Finance Data Analyst                          1\n",
      "Data Specialist                               1\n",
      "Machine Learning Manager                      1\n",
      "Data Analytics Lead                           1\n",
      "Name: job_title, dtype: int64\n"
     ]
    }
   ],
   "source": [
    "print(df['job_title'].value_counts())"
   ]
  },
  {
   "cell_type": "code",
   "execution_count": 10,
   "metadata": {
    "id": "bKeKNTrGcFV6"
   },
   "outputs": [],
   "source": [
    "res_stats = df.groupby('employee_residence')['employee_residence'].agg('count').sort_values(ascending = False)\n",
    "res_stats\n",
    "res_stats_less_than_2 = res_stats[res_stats < 2]\n",
    "df.employee_residence = df.employee_residence.apply(lambda x: 'other' if x in res_stats_less_than_2 else x)\n",
    "#len(df.employee_residence.unique())\n",
    "\n",
    "job_stats = df.groupby('job_title')['job_title'].agg('count').sort_values(ascending = False)\n",
    "job_stats\n",
    "job_stats_less_than_2 = job_stats[job_stats < 2]\n",
    "df.job_title = df.job_title.apply(lambda x: 'other' if x in job_stats_less_than_2 else x)\n",
    "#len(df.job_title.unique())\n",
    "\n",
    "location_stats = df.groupby('company_location')['company_location'].agg('count').sort_values(ascending = False)\n",
    "location_stats\n",
    "location_stats_less_than_2 = location_stats[location_stats < 2]\n",
    "df.company_location = df.company_location.apply(lambda x: 'other' if x in location_stats_less_than_2 else x)\n",
    "#len(df.company_location.unique())"
   ]
  },
  {
   "cell_type": "markdown",
   "metadata": {
    "id": "WApBGkv6r65u"
   },
   "source": [
    "### 3.3 Time problem\n",
    "\n",
    "There are observations for 2020, 2021, and 2022 years. There is no point in predicting salaries for any period of time, which is earlier than 2022. An assumption that salaries are increasing in time seems reasonable. So I propose to approximate what would be the salaries for 2020 and 2021 in 2022. We will not spend significant amount of time working on time series, since this is not what I want to do in this project. A rather simple approach is to look at the median and mean relationships and come up with reasonable multiples for 2020 and 2021 salaries"
   ]
  },
  {
   "cell_type": "code",
   "execution_count": 11,
   "metadata": {
    "colab": {
     "base_uri": "https://localhost:8080/"
    },
    "id": "t2P5G74BmxLd",
    "outputId": "ebaa68ab-3120-4a63-a172-525b5a3947f8"
   },
   "outputs": [
    {
     "name": "stdout",
     "output_type": "stream",
     "text": [
      "1.020067779524499\n",
      "\n",
      "1.2454691040557397\n",
      "\n",
      "1.4127058823529413\n",
      "\n",
      "1.0842459069717012\n"
     ]
    }
   ],
   "source": [
    "df1 = df[df['work_year'] == 2020]\n",
    "df2 = df[df['work_year'] == 2021]\n",
    "df3 = df[df['work_year'] == 2022]\n",
    "a1 = df1['salary_in_usd'].median()\n",
    "a2 = df2['salary_in_usd'].median()\n",
    "a3 = df3['salary_in_usd'].median()\n",
    "\n",
    "a = df1['salary_in_usd'].mean()\n",
    "b = df2['salary_in_usd'].mean()\n",
    "c = df3['salary_in_usd'].mean()\n",
    "\n",
    "print(b / a)\n",
    "print('')\n",
    "print(c / b)\n",
    "print('')\n",
    "print(a3 / a2)\n",
    "print('')\n",
    "print(a2 / a1)"
   ]
  },
  {
   "cell_type": "markdown",
   "metadata": {
    "id": "IsR39djVuTfK"
   },
   "source": [
    "In this context, it is better to underestimate than to overestimate. Coefficients equal to 1.05 and 1.25 for 2020 and 2021 years respectively seem fine for me. Note that we do not convert values from 2020 to 2022 directly. There is an intermediate step - to convert 2020 to 2021 at first"
   ]
  },
  {
   "cell_type": "code",
   "execution_count": 12,
   "metadata": {
    "colab": {
     "base_uri": "https://localhost:8080/",
     "height": 759
    },
    "id": "CoAmWkM-qBEl",
    "outputId": "a7128444-3fbe-4908-fd13-4db91ce4e586"
   },
   "outputs": [
    {
     "name": "stderr",
     "output_type": "stream",
     "text": [
      "/usr/local/lib/python3.7/dist-packages/ipykernel_launcher.py:3: SettingWithCopyWarning: \n",
      "A value is trying to be set on a copy of a slice from a DataFrame\n",
      "\n",
      "See the caveats in the documentation: https://pandas.pydata.org/pandas-docs/stable/user_guide/indexing.html#returning-a-view-versus-a-copy\n",
      "  This is separate from the ipykernel package so we can avoid doing imports until\n",
      "/usr/local/lib/python3.7/dist-packages/ipykernel_launcher.py:4: SettingWithCopyWarning: \n",
      "A value is trying to be set on a copy of a slice from a DataFrame\n",
      "\n",
      "See the caveats in the documentation: https://pandas.pydata.org/pandas-docs/stable/user_guide/indexing.html#returning-a-view-versus-a-copy\n",
      "  after removing the cwd from sys.path.\n",
      "/usr/local/lib/python3.7/dist-packages/ipykernel_launcher.py:7: SettingWithCopyWarning: \n",
      "A value is trying to be set on a copy of a slice from a DataFrame\n",
      "\n",
      "See the caveats in the documentation: https://pandas.pydata.org/pandas-docs/stable/user_guide/indexing.html#returning-a-view-versus-a-copy\n",
      "  import sys\n",
      "/usr/local/lib/python3.7/dist-packages/ipykernel_launcher.py:8: SettingWithCopyWarning: \n",
      "A value is trying to be set on a copy of a slice from a DataFrame\n",
      "\n",
      "See the caveats in the documentation: https://pandas.pydata.org/pandas-docs/stable/user_guide/indexing.html#returning-a-view-versus-a-copy\n",
      "  \n"
     ]
    },
    {
     "data": {
      "text/html": [
       "\n",
       "  <div id=\"df-25a3f108-a0a4-4663-a990-8e03b794b516\">\n",
       "    <div class=\"colab-df-container\">\n",
       "      <div>\n",
       "<style scoped>\n",
       "    .dataframe tbody tr th:only-of-type {\n",
       "        vertical-align: middle;\n",
       "    }\n",
       "\n",
       "    .dataframe tbody tr th {\n",
       "        vertical-align: top;\n",
       "    }\n",
       "\n",
       "    .dataframe thead th {\n",
       "        text-align: right;\n",
       "    }\n",
       "</style>\n",
       "<table border=\"1\" class=\"dataframe\">\n",
       "  <thead>\n",
       "    <tr style=\"text-align: right;\">\n",
       "      <th></th>\n",
       "      <th>experience_level</th>\n",
       "      <th>job_title</th>\n",
       "      <th>salary_in_usd</th>\n",
       "      <th>employee_residence</th>\n",
       "      <th>remote_ratio</th>\n",
       "      <th>company_location</th>\n",
       "      <th>company_size</th>\n",
       "    </tr>\n",
       "  </thead>\n",
       "  <tbody>\n",
       "    <tr>\n",
       "      <th>0</th>\n",
       "      <td>MI</td>\n",
       "      <td>Data Scientist</td>\n",
       "      <td>104780</td>\n",
       "      <td>DE</td>\n",
       "      <td>0.0</td>\n",
       "      <td>DE</td>\n",
       "      <td>L</td>\n",
       "    </tr>\n",
       "    <tr>\n",
       "      <th>1</th>\n",
       "      <td>SE</td>\n",
       "      <td>Machine Learning Scientist</td>\n",
       "      <td>341250</td>\n",
       "      <td>JP</td>\n",
       "      <td>0.0</td>\n",
       "      <td>JP</td>\n",
       "      <td>S</td>\n",
       "    </tr>\n",
       "    <tr>\n",
       "      <th>2</th>\n",
       "      <td>SE</td>\n",
       "      <td>Big Data Engineer</td>\n",
       "      <td>143093</td>\n",
       "      <td>GB</td>\n",
       "      <td>0.5</td>\n",
       "      <td>GB</td>\n",
       "      <td>M</td>\n",
       "    </tr>\n",
       "    <tr>\n",
       "      <th>3</th>\n",
       "      <td>MI</td>\n",
       "      <td>Product Data Analyst</td>\n",
       "      <td>26250</td>\n",
       "      <td>other</td>\n",
       "      <td>0.0</td>\n",
       "      <td>other</td>\n",
       "      <td>S</td>\n",
       "    </tr>\n",
       "    <tr>\n",
       "      <th>4</th>\n",
       "      <td>SE</td>\n",
       "      <td>Machine Learning Engineer</td>\n",
       "      <td>196875</td>\n",
       "      <td>US</td>\n",
       "      <td>0.5</td>\n",
       "      <td>US</td>\n",
       "      <td>L</td>\n",
       "    </tr>\n",
       "    <tr>\n",
       "      <th>...</th>\n",
       "      <td>...</td>\n",
       "      <td>...</td>\n",
       "      <td>...</td>\n",
       "      <td>...</td>\n",
       "      <td>...</td>\n",
       "      <td>...</td>\n",
       "      <td>...</td>\n",
       "    </tr>\n",
       "    <tr>\n",
       "      <th>583</th>\n",
       "      <td>SE</td>\n",
       "      <td>Data Engineer</td>\n",
       "      <td>154000</td>\n",
       "      <td>US</td>\n",
       "      <td>1.0</td>\n",
       "      <td>US</td>\n",
       "      <td>M</td>\n",
       "    </tr>\n",
       "    <tr>\n",
       "      <th>584</th>\n",
       "      <td>SE</td>\n",
       "      <td>Data Engineer</td>\n",
       "      <td>126000</td>\n",
       "      <td>US</td>\n",
       "      <td>1.0</td>\n",
       "      <td>US</td>\n",
       "      <td>M</td>\n",
       "    </tr>\n",
       "    <tr>\n",
       "      <th>585</th>\n",
       "      <td>SE</td>\n",
       "      <td>Data Analyst</td>\n",
       "      <td>129000</td>\n",
       "      <td>US</td>\n",
       "      <td>0.0</td>\n",
       "      <td>US</td>\n",
       "      <td>M</td>\n",
       "    </tr>\n",
       "    <tr>\n",
       "      <th>586</th>\n",
       "      <td>SE</td>\n",
       "      <td>Data Analyst</td>\n",
       "      <td>150000</td>\n",
       "      <td>US</td>\n",
       "      <td>1.0</td>\n",
       "      <td>US</td>\n",
       "      <td>M</td>\n",
       "    </tr>\n",
       "    <tr>\n",
       "      <th>587</th>\n",
       "      <td>MI</td>\n",
       "      <td>AI Scientist</td>\n",
       "      <td>200000</td>\n",
       "      <td>IN</td>\n",
       "      <td>1.0</td>\n",
       "      <td>US</td>\n",
       "      <td>L</td>\n",
       "    </tr>\n",
       "  </tbody>\n",
       "</table>\n",
       "<p>588 rows × 7 columns</p>\n",
       "</div>\n",
       "      <button class=\"colab-df-convert\" onclick=\"convertToInteractive('df-25a3f108-a0a4-4663-a990-8e03b794b516')\"\n",
       "              title=\"Convert this dataframe to an interactive table.\"\n",
       "              style=\"display:none;\">\n",
       "        \n",
       "  <svg xmlns=\"http://www.w3.org/2000/svg\" height=\"24px\"viewBox=\"0 0 24 24\"\n",
       "       width=\"24px\">\n",
       "    <path d=\"M0 0h24v24H0V0z\" fill=\"none\"/>\n",
       "    <path d=\"M18.56 5.44l.94 2.06.94-2.06 2.06-.94-2.06-.94-.94-2.06-.94 2.06-2.06.94zm-11 1L8.5 8.5l.94-2.06 2.06-.94-2.06-.94L8.5 2.5l-.94 2.06-2.06.94zm10 10l.94 2.06.94-2.06 2.06-.94-2.06-.94-.94-2.06-.94 2.06-2.06.94z\"/><path d=\"M17.41 7.96l-1.37-1.37c-.4-.4-.92-.59-1.43-.59-.52 0-1.04.2-1.43.59L10.3 9.45l-7.72 7.72c-.78.78-.78 2.05 0 2.83L4 21.41c.39.39.9.59 1.41.59.51 0 1.02-.2 1.41-.59l7.78-7.78 2.81-2.81c.8-.78.8-2.07 0-2.86zM5.41 20L4 18.59l7.72-7.72 1.47 1.35L5.41 20z\"/>\n",
       "  </svg>\n",
       "      </button>\n",
       "      \n",
       "  <style>\n",
       "    .colab-df-container {\n",
       "      display:flex;\n",
       "      flex-wrap:wrap;\n",
       "      gap: 12px;\n",
       "    }\n",
       "\n",
       "    .colab-df-convert {\n",
       "      background-color: #E8F0FE;\n",
       "      border: none;\n",
       "      border-radius: 50%;\n",
       "      cursor: pointer;\n",
       "      display: none;\n",
       "      fill: #1967D2;\n",
       "      height: 32px;\n",
       "      padding: 0 0 0 0;\n",
       "      width: 32px;\n",
       "    }\n",
       "\n",
       "    .colab-df-convert:hover {\n",
       "      background-color: #E2EBFA;\n",
       "      box-shadow: 0px 1px 2px rgba(60, 64, 67, 0.3), 0px 1px 3px 1px rgba(60, 64, 67, 0.15);\n",
       "      fill: #174EA6;\n",
       "    }\n",
       "\n",
       "    [theme=dark] .colab-df-convert {\n",
       "      background-color: #3B4455;\n",
       "      fill: #D2E3FC;\n",
       "    }\n",
       "\n",
       "    [theme=dark] .colab-df-convert:hover {\n",
       "      background-color: #434B5C;\n",
       "      box-shadow: 0px 1px 3px 1px rgba(0, 0, 0, 0.15);\n",
       "      filter: drop-shadow(0px 1px 2px rgba(0, 0, 0, 0.3));\n",
       "      fill: #FFFFFF;\n",
       "    }\n",
       "  </style>\n",
       "\n",
       "      <script>\n",
       "        const buttonEl =\n",
       "          document.querySelector('#df-25a3f108-a0a4-4663-a990-8e03b794b516 button.colab-df-convert');\n",
       "        buttonEl.style.display =\n",
       "          google.colab.kernel.accessAllowed ? 'block' : 'none';\n",
       "\n",
       "        async function convertToInteractive(key) {\n",
       "          const element = document.querySelector('#df-25a3f108-a0a4-4663-a990-8e03b794b516');\n",
       "          const dataTable =\n",
       "            await google.colab.kernel.invokeFunction('convertToInteractive',\n",
       "                                                     [key], {});\n",
       "          if (!dataTable) return;\n",
       "\n",
       "          const docLinkHtml = 'Like what you see? Visit the ' +\n",
       "            '<a target=\"_blank\" href=https://colab.research.google.com/notebooks/data_table.ipynb>data table notebook</a>'\n",
       "            + ' to learn more about interactive tables.';\n",
       "          element.innerHTML = '';\n",
       "          dataTable['output_type'] = 'display_data';\n",
       "          await google.colab.output.renderOutput(dataTable, element);\n",
       "          const docLink = document.createElement('div');\n",
       "          docLink.innerHTML = docLinkHtml;\n",
       "          element.appendChild(docLink);\n",
       "        }\n",
       "      </script>\n",
       "    </div>\n",
       "  </div>\n",
       "  "
      ],
      "text/plain": [
       "    experience_level                   job_title  salary_in_usd  \\\n",
       "0                 MI              Data Scientist         104780   \n",
       "1                 SE  Machine Learning Scientist         341250   \n",
       "2                 SE           Big Data Engineer         143093   \n",
       "3                 MI        Product Data Analyst          26250   \n",
       "4                 SE   Machine Learning Engineer         196875   \n",
       "..               ...                         ...            ...   \n",
       "583               SE               Data Engineer         154000   \n",
       "584               SE               Data Engineer         126000   \n",
       "585               SE                Data Analyst         129000   \n",
       "586               SE                Data Analyst         150000   \n",
       "587               MI                AI Scientist         200000   \n",
       "\n",
       "    employee_residence  remote_ratio company_location company_size  \n",
       "0                   DE           0.0               DE            L  \n",
       "1                   JP           0.0               JP            S  \n",
       "2                   GB           0.5               GB            M  \n",
       "3                other           0.0            other            S  \n",
       "4                   US           0.5               US            L  \n",
       "..                 ...           ...              ...          ...  \n",
       "583                 US           1.0               US            M  \n",
       "584                 US           1.0               US            M  \n",
       "585                 US           0.0               US            M  \n",
       "586                 US           1.0               US            M  \n",
       "587                 IN           1.0               US            L  \n",
       "\n",
       "[588 rows x 7 columns]"
      ]
     },
     "execution_count": 12,
     "metadata": {},
     "output_type": "execute_result"
    }
   ],
   "source": [
    "for i in range(len(df)):\n",
    "  if df['work_year'][i] == 2020:\n",
    "    df['work_year'][i] = 2021\n",
    "    df['salary_in_usd'][i] = df['salary_in_usd'][i] * 1.05\n",
    "for i in range(len(df)):\n",
    "  if df['work_year'][i] == 2021:\n",
    "    df['work_year'][i] = 2022\n",
    "    df['salary_in_usd'][i] = df['salary_in_usd'][i] * 1.25\n",
    "\n",
    "df = df.drop('work_year', axis = 1)\n",
    "# since work year is now the same for each observation, we no longer need it as a feature\n",
    "df\n"
   ]
  },
  {
   "cell_type": "markdown",
   "metadata": {
    "id": "bdVCNSJYu6Iu"
   },
   "source": [
    "### 3.4 Dealing with outliers\n",
    "\n",
    "Since many models are sensitive to outliers (however, tree-based models are not as sensitive as continuous ones), it is always better to remove them. However, our dataset is rather small, so we do not want to loose observations. That is why, instead of removing outliers, we will substitute values which exceed 99th percentile to 99th percentile itself, and we will substitute values which are below 1st percentile to 1st percentile itself"
   ]
  },
  {
   "cell_type": "code",
   "execution_count": 13,
   "metadata": {
    "id": "3KANscNIql-P"
   },
   "outputs": [],
   "source": [
    "df['salary_in_usd'] = df['salary_in_usd'].clip(lower=df['salary_in_usd'].quantile(0.01), upper=df['salary_in_usd'].quantile(0.99))"
   ]
  },
  {
   "cell_type": "markdown",
   "metadata": {
    "id": "wRGzZwT2wCPy"
   },
   "source": [
    "### 3.5 Is remote ratio an informative feature?\n",
    "\n",
    "I am not sure about that. However, since this value is a float one, we can check the correlation matrix"
   ]
  },
  {
   "cell_type": "code",
   "execution_count": 14,
   "metadata": {
    "id": "tujJVPAftxda"
   },
   "outputs": [],
   "source": [
    "import seaborn as sns\n",
    "import matplotlib.pyplot as plt"
   ]
  },
  {
   "cell_type": "code",
   "execution_count": 15,
   "metadata": {
    "colab": {
     "base_uri": "https://localhost:8080/",
     "height": 357
    },
    "id": "QVnQcYe9vPN2",
    "outputId": "5a4c84c0-b590-485b-bf83-1c95701037e2"
   },
   "outputs": [
    {
     "data": {
      "image/png": "[encoded data removed]",
      "text/plain": [
       "<Figure size 648x360 with 2 Axes>"
      ]
     },
     "metadata": {
      "needs_background": "light"
     },
     "output_type": "display_data"
    }
   ],
   "source": [
    "f, ax = plt.subplots(figsize = (10, 6))\n",
    "corr = df.corr()\n",
    "hm = sns.heatmap(round(corr,2), annot = True, ax = ax, cmap = \"coolwarm\", fmt = '.2f', linewidths = .05)\n",
    "f.subplots_adjust(top = .93)\n",
    "t= f.suptitle('DS salaries correlation Heatmap', fontsize = 14)\n",
    "plt.gcf().set_size_inches(9, 5)"
   ]
  },
  {
   "cell_type": "markdown",
   "metadata": {
    "id": "AkBgs4e2wUgg"
   },
   "source": [
    "0.12 is a very small number for correlation, so it is better to delete this feature"
   ]
  },
  {
   "cell_type": "code",
   "execution_count": 16,
   "metadata": {
    "colab": {
     "base_uri": "https://localhost:8080/",
     "height": 419
    },
    "id": "sQHADGWrvUtH",
    "outputId": "16a56eb2-cb7c-4a47-8c0e-20769ef65958"
   },
   "outputs": [
    {
     "data": {
      "text/html": [
       "\n",
       "  <div id=\"df-38854c3c-c222-452b-9cf2-63f1c58afdad\">\n",
       "    <div class=\"colab-df-container\">\n",
       "      <div>\n",
       "<style scoped>\n",
       "    .dataframe tbody tr th:only-of-type {\n",
       "        vertical-align: middle;\n",
       "    }\n",
       "\n",
       "    .dataframe tbody tr th {\n",
       "        vertical-align: top;\n",
       "    }\n",
       "\n",
       "    .dataframe thead th {\n",
       "        text-align: right;\n",
       "    }\n",
       "</style>\n",
       "<table border=\"1\" class=\"dataframe\">\n",
       "  <thead>\n",
       "    <tr style=\"text-align: right;\">\n",
       "      <th></th>\n",
       "      <th>experience_level</th>\n",
       "      <th>job_title</th>\n",
       "      <th>salary_in_usd</th>\n",
       "      <th>employee_residence</th>\n",
       "      <th>company_location</th>\n",
       "      <th>company_size</th>\n",
       "    </tr>\n",
       "  </thead>\n",
       "  <tbody>\n",
       "    <tr>\n",
       "      <th>0</th>\n",
       "      <td>MI</td>\n",
       "      <td>Data Scientist</td>\n",
       "      <td>104780.0</td>\n",
       "      <td>DE</td>\n",
       "      <td>DE</td>\n",
       "      <td>L</td>\n",
       "    </tr>\n",
       "    <tr>\n",
       "      <th>1</th>\n",
       "      <td>SE</td>\n",
       "      <td>Machine Learning Scientist</td>\n",
       "      <td>341250.0</td>\n",
       "      <td>JP</td>\n",
       "      <td>JP</td>\n",
       "      <td>S</td>\n",
       "    </tr>\n",
       "    <tr>\n",
       "      <th>2</th>\n",
       "      <td>SE</td>\n",
       "      <td>Big Data Engineer</td>\n",
       "      <td>143093.0</td>\n",
       "      <td>GB</td>\n",
       "      <td>GB</td>\n",
       "      <td>M</td>\n",
       "    </tr>\n",
       "    <tr>\n",
       "      <th>3</th>\n",
       "      <td>MI</td>\n",
       "      <td>Product Data Analyst</td>\n",
       "      <td>26250.0</td>\n",
       "      <td>other</td>\n",
       "      <td>other</td>\n",
       "      <td>S</td>\n",
       "    </tr>\n",
       "    <tr>\n",
       "      <th>4</th>\n",
       "      <td>SE</td>\n",
       "      <td>Machine Learning Engineer</td>\n",
       "      <td>196875.0</td>\n",
       "      <td>US</td>\n",
       "      <td>US</td>\n",
       "      <td>L</td>\n",
       "    </tr>\n",
       "    <tr>\n",
       "      <th>...</th>\n",
       "      <td>...</td>\n",
       "      <td>...</td>\n",
       "      <td>...</td>\n",
       "      <td>...</td>\n",
       "      <td>...</td>\n",
       "      <td>...</td>\n",
       "    </tr>\n",
       "    <tr>\n",
       "      <th>583</th>\n",
       "      <td>SE</td>\n",
       "      <td>Data Engineer</td>\n",
       "      <td>154000.0</td>\n",
       "      <td>US</td>\n",
       "      <td>US</td>\n",
       "      <td>M</td>\n",
       "    </tr>\n",
       "    <tr>\n",
       "      <th>584</th>\n",
       "      <td>SE</td>\n",
       "      <td>Data Engineer</td>\n",
       "      <td>126000.0</td>\n",
       "      <td>US</td>\n",
       "      <td>US</td>\n",
       "      <td>M</td>\n",
       "    </tr>\n",
       "    <tr>\n",
       "      <th>585</th>\n",
       "      <td>SE</td>\n",
       "      <td>Data Analyst</td>\n",
       "      <td>129000.0</td>\n",
       "      <td>US</td>\n",
       "      <td>US</td>\n",
       "      <td>M</td>\n",
       "    </tr>\n",
       "    <tr>\n",
       "      <th>586</th>\n",
       "      <td>SE</td>\n",
       "      <td>Data Analyst</td>\n",
       "      <td>150000.0</td>\n",
       "      <td>US</td>\n",
       "      <td>US</td>\n",
       "      <td>M</td>\n",
       "    </tr>\n",
       "    <tr>\n",
       "      <th>587</th>\n",
       "      <td>MI</td>\n",
       "      <td>AI Scientist</td>\n",
       "      <td>200000.0</td>\n",
       "      <td>IN</td>\n",
       "      <td>US</td>\n",
       "      <td>L</td>\n",
       "    </tr>\n",
       "  </tbody>\n",
       "</table>\n",
       "<p>588 rows × 6 columns</p>\n",
       "</div>\n",
       "      <button class=\"colab-df-convert\" onclick=\"convertToInteractive('df-38854c3c-c222-452b-9cf2-63f1c58afdad')\"\n",
       "              title=\"Convert this dataframe to an interactive table.\"\n",
       "              style=\"display:none;\">\n",
       "        \n",
       "  <svg xmlns=\"http://www.w3.org/2000/svg\" height=\"24px\"viewBox=\"0 0 24 24\"\n",
       "       width=\"24px\">\n",
       "    <path d=\"M0 0h24v24H0V0z\" fill=\"none\"/>\n",
       "    <path d=\"M18.56 5.44l.94 2.06.94-2.06 2.06-.94-2.06-.94-.94-2.06-.94 2.06-2.06.94zm-11 1L8.5 8.5l.94-2.06 2.06-.94-2.06-.94L8.5 2.5l-.94 2.06-2.06.94zm10 10l.94 2.06.94-2.06 2.06-.94-2.06-.94-.94-2.06-.94 2.06-2.06.94z\"/><path d=\"M17.41 7.96l-1.37-1.37c-.4-.4-.92-.59-1.43-.59-.52 0-1.04.2-1.43.59L10.3 9.45l-7.72 7.72c-.78.78-.78 2.05 0 2.83L4 21.41c.39.39.9.59 1.41.59.51 0 1.02-.2 1.41-.59l7.78-7.78 2.81-2.81c.8-.78.8-2.07 0-2.86zM5.41 20L4 18.59l7.72-7.72 1.47 1.35L5.41 20z\"/>\n",
       "  </svg>\n",
       "      </button>\n",
       "      \n",
       "  <style>\n",
       "    .colab-df-container {\n",
       "      display:flex;\n",
       "      flex-wrap:wrap;\n",
       "      gap: 12px;\n",
       "    }\n",
       "\n",
       "    .colab-df-convert {\n",
       "      background-color: #E8F0FE;\n",
       "      border: none;\n",
       "      border-radius: 50%;\n",
       "      cursor: pointer;\n",
       "      display: none;\n",
       "      fill: #1967D2;\n",
       "      height: 32px;\n",
       "      padding: 0 0 0 0;\n",
       "      width: 32px;\n",
       "    }\n",
       "\n",
       "    .colab-df-convert:hover {\n",
       "      background-color: #E2EBFA;\n",
       "      box-shadow: 0px 1px 2px rgba(60, 64, 67, 0.3), 0px 1px 3px 1px rgba(60, 64, 67, 0.15);\n",
       "      fill: #174EA6;\n",
       "    }\n",
       "\n",
       "    [theme=dark] .colab-df-convert {\n",
       "      background-color: #3B4455;\n",
       "      fill: #D2E3FC;\n",
       "    }\n",
       "\n",
       "    [theme=dark] .colab-df-convert:hover {\n",
       "      background-color: #434B5C;\n",
       "      box-shadow: 0px 1px 3px 1px rgba(0, 0, 0, 0.15);\n",
       "      filter: drop-shadow(0px 1px 2px rgba(0, 0, 0, 0.3));\n",
       "      fill: #FFFFFF;\n",
       "    }\n",
       "  </style>\n",
       "\n",
       "      <script>\n",
       "        const buttonEl =\n",
       "          document.querySelector('#df-38854c3c-c222-452b-9cf2-63f1c58afdad button.colab-df-convert');\n",
       "        buttonEl.style.display =\n",
       "          google.colab.kernel.accessAllowed ? 'block' : 'none';\n",
       "\n",
       "        async function convertToInteractive(key) {\n",
       "          const element = document.querySelector('#df-38854c3c-c222-452b-9cf2-63f1c58afdad');\n",
       "          const dataTable =\n",
       "            await google.colab.kernel.invokeFunction('convertToInteractive',\n",
       "                                                     [key], {});\n",
       "          if (!dataTable) return;\n",
       "\n",
       "          const docLinkHtml = 'Like what you see? Visit the ' +\n",
       "            '<a target=\"_blank\" href=https://colab.research.google.com/notebooks/data_table.ipynb>data table notebook</a>'\n",
       "            + ' to learn more about interactive tables.';\n",
       "          element.innerHTML = '';\n",
       "          dataTable['output_type'] = 'display_data';\n",
       "          await google.colab.output.renderOutput(dataTable, element);\n",
       "          const docLink = document.createElement('div');\n",
       "          docLink.innerHTML = docLinkHtml;\n",
       "          element.appendChild(docLink);\n",
       "        }\n",
       "      </script>\n",
       "    </div>\n",
       "  </div>\n",
       "  "
      ],
      "text/plain": [
       "    experience_level                   job_title  salary_in_usd  \\\n",
       "0                 MI              Data Scientist       104780.0   \n",
       "1                 SE  Machine Learning Scientist       341250.0   \n",
       "2                 SE           Big Data Engineer       143093.0   \n",
       "3                 MI        Product Data Analyst        26250.0   \n",
       "4                 SE   Machine Learning Engineer       196875.0   \n",
       "..               ...                         ...            ...   \n",
       "583               SE               Data Engineer       154000.0   \n",
       "584               SE               Data Engineer       126000.0   \n",
       "585               SE                Data Analyst       129000.0   \n",
       "586               SE                Data Analyst       150000.0   \n",
       "587               MI                AI Scientist       200000.0   \n",
       "\n",
       "    employee_residence company_location company_size  \n",
       "0                   DE               DE            L  \n",
       "1                   JP               JP            S  \n",
       "2                   GB               GB            M  \n",
       "3                other            other            S  \n",
       "4                   US               US            L  \n",
       "..                 ...              ...          ...  \n",
       "583                 US               US            M  \n",
       "584                 US               US            M  \n",
       "585                 US               US            M  \n",
       "586                 US               US            M  \n",
       "587                 IN               US            L  \n",
       "\n",
       "[588 rows x 6 columns]"
      ]
     },
     "execution_count": 16,
     "metadata": {},
     "output_type": "execute_result"
    }
   ],
   "source": [
    "df = df.drop('remote_ratio', axis = 1)\n",
    "df"
   ]
  },
  {
   "cell_type": "markdown",
   "metadata": {
    "id": "L9Cvap1hwhnv"
   },
   "source": [
    "### Here is the final version of our DataFrame and now we are able to construct models"
   ]
  },
  {
   "cell_type": "markdown",
   "metadata": {
    "id": "YmjxSwEDwosg"
   },
   "source": [
    "# 4 Model construction"
   ]
  },
  {
   "cell_type": "markdown",
   "metadata": {
    "id": "H5gnZkrlsPPM"
   },
   "source": [
    "### 4.1 CatBoost\n",
    "\n",
    "Despite it is the newest and one of the most advanced algorithms among those I will use here, I want to start with it to show its awesome advantage - it perfectly deals with categorical features. We do not need to do One Hot Encoding - there is just a need to specify those categorical columns"
   ]
  },
  {
   "cell_type": "code",
   "execution_count": 17,
   "metadata": {
    "colab": {
     "base_uri": "https://localhost:8080/"
    },
    "id": "4qHRsUZqGm7B",
    "outputId": "8fe78291-9348-4ee7-8f0d-c94851849cbd"
   },
   "outputs": [
    {
     "name": "stdout",
     "output_type": "stream",
     "text": [
      "Learning rate set to 0.036339\n",
      "0:\tlearn: 73287.4815089\ttotal: 48.7ms\tremaining: 48.6s\n",
      "100:\tlearn: 46667.7573056\ttotal: 268ms\tremaining: 2.39s\n",
      "200:\tlearn: 41960.8670770\ttotal: 629ms\tremaining: 2.5s\n",
      "300:\tlearn: 38090.4989242\ttotal: 879ms\tremaining: 2.04s\n",
      "400:\tlearn: 35633.6436371\ttotal: 1.09s\tremaining: 1.64s\n",
      "500:\tlearn: 33575.3607506\ttotal: 1.32s\tremaining: 1.31s\n",
      "600:\tlearn: 31672.5754540\ttotal: 1.55s\tremaining: 1.03s\n",
      "700:\tlearn: 29999.9384346\ttotal: 1.75s\tremaining: 745ms\n",
      "800:\tlearn: 28530.5874357\ttotal: 1.96s\tremaining: 487ms\n",
      "900:\tlearn: 27100.3631403\ttotal: 2.17s\tremaining: 239ms\n",
      "999:\tlearn: 25917.7375906\ttotal: 2.53s\tremaining: 0us\n",
      "Learning rate set to 0.036339\n",
      "0:\tlearn: 71314.7216600\ttotal: 1.03ms\tremaining: 1.03s\n",
      "100:\tlearn: 46537.5006766\ttotal: 327ms\tremaining: 2.91s\n",
      "200:\tlearn: 42418.2577221\ttotal: 755ms\tremaining: 3s\n",
      "300:\tlearn: 39666.5122786\ttotal: 1.38s\tremaining: 3.2s\n",
      "400:\tlearn: 37149.7644242\ttotal: 2.02s\tremaining: 3.01s\n",
      "500:\tlearn: 35196.4949139\ttotal: 2.44s\tremaining: 2.43s\n",
      "600:\tlearn: 33418.8351515\ttotal: 2.99s\tremaining: 1.98s\n",
      "700:\tlearn: 31970.8872642\ttotal: 3.49s\tremaining: 1.49s\n",
      "800:\tlearn: 30810.4162971\ttotal: 3.94s\tremaining: 978ms\n",
      "900:\tlearn: 29538.3537936\ttotal: 4.55s\tremaining: 500ms\n",
      "999:\tlearn: 28196.2987935\ttotal: 5.33s\tremaining: 0us\n",
      "Learning rate set to 0.036339\n",
      "0:\tlearn: 71047.2357050\ttotal: 13.7ms\tremaining: 13.7s\n",
      "100:\tlearn: 45351.0191805\ttotal: 762ms\tremaining: 6.79s\n",
      "200:\tlearn: 40989.3860214\ttotal: 1.39s\tremaining: 5.54s\n",
      "300:\tlearn: 38179.7266778\ttotal: 2.03s\tremaining: 4.71s\n",
      "400:\tlearn: 35468.2290513\ttotal: 2.6s\tremaining: 3.89s\n",
      "500:\tlearn: 32970.5359149\ttotal: 3.22s\tremaining: 3.21s\n",
      "600:\tlearn: 31156.0278220\ttotal: 3.65s\tremaining: 2.42s\n",
      "700:\tlearn: 29472.4958328\ttotal: 4.33s\tremaining: 1.85s\n",
      "800:\tlearn: 27858.6224971\ttotal: 4.91s\tremaining: 1.22s\n",
      "900:\tlearn: 26582.0330514\ttotal: 5.46s\tremaining: 600ms\n",
      "999:\tlearn: 25314.5118445\ttotal: 6.22s\tremaining: 0us\n",
      "Learning rate set to 0.036339\n",
      "0:\tlearn: 70808.5221113\ttotal: 6.63ms\tremaining: 6.62s\n",
      "100:\tlearn: 43341.3443420\ttotal: 634ms\tremaining: 5.65s\n",
      "200:\tlearn: 38859.5135201\ttotal: 1.33s\tremaining: 5.28s\n",
      "300:\tlearn: 35987.6221728\ttotal: 1.91s\tremaining: 4.43s\n",
      "400:\tlearn: 33833.4391599\ttotal: 2.44s\tremaining: 3.64s\n",
      "500:\tlearn: 31708.6705630\ttotal: 3.06s\tremaining: 3.05s\n",
      "600:\tlearn: 29923.3734881\ttotal: 3.74s\tremaining: 2.48s\n",
      "700:\tlearn: 28569.6213018\ttotal: 4.35s\tremaining: 1.86s\n",
      "800:\tlearn: 27147.3005088\ttotal: 4.86s\tremaining: 1.21s\n",
      "900:\tlearn: 25920.6683138\ttotal: 5.42s\tremaining: 595ms\n",
      "999:\tlearn: 24770.5732489\ttotal: 5.96s\tremaining: 0us\n",
      "Learning rate set to 0.036339\n",
      "0:\tlearn: 70562.9353380\ttotal: 10.1ms\tremaining: 10.1s\n",
      "100:\tlearn: 44657.4178544\ttotal: 419ms\tremaining: 3.73s\n",
      "200:\tlearn: 41103.1498329\ttotal: 598ms\tremaining: 2.38s\n",
      "300:\tlearn: 39305.8228204\ttotal: 818ms\tremaining: 1.9s\n",
      "400:\tlearn: 37219.2205064\ttotal: 1.01s\tremaining: 1.51s\n",
      "500:\tlearn: 35717.3754327\ttotal: 1.2s\tremaining: 1.19s\n",
      "600:\tlearn: 34168.0008916\ttotal: 1.39s\tremaining: 923ms\n",
      "700:\tlearn: 32293.3386827\ttotal: 1.58s\tremaining: 676ms\n",
      "800:\tlearn: 30578.8479847\ttotal: 1.8s\tremaining: 448ms\n",
      "900:\tlearn: 29177.7830591\ttotal: 2.01s\tremaining: 221ms\n",
      "999:\tlearn: 27830.1603697\ttotal: 2.2s\tremaining: 0us\n",
      "Scores that we got:  [0.6943381500814484, 0.7634878195868725, 0.6702367046923431, 0.5873742104861582, 0.6523543924578343]\n"
     ]
    }
   ],
   "source": [
    "from catboost import CatBoostRegressor, Pool\n",
    "\n",
    "x = df.drop(columns = 'salary_in_usd')\n",
    "y = df['salary_in_usd']\n",
    "from sklearn.model_selection import train_test_split\n",
    "from sklearn.metrics import r2_score as RSquared\n",
    "accuracy = []\n",
    "for i in range(5):\n",
    "  x_train, x_test, y_train, y_test = train_test_split(x, y, test_size = 0.2)\n",
    "  pool_train = Pool(x_train, y_train, cat_features = ['experience_level', 'job_title', 'employee_residence', 'company_location', 'company_size'])\n",
    "  pool_test = Pool(x_test, cat_features = ['experience_level', 'job_title', 'employee_residence', 'company_location', 'company_size'])\n",
    "  model = CatBoostRegressor()\n",
    "  model.fit(pool_train, metric_period = 100)\n",
    "  y_pred = model.predict(x_test)\n",
    "  cb_rsquared = np.sqrt(RSquared(y_test, y_pred))\n",
    "  accuracy.append(np.mean(cb_rsquared))\n",
    "print('Scores that we got: ', accuracy)"
   ]
  },
  {
   "cell_type": "markdown",
   "metadata": {
    "id": "UaDrWcd-ub8N"
   },
   "source": [
    "### 4.2 Build dataset for other models\n",
    "\n",
    "Now we will do One Hot Encoding using built-in pandas method to get dummies "
   ]
  },
  {
   "cell_type": "code",
   "execution_count": 18,
   "metadata": {
    "colab": {
     "base_uri": "https://localhost:8080/",
     "height": 517
    },
    "id": "aRz48rPju5Am",
    "outputId": "64ba8036-6927-4e4f-e16b-babd080d72a8"
   },
   "outputs": [
    {
     "data": {
      "text/html": [
       "\n",
       "  <div id=\"df-1c53438a-5844-46e3-a08b-15438e4c2843\">\n",
       "    <div class=\"colab-df-container\">\n",
       "      <div>\n",
       "<style scoped>\n",
       "    .dataframe tbody tr th:only-of-type {\n",
       "        vertical-align: middle;\n",
       "    }\n",
       "\n",
       "    .dataframe tbody tr th {\n",
       "        vertical-align: top;\n",
       "    }\n",
       "\n",
       "    .dataframe thead th {\n",
       "        text-align: right;\n",
       "    }\n",
       "</style>\n",
       "<table border=\"1\" class=\"dataframe\">\n",
       "  <thead>\n",
       "    <tr style=\"text-align: right;\">\n",
       "      <th></th>\n",
       "      <th>experience_level_EN</th>\n",
       "      <th>experience_level_EX</th>\n",
       "      <th>experience_level_MI</th>\n",
       "      <th>experience_level_SE</th>\n",
       "      <th>job_title_AI Scientist</th>\n",
       "      <th>job_title_Analytics Engineer</th>\n",
       "      <th>job_title_Applied Data Scientist</th>\n",
       "      <th>job_title_Applied Machine Learning Scientist</th>\n",
       "      <th>job_title_BI Data Analyst</th>\n",
       "      <th>job_title_Big Data Engineer</th>\n",
       "      <th>...</th>\n",
       "      <th>company_location_PL</th>\n",
       "      <th>company_location_PT</th>\n",
       "      <th>company_location_RU</th>\n",
       "      <th>company_location_SI</th>\n",
       "      <th>company_location_TR</th>\n",
       "      <th>company_location_US</th>\n",
       "      <th>company_location_other</th>\n",
       "      <th>company_size_L</th>\n",
       "      <th>company_size_M</th>\n",
       "      <th>company_size_S</th>\n",
       "    </tr>\n",
       "  </thead>\n",
       "  <tbody>\n",
       "    <tr>\n",
       "      <th>0</th>\n",
       "      <td>0</td>\n",
       "      <td>0</td>\n",
       "      <td>1</td>\n",
       "      <td>0</td>\n",
       "      <td>0</td>\n",
       "      <td>0</td>\n",
       "      <td>0</td>\n",
       "      <td>0</td>\n",
       "      <td>0</td>\n",
       "      <td>0</td>\n",
       "      <td>...</td>\n",
       "      <td>0</td>\n",
       "      <td>0</td>\n",
       "      <td>0</td>\n",
       "      <td>0</td>\n",
       "      <td>0</td>\n",
       "      <td>0</td>\n",
       "      <td>0</td>\n",
       "      <td>1</td>\n",
       "      <td>0</td>\n",
       "      <td>0</td>\n",
       "    </tr>\n",
       "    <tr>\n",
       "      <th>1</th>\n",
       "      <td>0</td>\n",
       "      <td>0</td>\n",
       "      <td>0</td>\n",
       "      <td>1</td>\n",
       "      <td>0</td>\n",
       "      <td>0</td>\n",
       "      <td>0</td>\n",
       "      <td>0</td>\n",
       "      <td>0</td>\n",
       "      <td>0</td>\n",
       "      <td>...</td>\n",
       "      <td>0</td>\n",
       "      <td>0</td>\n",
       "      <td>0</td>\n",
       "      <td>0</td>\n",
       "      <td>0</td>\n",
       "      <td>0</td>\n",
       "      <td>0</td>\n",
       "      <td>0</td>\n",
       "      <td>0</td>\n",
       "      <td>1</td>\n",
       "    </tr>\n",
       "    <tr>\n",
       "      <th>2</th>\n",
       "      <td>0</td>\n",
       "      <td>0</td>\n",
       "      <td>0</td>\n",
       "      <td>1</td>\n",
       "      <td>0</td>\n",
       "      <td>0</td>\n",
       "      <td>0</td>\n",
       "      <td>0</td>\n",
       "      <td>0</td>\n",
       "      <td>1</td>\n",
       "      <td>...</td>\n",
       "      <td>0</td>\n",
       "      <td>0</td>\n",
       "      <td>0</td>\n",
       "      <td>0</td>\n",
       "      <td>0</td>\n",
       "      <td>0</td>\n",
       "      <td>0</td>\n",
       "      <td>0</td>\n",
       "      <td>1</td>\n",
       "      <td>0</td>\n",
       "    </tr>\n",
       "    <tr>\n",
       "      <th>3</th>\n",
       "      <td>0</td>\n",
       "      <td>0</td>\n",
       "      <td>1</td>\n",
       "      <td>0</td>\n",
       "      <td>0</td>\n",
       "      <td>0</td>\n",
       "      <td>0</td>\n",
       "      <td>0</td>\n",
       "      <td>0</td>\n",
       "      <td>0</td>\n",
       "      <td>...</td>\n",
       "      <td>0</td>\n",
       "      <td>0</td>\n",
       "      <td>0</td>\n",
       "      <td>0</td>\n",
       "      <td>0</td>\n",
       "      <td>0</td>\n",
       "      <td>1</td>\n",
       "      <td>0</td>\n",
       "      <td>0</td>\n",
       "      <td>1</td>\n",
       "    </tr>\n",
       "    <tr>\n",
       "      <th>4</th>\n",
       "      <td>0</td>\n",
       "      <td>0</td>\n",
       "      <td>0</td>\n",
       "      <td>1</td>\n",
       "      <td>0</td>\n",
       "      <td>0</td>\n",
       "      <td>0</td>\n",
       "      <td>0</td>\n",
       "      <td>0</td>\n",
       "      <td>0</td>\n",
       "      <td>...</td>\n",
       "      <td>0</td>\n",
       "      <td>0</td>\n",
       "      <td>0</td>\n",
       "      <td>0</td>\n",
       "      <td>0</td>\n",
       "      <td>1</td>\n",
       "      <td>0</td>\n",
       "      <td>1</td>\n",
       "      <td>0</td>\n",
       "      <td>0</td>\n",
       "    </tr>\n",
       "    <tr>\n",
       "      <th>...</th>\n",
       "      <td>...</td>\n",
       "      <td>...</td>\n",
       "      <td>...</td>\n",
       "      <td>...</td>\n",
       "      <td>...</td>\n",
       "      <td>...</td>\n",
       "      <td>...</td>\n",
       "      <td>...</td>\n",
       "      <td>...</td>\n",
       "      <td>...</td>\n",
       "      <td>...</td>\n",
       "      <td>...</td>\n",
       "      <td>...</td>\n",
       "      <td>...</td>\n",
       "      <td>...</td>\n",
       "      <td>...</td>\n",
       "      <td>...</td>\n",
       "      <td>...</td>\n",
       "      <td>...</td>\n",
       "      <td>...</td>\n",
       "      <td>...</td>\n",
       "    </tr>\n",
       "    <tr>\n",
       "      <th>583</th>\n",
       "      <td>0</td>\n",
       "      <td>0</td>\n",
       "      <td>0</td>\n",
       "      <td>1</td>\n",
       "      <td>0</td>\n",
       "      <td>0</td>\n",
       "      <td>0</td>\n",
       "      <td>0</td>\n",
       "      <td>0</td>\n",
       "      <td>0</td>\n",
       "      <td>...</td>\n",
       "      <td>0</td>\n",
       "      <td>0</td>\n",
       "      <td>0</td>\n",
       "      <td>0</td>\n",
       "      <td>0</td>\n",
       "      <td>1</td>\n",
       "      <td>0</td>\n",
       "      <td>0</td>\n",
       "      <td>1</td>\n",
       "      <td>0</td>\n",
       "    </tr>\n",
       "    <tr>\n",
       "      <th>584</th>\n",
       "      <td>0</td>\n",
       "      <td>0</td>\n",
       "      <td>0</td>\n",
       "      <td>1</td>\n",
       "      <td>0</td>\n",
       "      <td>0</td>\n",
       "      <td>0</td>\n",
       "      <td>0</td>\n",
       "      <td>0</td>\n",
       "      <td>0</td>\n",
       "      <td>...</td>\n",
       "      <td>0</td>\n",
       "      <td>0</td>\n",
       "      <td>0</td>\n",
       "      <td>0</td>\n",
       "      <td>0</td>\n",
       "      <td>1</td>\n",
       "      <td>0</td>\n",
       "      <td>0</td>\n",
       "      <td>1</td>\n",
       "      <td>0</td>\n",
       "    </tr>\n",
       "    <tr>\n",
       "      <th>585</th>\n",
       "      <td>0</td>\n",
       "      <td>0</td>\n",
       "      <td>0</td>\n",
       "      <td>1</td>\n",
       "      <td>0</td>\n",
       "      <td>0</td>\n",
       "      <td>0</td>\n",
       "      <td>0</td>\n",
       "      <td>0</td>\n",
       "      <td>0</td>\n",
       "      <td>...</td>\n",
       "      <td>0</td>\n",
       "      <td>0</td>\n",
       "      <td>0</td>\n",
       "      <td>0</td>\n",
       "      <td>0</td>\n",
       "      <td>1</td>\n",
       "      <td>0</td>\n",
       "      <td>0</td>\n",
       "      <td>1</td>\n",
       "      <td>0</td>\n",
       "    </tr>\n",
       "    <tr>\n",
       "      <th>586</th>\n",
       "      <td>0</td>\n",
       "      <td>0</td>\n",
       "      <td>0</td>\n",
       "      <td>1</td>\n",
       "      <td>0</td>\n",
       "      <td>0</td>\n",
       "      <td>0</td>\n",
       "      <td>0</td>\n",
       "      <td>0</td>\n",
       "      <td>0</td>\n",
       "      <td>...</td>\n",
       "      <td>0</td>\n",
       "      <td>0</td>\n",
       "      <td>0</td>\n",
       "      <td>0</td>\n",
       "      <td>0</td>\n",
       "      <td>1</td>\n",
       "      <td>0</td>\n",
       "      <td>0</td>\n",
       "      <td>1</td>\n",
       "      <td>0</td>\n",
       "    </tr>\n",
       "    <tr>\n",
       "      <th>587</th>\n",
       "      <td>0</td>\n",
       "      <td>0</td>\n",
       "      <td>1</td>\n",
       "      <td>0</td>\n",
       "      <td>1</td>\n",
       "      <td>0</td>\n",
       "      <td>0</td>\n",
       "      <td>0</td>\n",
       "      <td>0</td>\n",
       "      <td>0</td>\n",
       "      <td>...</td>\n",
       "      <td>0</td>\n",
       "      <td>0</td>\n",
       "      <td>0</td>\n",
       "      <td>0</td>\n",
       "      <td>0</td>\n",
       "      <td>1</td>\n",
       "      <td>0</td>\n",
       "      <td>1</td>\n",
       "      <td>0</td>\n",
       "      <td>0</td>\n",
       "    </tr>\n",
       "  </tbody>\n",
       "</table>\n",
       "<p>588 rows × 104 columns</p>\n",
       "</div>\n",
       "      <button class=\"colab-df-convert\" onclick=\"convertToInteractive('df-1c53438a-5844-46e3-a08b-15438e4c2843')\"\n",
       "              title=\"Convert this dataframe to an interactive table.\"\n",
       "              style=\"display:none;\">\n",
       "        \n",
       "  <svg xmlns=\"http://www.w3.org/2000/svg\" height=\"24px\"viewBox=\"0 0 24 24\"\n",
       "       width=\"24px\">\n",
       "    <path d=\"M0 0h24v24H0V0z\" fill=\"none\"/>\n",
       "    <path d=\"M18.56 5.44l.94 2.06.94-2.06 2.06-.94-2.06-.94-.94-2.06-.94 2.06-2.06.94zm-11 1L8.5 8.5l.94-2.06 2.06-.94-2.06-.94L8.5 2.5l-.94 2.06-2.06.94zm10 10l.94 2.06.94-2.06 2.06-.94-2.06-.94-.94-2.06-.94 2.06-2.06.94z\"/><path d=\"M17.41 7.96l-1.37-1.37c-.4-.4-.92-.59-1.43-.59-.52 0-1.04.2-1.43.59L10.3 9.45l-7.72 7.72c-.78.78-.78 2.05 0 2.83L4 21.41c.39.39.9.59 1.41.59.51 0 1.02-.2 1.41-.59l7.78-7.78 2.81-2.81c.8-.78.8-2.07 0-2.86zM5.41 20L4 18.59l7.72-7.72 1.47 1.35L5.41 20z\"/>\n",
       "  </svg>\n",
       "      </button>\n",
       "      \n",
       "  <style>\n",
       "    .colab-df-container {\n",
       "      display:flex;\n",
       "      flex-wrap:wrap;\n",
       "      gap: 12px;\n",
       "    }\n",
       "\n",
       "    .colab-df-convert {\n",
       "      background-color: #E8F0FE;\n",
       "      border: none;\n",
       "      border-radius: 50%;\n",
       "      cursor: pointer;\n",
       "      display: none;\n",
       "      fill: #1967D2;\n",
       "      height: 32px;\n",
       "      padding: 0 0 0 0;\n",
       "      width: 32px;\n",
       "    }\n",
       "\n",
       "    .colab-df-convert:hover {\n",
       "      background-color: #E2EBFA;\n",
       "      box-shadow: 0px 1px 2px rgba(60, 64, 67, 0.3), 0px 1px 3px 1px rgba(60, 64, 67, 0.15);\n",
       "      fill: #174EA6;\n",
       "    }\n",
       "\n",
       "    [theme=dark] .colab-df-convert {\n",
       "      background-color: #3B4455;\n",
       "      fill: #D2E3FC;\n",
       "    }\n",
       "\n",
       "    [theme=dark] .colab-df-convert:hover {\n",
       "      background-color: #434B5C;\n",
       "      box-shadow: 0px 1px 3px 1px rgba(0, 0, 0, 0.15);\n",
       "      filter: drop-shadow(0px 1px 2px rgba(0, 0, 0, 0.3));\n",
       "      fill: #FFFFFF;\n",
       "    }\n",
       "  </style>\n",
       "\n",
       "      <script>\n",
       "        const buttonEl =\n",
       "          document.querySelector('#df-1c53438a-5844-46e3-a08b-15438e4c2843 button.colab-df-convert');\n",
       "        buttonEl.style.display =\n",
       "          google.colab.kernel.accessAllowed ? 'block' : 'none';\n",
       "\n",
       "        async function convertToInteractive(key) {\n",
       "          const element = document.querySelector('#df-1c53438a-5844-46e3-a08b-15438e4c2843');\n",
       "          const dataTable =\n",
       "            await google.colab.kernel.invokeFunction('convertToInteractive',\n",
       "                                                     [key], {});\n",
       "          if (!dataTable) return;\n",
       "\n",
       "          const docLinkHtml = 'Like what you see? Visit the ' +\n",
       "            '<a target=\"_blank\" href=https://colab.research.google.com/notebooks/data_table.ipynb>data table notebook</a>'\n",
       "            + ' to learn more about interactive tables.';\n",
       "          element.innerHTML = '';\n",
       "          dataTable['output_type'] = 'display_data';\n",
       "          await google.colab.output.renderOutput(dataTable, element);\n",
       "          const docLink = document.createElement('div');\n",
       "          docLink.innerHTML = docLinkHtml;\n",
       "          element.appendChild(docLink);\n",
       "        }\n",
       "      </script>\n",
       "    </div>\n",
       "  </div>\n",
       "  "
      ],
      "text/plain": [
       "     experience_level_EN  experience_level_EX  experience_level_MI  \\\n",
       "0                      0                    0                    1   \n",
       "1                      0                    0                    0   \n",
       "2                      0                    0                    0   \n",
       "3                      0                    0                    1   \n",
       "4                      0                    0                    0   \n",
       "..                   ...                  ...                  ...   \n",
       "583                    0                    0                    0   \n",
       "584                    0                    0                    0   \n",
       "585                    0                    0                    0   \n",
       "586                    0                    0                    0   \n",
       "587                    0                    0                    1   \n",
       "\n",
       "     experience_level_SE  job_title_AI Scientist  \\\n",
       "0                      0                       0   \n",
       "1                      1                       0   \n",
       "2                      1                       0   \n",
       "3                      0                       0   \n",
       "4                      1                       0   \n",
       "..                   ...                     ...   \n",
       "583                    1                       0   \n",
       "584                    1                       0   \n",
       "585                    1                       0   \n",
       "586                    1                       0   \n",
       "587                    0                       1   \n",
       "\n",
       "     job_title_Analytics Engineer  job_title_Applied Data Scientist  \\\n",
       "0                               0                                 0   \n",
       "1                               0                                 0   \n",
       "2                               0                                 0   \n",
       "3                               0                                 0   \n",
       "4                               0                                 0   \n",
       "..                            ...                               ...   \n",
       "583                             0                                 0   \n",
       "584                             0                                 0   \n",
       "585                             0                                 0   \n",
       "586                             0                                 0   \n",
       "587                             0                                 0   \n",
       "\n",
       "     job_title_Applied Machine Learning Scientist  job_title_BI Data Analyst  \\\n",
       "0                                               0                          0   \n",
       "1                                               0                          0   \n",
       "2                                               0                          0   \n",
       "3                                               0                          0   \n",
       "4                                               0                          0   \n",
       "..                                            ...                        ...   \n",
       "583                                             0                          0   \n",
       "584                                             0                          0   \n",
       "585                                             0                          0   \n",
       "586                                             0                          0   \n",
       "587                                             0                          0   \n",
       "\n",
       "     job_title_Big Data Engineer  ...  company_location_PL  \\\n",
       "0                              0  ...                    0   \n",
       "1                              0  ...                    0   \n",
       "2                              1  ...                    0   \n",
       "3                              0  ...                    0   \n",
       "4                              0  ...                    0   \n",
       "..                           ...  ...                  ...   \n",
       "583                            0  ...                    0   \n",
       "584                            0  ...                    0   \n",
       "585                            0  ...                    0   \n",
       "586                            0  ...                    0   \n",
       "587                            0  ...                    0   \n",
       "\n",
       "     company_location_PT  company_location_RU  company_location_SI  \\\n",
       "0                      0                    0                    0   \n",
       "1                      0                    0                    0   \n",
       "2                      0                    0                    0   \n",
       "3                      0                    0                    0   \n",
       "4                      0                    0                    0   \n",
       "..                   ...                  ...                  ...   \n",
       "583                    0                    0                    0   \n",
       "584                    0                    0                    0   \n",
       "585                    0                    0                    0   \n",
       "586                    0                    0                    0   \n",
       "587                    0                    0                    0   \n",
       "\n",
       "     company_location_TR  company_location_US  company_location_other  \\\n",
       "0                      0                    0                       0   \n",
       "1                      0                    0                       0   \n",
       "2                      0                    0                       0   \n",
       "3                      0                    0                       1   \n",
       "4                      0                    1                       0   \n",
       "..                   ...                  ...                     ...   \n",
       "583                    0                    1                       0   \n",
       "584                    0                    1                       0   \n",
       "585                    0                    1                       0   \n",
       "586                    0                    1                       0   \n",
       "587                    0                    1                       0   \n",
       "\n",
       "     company_size_L  company_size_M  company_size_S  \n",
       "0                 1               0               0  \n",
       "1                 0               0               1  \n",
       "2                 0               1               0  \n",
       "3                 0               0               1  \n",
       "4                 1               0               0  \n",
       "..              ...             ...             ...  \n",
       "583               0               1               0  \n",
       "584               0               1               0  \n",
       "585               0               1               0  \n",
       "586               0               1               0  \n",
       "587               1               0               0  \n",
       "\n",
       "[588 rows x 104 columns]"
      ]
     },
     "execution_count": 18,
     "metadata": {},
     "output_type": "execute_result"
    }
   ],
   "source": [
    "x = df.drop(columns = 'salary_in_usd')\n",
    "y = df['salary_in_usd']\n",
    "dummies1 = pd.get_dummies(data = x, columns = ['experience_level', 'job_title', 'employee_residence', 'company_location', 'company_size'])\n",
    "x = pd.concat([x.drop(['experience_level', 'job_title', 'employee_residence', 'company_location', 'company_size'], axis = 'columns'), dummies1], axis = 'columns')\n",
    "x"
   ]
  },
  {
   "cell_type": "markdown",
   "metadata": {
    "id": "P-37jv7U_XVH"
   },
   "source": [
    "### 4.3 One more important thing before we start\n",
    "\n",
    "We will run each algorithm with default parameters since in this project I do not want to show how to search for best parameters. It can be done using GridSearchCV or Randomized one, but we will do it in on of the next projects, where the goal will be to build a model Pipeline. Here the goal is to compare algorithms in very general ways. We will use 5-Fold Cross-Validation to get more metrics on the one hand, and to make each data point be a trainer for our model, on the other hand (it is useful since the dataset is small)"
   ]
  },
  {
   "cell_type": "markdown",
   "metadata": {
    "id": "rh_Q5HZqIiPr"
   },
   "source": [
    "### 4.4 Decision Tree\n",
    "\n",
    "This is the first algorithm in our evolution chain. Trees by themselves are weak learner. By combining them, we reduce bias or variance of the algoritm, making models better. So, whatever Boosting or Bagging techniques you use, the basis is always the simplest Decision Tree method. The advantage of this algorithm is that it is very clear, fast, easy to interpret, and can even be plotted. We will see that already the next step in our evolution chain - Random Forest algorithm, is a black box, requiring much more memory and time. However, despite all the advantages of the Decision Tree - it is usually a bad method to use"
   ]
  },
  {
   "cell_type": "code",
   "execution_count": 19,
   "metadata": {
    "colab": {
     "base_uri": "https://localhost:8080/"
    },
    "id": "dEXxHq479dtw",
    "outputId": "141be181-1b92-418c-c6a6-0137847586e8"
   },
   "outputs": [
    {
     "name": "stdout",
     "output_type": "stream",
     "text": [
      "Scores that we got:  [0.32194514 0.15085106 0.39171894 0.19535009 0.40410197]\n",
      "\n",
      "Total time spent is:  0.047  seconds\n"
     ]
    }
   ],
   "source": [
    "from sklearn.model_selection import ShuffleSplit\n",
    "from sklearn.model_selection import cross_val_score\n",
    "from sklearn.tree import DecisionTreeRegressor\n",
    "from time import time\n",
    "start = time()\n",
    "cv = ShuffleSplit(n_splits = 5, test_size = 0.2, random_state = 0)\n",
    "print('Scores that we got: ', cross_val_score(DecisionTreeRegressor(), x, y, cv=cv))\n",
    "speed = np.round(time() - start, 3)\n",
    "print('')\n",
    "print('Total time spent is: ', speed, ' seconds')"
   ]
  },
  {
   "cell_type": "markdown",
   "metadata": {
    "id": "8Ub-_bwQI_z-"
   },
   "source": [
    "We see that sometimes we get score around 0.4, sometimes - around 0.15. The difference is twice, therefore, our model is very likely to be overfitted, since the variance is high. This problem is common for Decision Trees, and usually to reduce high variance we use Bagging techniques. The most common among them is Random Forest"
   ]
  },
  {
   "cell_type": "markdown",
   "metadata": {
    "id": "XMBJS7_cJeTf"
   },
   "source": [
    "### 4.5 Random Forest\n",
    "\n",
    "Now we will generate many trees and combine their individual predictions to make a final prediction"
   ]
  },
  {
   "cell_type": "code",
   "execution_count": 20,
   "metadata": {
    "colab": {
     "base_uri": "https://localhost:8080/"
    },
    "id": "xHUIJxWaKCP2",
    "outputId": "fd258012-7466-42f7-9cb7-718171578e4d"
   },
   "outputs": [
    {
     "name": "stdout",
     "output_type": "stream",
     "text": [
      "Scores that we got:  [0.50227712 0.45193167 0.48740914 0.43770008 0.53247057]\n",
      "\n",
      "Total time spent is:  1.545  seconds\n"
     ]
    }
   ],
   "source": [
    "from sklearn.ensemble import RandomForestRegressor\n",
    "start = time()\n",
    "print('Scores that we got: ', cross_val_score(RandomForestRegressor(), x, y, cv=cv))\n",
    "speed = np.round(time() - start, 3)\n",
    "print('')\n",
    "print('Total time spent is: ', speed, ' seconds')"
   ]
  },
  {
   "cell_type": "markdown",
   "metadata": {
    "id": "4Xc4WClCLHzT"
   },
   "source": [
    "We see that both variance and bias were reduced. That is why, Random Forest is considered much better than simple Tree. However, there is a more efficient approach - to learn from mistakes the previous trees made while creating new ones. So now our model will be built sequentionally (not parallely) and we will take into account mistakes we made in past in order not to make them be made one more time. Probably the simplest boosting tecnique is AdaBoost"
   ]
  },
  {
   "cell_type": "markdown",
   "metadata": {
    "id": "6cpjcmSkMHYu"
   },
   "source": [
    "### 4.6 AdaBoost\n",
    "\n",
    "The advantage of this model is that it is usually not overfitted since we use the simplest possible trees (stumps) to train it. That is why, usually there is no need to do hyperparameter tuning. Based on the amount of right and wrong predictions each tree gets certain amount of say (how strongly will its voice influence the decision) and each time observations which were incorrectly classified will be chosen with higher probability in future samples for stumps constructions"
   ]
  },
  {
   "cell_type": "code",
   "execution_count": 21,
   "metadata": {
    "colab": {
     "base_uri": "https://localhost:8080/"
    },
    "id": "-hB_iesrOVUH",
    "outputId": "c54d89c8-89ee-4462-ac85-37526c7fd00c"
   },
   "outputs": [
    {
     "name": "stdout",
     "output_type": "stream",
     "text": [
      "Scores that we got:  [0.41722433 0.29374663 0.45282977 0.33895643 0.47362551]\n",
      "\n",
      "Total time spent is:  0.367  seconds\n"
     ]
    }
   ],
   "source": [
    "from sklearn.ensemble import AdaBoostRegressor\n",
    "start = time()\n",
    "print('Scores that we got: ', cross_val_score(AdaBoostRegressor(), x, y, cv=cv))\n",
    "speed = np.round(time() - start, 3)\n",
    "print('')\n",
    "print('Total time spent is: ', speed, ' seconds')"
   ]
  },
  {
   "cell_type": "markdown",
   "metadata": {
    "id": "8OwFC94LaBcc"
   },
   "source": [
    "### 4.7 XGBoost\n",
    "\n",
    "We will not use the typical Gradient Boosting since I do not see any point in it (unless you are doing ML within the tool having no XGBoost such as PySpark). It is slower, less efficient, and there is no regularization. However, the tool is still powerful and it is definetely worth using against Decision Tree and AdaBoost (at least most of the time). The point is that there is no point in it if there exist the extreme versions, which are better. Remember one of my last projects - where we found out there is no need to use Gradient Descent when we have SGD. At the same time, even batch GD is a very powerful tool. However, within the development of algorithms people develop more efficient approaches which help us save time with no loss in accuracy or even gain in it\n",
    "\n",
    "As for XGBoost, now we will learn from past mistakes not by making sample changes, but by optimizing the function with the help of Gradient Descent. At the same time, we will avoid overfitting by doing pruning - the Gain must be high enough to allow model expand trees. Also there will be a regularization term that will decrease the Similarity Score at each iteration, therefore, making pruning more strict"
   ]
  },
  {
   "cell_type": "code",
   "execution_count": 22,
   "metadata": {
    "colab": {
     "base_uri": "https://localhost:8080/"
    },
    "id": "6K9zrNvV_H5Z",
    "outputId": "5d49e672-b2d2-4503-a150-92b9ee643ccd"
   },
   "outputs": [
    {
     "name": "stdout",
     "output_type": "stream",
     "text": [
      "[19:08:37] WARNING: /workspace/src/objective/regression_obj.cu:152: reg:linear is now deprecated in favor of reg:squarederror.\n",
      "[19:08:37] WARNING: /workspace/src/objective/regression_obj.cu:152: reg:linear is now deprecated in favor of reg:squarederror.\n",
      "[19:08:37] WARNING: /workspace/src/objective/regression_obj.cu:152: reg:linear is now deprecated in favor of reg:squarederror.\n",
      "[19:08:38] WARNING: /workspace/src/objective/regression_obj.cu:152: reg:linear is now deprecated in favor of reg:squarederror.\n",
      "[19:08:38] WARNING: /workspace/src/objective/regression_obj.cu:152: reg:linear is now deprecated in favor of reg:squarederror.\n",
      "Scores that we got:  [0.52750133 0.45596996 0.52849607 0.50601674 0.53957701]\n",
      "\n",
      "Total time spent is:  0.709  seconds\n"
     ]
    }
   ],
   "source": [
    "import xgboost as xgb\n",
    "start = time()\n",
    "cv = ShuffleSplit(n_splits = 5, test_size = 0.2, random_state = 0)\n",
    "print('Scores that we got: ', cross_val_score(xgb.XGBRegressor(), x, y, cv=cv))\n",
    "speed = np.round(time() - start, 3)\n",
    "print('')\n",
    "print('Total time spent is: ', speed, ' seconds')"
   ]
  },
  {
   "cell_type": "markdown",
   "metadata": {
    "id": "88bfFEdxKj4z"
   },
   "source": [
    "### 4.8 LightGBM\n",
    "\n",
    "Microsoft made some changes with ordinary XGBoost to make this algorithm. It is usually faster than XGBoost because of the special tree structure (we will talk about it later)"
   ]
  },
  {
   "cell_type": "code",
   "execution_count": 23,
   "metadata": {
    "colab": {
     "base_uri": "https://localhost:8080/"
    },
    "id": "Fl2K_LZrErn6",
    "outputId": "e561e4a4-c1a0-416e-9ddd-778fb510ea66"
   },
   "outputs": [
    {
     "name": "stdout",
     "output_type": "stream",
     "text": [
      "Scores that we got:  [0.55249826 0.49637498 0.56525891 0.55007497 0.58339586]\n",
      "\n",
      "Total time spent is:  0.163  seconds\n"
     ]
    }
   ],
   "source": [
    "import lightgbm\n",
    "start = time()\n",
    "print('Scores that we got: ', cross_val_score(lightgbm.LGBMRegressor(), x, y, cv=cv))\n",
    "speed = np.round(time() - start, 3)\n",
    "print('')\n",
    "print('Total time spent is: ', speed, ' seconds')"
   ]
  },
  {
   "cell_type": "markdown",
   "metadata": {
    "id": "iXND2hMpaFAR"
   },
   "source": [
    "# 5 Interpretation of the results"
   ]
  },
  {
   "cell_type": "markdown",
   "metadata": {
    "id": "Wfk6k6ggaJmS"
   },
   "source": [
    "### 5.1 Accuracy\n",
    "\n",
    "CatBoost definetely outperformed everybody. LightGBM and XGBoost share second and third places respectively (LightGBM is somewhere around 55 percent accuracy, while XGBoost - around 50 percent accuracy). Random Forest works fine, while AdaBoost and Decision Tree show unsatisfying results, in my view"
   ]
  },
  {
   "cell_type": "markdown",
   "metadata": {
    "id": "TxKIBxQ7aJrv"
   },
   "source": [
    "### 5.2 Variance\n",
    "\n",
    "I find Decision Tree, AdaBoost and CatBoost as overfitted, while others are fine in these terms. I determined this by comparing the cross-validation ranges. I was surprised by AdaBoost and CatBoost, since AdaBoost is a relatively simple model, while CatBoost uses advanced techniques to reduce variance"
   ]
  },
  {
   "cell_type": "markdown",
   "metadata": {
    "id": "CH_q-1LSaJuL"
   },
   "source": [
    "### 5.3 Time\n",
    "\n",
    "It is obvious that Tree is the winner because the algorithm is very simple to train. As for others, CatBoost is the slowest and it is significantly slower than others. The main explanation is that it does 1000 iterations by default, even if it is not needed. Maybe this is the explanation of overfitting, since we know that models start to overtrain ones we have more iterations than necessary. However, we will not change the parameters in this project. As it was expected, LightGBM is very good at time, and the accuracy is relatively well also. XGBoost is approximately twice faster than Random Forest, although the accuracy is better\n",
    "\n",
    "The metric of time here is not important, since the dataset is very small and has just a few features. It does not matter if we train a one minute more, if this results in a higher accuracy. For this reasons, CatBoost definetely performed the best, and Tree - the worst, despite they are absolute loser and winner in terms of speed respectively"
   ]
  },
  {
   "cell_type": "markdown",
   "metadata": {
    "id": "aGyPeAq5aJwy"
   },
   "source": [
    "### 5.4 Best algorithms for this particular case (which and why)\n",
    "\n",
    "I already explained why we are not looking at speed while exploring the best algorithm for this problem. That is why we will look at accuracy. Since CatBoost is the leader, and LightGBM and XGBoost are not overfitted, these will be our winners"
   ]
  },
  {
   "cell_type": "markdown",
   "metadata": {
    "id": "zEVnA3TYaJ7h"
   },
   "source": [
    "### 5.5 Algorithms which gave unsatisfying results (which and why)\n",
    "\n",
    "I am not pleased with Tree and AdaBoost since they have both high bias and high variance (compared to other algorithms)"
   ]
  },
  {
   "cell_type": "markdown",
   "metadata": {
    "id": "CilP6gGiamuW"
   },
   "source": [
    "# 6 XGBoost vs CatBoost vs LightGBM\n",
    "\n",
    "These 3 algortihms can be considered as the most powerful classical statistical ML methods. Their strength can sometimes outperform even Deep Learning methods. That is why, there is a frequent question - which one is better? In order to see why there is no clear answer, let's compare them:\n",
    "\n"
   ]
  },
  {
   "cell_type": "markdown",
   "metadata": {},
   "source": [
    "### 6.1 How the Decision Tree is created?\n",
    "\n",
    "In XGBoost the Decision Tree is the ordinary one; In CatBoost the Tree is symmetric (nodes at the same level split at the same condition); In LightGBM the Tree is leaf-wise (only one leaf grow throughout iteration, and we choose a leaf that maximises the additional Gain). We cannot say which option is the best one, it depends on the use case"
   ]
  },
  {
   "cell_type": "markdown",
   "metadata": {
    "id": "h35JGgxCPi0V"
   },
   "source": [
    "### 6.2 Categorical variables\n",
    "\n",
    "We saw that CatBoost perfectly deals with these variables; as for XGBoost, we will have to do one-hot encoding. In LightGBM there is a special technique, but, according to my observations, CatBoost is the most powerful in these terms"
   ]
  },
  {
   "cell_type": "markdown",
   "metadata": {},
   "source": [
    "### 6.3 Speed\n",
    "\n",
    "LightGBM is the winner in most of the cases. As for XGBoost and CatBoost, it is harder to say. Here the XGBoost was an absolute winner, while some researchers claim that CatBoost can be several times faster on big data because of the special Tree design. Also, there are many parameters to play with, which affect speed much"
   ]
  },
  {
   "cell_type": "markdown",
   "metadata": {},
   "source": [
    "### 6.4 When to use?\n",
    "\n",
    "###### This is just my opinion and I say it accroding to the literature and materials I studied, as well as my own experience\n",
    "\n",
    "CatBoost is probably the best option when we deal with many categorical features (I have seen at least few datasets which fully consist of them). In this situation, CatBoost will save a lot of time and the code will be more attractive and easy to understand\n",
    "\n",
    "LightGBM is great when we do not want to spend much time on the task. We are sure that whatever the situation is, we can somehow handle categorical features, the speed will be just fine, and the accuracy will be good enough\n",
    "\n",
    "XGBoost is useful when accuracy matters, as well as the community support. This algorithm has proven itself many times for many years. It is liked by both Kaggle competition winners, academic researchers, and industrial Data Scientists"
   ]
  },
  {
   "cell_type": "code",
   "execution_count": null,
   "metadata": {},
   "outputs": [],
   "source": []
  }
 ],
 "metadata": {
  "colab": {
   "collapsed_sections": [],
   "name": "Ensemble learners.ipynb",
   "provenance": []
  },
  "kernelspec": {
   "display_name": "Python 3",
   "language": "python",
   "name": "python3"
  },
  "language_info": {
   "codemirror_mode": {
    "name": "ipython",
    "version": 3
   },
   "file_extension": ".py",
   "mimetype": "text/x-python",
   "name": "python",
   "nbconvert_exporter": "python",
   "pygments_lexer": "ipython3",
   "version": "3.7.6"
  }
 },
 "nbformat": 4,
 "nbformat_minor": 1
}
