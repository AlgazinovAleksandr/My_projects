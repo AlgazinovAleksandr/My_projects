{
 "cells": [
  {
   "cell_type": "markdown",
   "metadata": {},
   "source": [
    "# 1 Motivation\n",
    "\n",
    "Modern tasks of Artificial Intelligence and Machine Learning often require working with Big Data. For example, recommendation systems are based on a huge number of users and items. Therefore, in addition to training high-quality models and making good predictions, we have another equally important problem - speed and optimization. In such tasks, it is unacceptable to write inefficient and slow code, since it will take a very long time (if it finishes running at all). A lot of frameworks and tools have been invented to solve this problem. In particular, PySpark allows us not only to carry out parallel calculations, but also to do it in an efficient way. And Vowpal Wabbit allows us to train models quickly, without storing the entire dataset in memory. We will use both of these tools to solve the classification problem "
   ]
  },
  {
   "cell_type": "markdown",
   "metadata": {},
   "source": [
    "# 2 Introduction to the problem and the structure of the dataset\n",
    "\n",
    "We will use Outbrain Click Prediction competition form Kaggle to train (https://www.kaggle.com/competitions/outbrain-click-prediction/overview). Despite the problem seems trivial, there are 2 key points about it:\n",
    "\n",
    "1) Dataset is large. Although you do not need to use most of the tables to get a relatively good score, people who got in top positions used the biggest table (it has over 2 billion records and the size is slightly more than 100GB uncompressed)\n",
    "\n",
    "2) The description of the tables, how to merge them, and for what are they actually needed cannot be considered as very clear, so you either need to test many hypothesis and look at all this tables by yourself, or to study the work of other people\n",
    "\n",
    "Since the competition is already finished, we can use the insights of other people to solve the problem (it is still a learning process). Indeed, a relatively good metric can be got just from the hints of one of the top-performers (http://dsnotes.com/post/2017-01-27-lessons-learned-from-outbrain-click-prediction-kaggle-competition/). Unfortunately, he did it on R, but his work is still very useful to read. With very simple features and just two inner joins we will be able to get MAP (this is the competitions's evaluation metric) around 0.655 (with leak (which adds ~ 0.015) the score will be around 0.67 which is equivalent to 90-100 position in the competition). The leak is described here https://www.kaggle.com/code/its7171/leakage-solution, but we will not use it. We will move slightly further and use one more hint to get a good metric. The author did this with R and he did not have all those sources that we have right now, therefore, it will be easier for us and we will not need to carry as much as he about the optimization (for example, we will not need to do the feature hashing)"
   ]
  },
  {
   "cell_type": "markdown",
   "metadata": {},
   "source": [
    "### 2.1 Loading the data and preparation of the dataset\n",
    "\n",
    "We will work with Hadoop system. Let me remind you that it is very preferable to use remote access to the cluster here, since on a local machine, no matter how powerful it is, there may be memory problems (both with regular storage and with RAM). At a minimum, you will have to do quite unpleasant and lengthy optimizations from the point of view of writing code (for example, reading a file by blocks, hashing features), which can be avoided by using parallelization and remote resources\n",
    "\n",
    "So we will start with dowloading dataset straight from Kaggle and then prepare the files to put them in HDFS. Some files we will not need, but I realised it already after I have put everything in HDFS. We will create a new working directory, unzip files and put them there in order to work with them later"
   ]
  },
  {
   "cell_type": "code",
   "execution_count": null,
   "metadata": {},
   "outputs": [],
   "source": [
    "! pip3 install -U kaggle"
   ]
  },
  {
   "cell_type": "code",
   "execution_count": null,
   "metadata": {},
   "outputs": [],
   "source": [
    "! kaggle competitions files outbrain-click-prediction -v | tail -n+2 | cut -d, -f1 | xargs -n1 -P0 kaggle competitions download -c outbrain-click-prediction -f"
   ]
  },
  {
   "cell_type": "code",
   "execution_count": null,
   "metadata": {},
   "outputs": [],
   "source": [
    "! hdfs dfs -rm -r /user/Clicks_prediction/\n",
    "! hdfs dfs -mkdir -p /user/Clicks_prediction/"
   ]
  },
  {
   "cell_type": "code",
   "execution_count": null,
   "metadata": {},
   "outputs": [],
   "source": [
    "! unzip clicks_train.csv.zip\n",
    "! hdfs dfs -rm -r /user/Clicks_prediction/clicks_train\n",
    "! hdfs dfs -put  clicks_train.csv /user/Clicks_prediction/clicks_train\n",
    "\n",
    "! unzip clicks_test.csv.zip\n",
    "! hdfs dfs -rm -r /user/Clicks_prediction/clicks_test\n",
    "! hdfs dfs -put  clicks_test.csv /user/Clicks_prediction/clicks_test\n",
    "\n",
    "! unzip promoted_content.csv.zip\n",
    "! hdfs dfs -rm -r /user/Clicks_prediction/promoted_content\n",
    "! hdfs dfs -put  promoted_content.csv /user/Clicks_prediction/promoted_content\n",
    "\n",
    "! unzip events.csv.zip\n",
    "! hdfs dfs -rm -r /user/Clicks_prediction/events\n",
    "! hdfs dfs -put  events.csv /user/Clicks_prediction/events\n",
    "\n",
    "! unzip sample_submission.csv.zip\n",
    "! hdfs dfs -rm -r /user/Clicks_prediction/sample_submission\n",
    "! hdfs dfs -put  sample_submission.csv /user/Clicks_prediction/sample_submission\n",
    "\n",
    "! unzip page_views.csv.zip\n",
    "! hdfs dfs -rm -r /user/Clicks_prediction/page_views\n",
    "! hdfs dfs -put  page_views.csv /user/Clicks_prediction/page_views\n",
    "\n",
    "! unzip documents_topics.csv.zip\n",
    "! hdfs dfs -rm -r /user/Clicks_prediction/documents_topics\n",
    "! hdfs dfs -put  documents_topics.csv /user/Clicks_prediction/documents_topics\n",
    "\n",
    "! unzip documents_meta.csv.zip\n",
    "! hdfs dfs -rm -r /user/Clicks_prediction/documents_meta\n",
    "! hdfs dfs -put  documents_meta.csv /user/Clicks_prediction/documents_meta\n",
    "\n",
    "! unzip documents_entities.csv.zip\n",
    "! hdfs dfs -rm -r /user/Clicks_prediction/documents_entities\n",
    "! hdfs dfs -put  documents_entities.csv /user/Clicks_prediction/documents_entities\n",
    "\n",
    "! unzip documents_categories.csv.zip\n",
    "! hdfs dfs -rm -r /user/Clicks_prediction/documents_categories\n",
    "! hdfs dfs -put  documents_categories.csv /user/Clicks_prediction/documents_categories"
   ]
  },
  {
   "cell_type": "markdown",
   "metadata": {},
   "source": [
    "### 2.2 Import libraries and read tables"
   ]
  },
  {
   "cell_type": "code",
   "execution_count": 1,
   "metadata": {},
   "outputs": [],
   "source": [
    "import findspark\n",
    "import pandas as pd\n",
    "findspark.init()"
   ]
  },
  {
   "cell_type": "code",
   "execution_count": 2,
   "metadata": {},
   "outputs": [
    {
     "name": "stderr",
     "output_type": "stream",
     "text": [
      "SLF4J: Class path contains multiple SLF4J bindings.\n",
      "SLF4J: Found binding in [jar:file:/usr/lib/spark/jars/slf4j-log4j12-1.7.30.jar!/org/slf4j/impl/StaticLoggerBinder.class]\n",
      "SLF4J: Found binding in [jar:file:/usr/lib/hadoop/lib/slf4j-log4j12-1.7.25.jar!/org/slf4j/impl/StaticLoggerBinder.class]\n",
      "SLF4J: See http://www.slf4j.org/codes.html#multiple_bindings for an explanation.\n",
      "SLF4J: Actual binding is of type [org.slf4j.impl.Log4jLoggerFactory]\n",
      "Setting default log level to \"WARN\".\n",
      "To adjust logging level use sc.setLogLevel(newLevel). For SparkR, use setLogLevel(newLevel).\n",
      "2023-03-26 11:48:37,719 WARN util.Utils: spark.executor.instances less than spark.dynamicAllocation.minExecutors is invalid, ignoring its setting, please update your configs.\n",
      "2023-03-26 11:48:48,695 WARN util.Utils: spark.executor.instances less than spark.dynamicAllocation.minExecutors is invalid, ignoring its setting, please update your configs.\n",
      "2023-03-26 11:48:48,710 WARN cluster.YarnSchedulerBackend$YarnSchedulerEndpoint: Attempted to request executors before the AM has registered!\n"
     ]
    }
   ],
   "source": [
    "import pyspark\n",
    "from pyspark.sql import SparkSession, Row\n",
    "sc = pyspark.SparkContext()"
   ]
  },
  {
   "cell_type": "code",
   "execution_count": 3,
   "metadata": {},
   "outputs": [],
   "source": [
    "se = SparkSession(sc)"
   ]
  },
  {
   "cell_type": "code",
   "execution_count": 4,
   "metadata": {},
   "outputs": [],
   "source": [
    "from pyspark.sql.functions import col, explode, regexp_replace, split, lower"
   ]
  },
  {
   "cell_type": "code",
   "execution_count": 5,
   "metadata": {},
   "outputs": [],
   "source": [
    "import pyspark.sql.functions as F\n",
    "from pyspark.sql.types import IntegerType"
   ]
  },
  {
   "cell_type": "code",
   "execution_count": 6,
   "metadata": {},
   "outputs": [],
   "source": [
    "from pyspark.sql.functions import collect_list\n",
    "from pyspark.sql.functions import *\n",
    "from pyspark.sql.types import StringType"
   ]
  },
  {
   "cell_type": "code",
   "execution_count": 7,
   "metadata": {},
   "outputs": [
    {
     "name": "stderr",
     "output_type": "stream",
     "text": [
      "                                                                                \r"
     ]
    }
   ],
   "source": [
    "page_views = se.read.csv(\"/user/Clicks_prediction/page_views\", sep=r',', header=True)\n",
    "events = se.read.csv(\"/user/Clicks_prediction/events\", sep=r',', header=True)\n",
    "clicks_train = se.read.csv(\"/user/Clicks_prediction/clicks_train\", sep=r',', header=True)\n",
    "clicks_test = se.read.csv(\"/user/Clicks_prediction/clicks_test\", sep=r',', header=True)\n",
    "promoted_content = se.read.csv(\"/user/Clicks_prediction/promoted_content\", sep=r',', header=True)\n",
    "promoted_content = promoted_content.withColumnRenamed(\"document_id\",\"promo_document_id\")\n",
    "documents_meta = se.read.csv(\"/user/Clicks_prediction/documents_meta\", sep=r',', header=True)\n",
    "documents_topics = se.read.csv(\"/user/Clicks_prediction/documents_topics\", sep=r',', header=True)\n",
    "documents_entities = se.read.csv(\"/user/Clicks_prediction/documents_entities\", sep=r',', header=True)\n",
    "documents_categories = se.read.csv(\"/user/Clicks_prediction/documents_categories\", sep=r',', header=True)\n",
    "\n",
    "documents_topics = documents_topics.withColumnRenamed(\"confidence_level\",\"documents_topics_confidence_level\")\n",
    "documents_entities = documents_entities.withColumnRenamed(\"confidence_level\",\"documents_entities_confidence_level\")\n",
    "documents_categories = documents_categories.withColumnRenamed(\"confidence_level\",\"documents_categories_confidence_level\")"
   ]
  },
  {
   "cell_type": "markdown",
   "metadata": {},
   "source": [
    "### 2.3 Let's see what the tables we will use look like"
   ]
  },
  {
   "cell_type": "code",
   "execution_count": 10,
   "metadata": {},
   "outputs": [],
   "source": [
    "page_views_df = page_views.limit(10).toPandas()\n",
    "clicks_train_df = clicks_train.limit(10).toPandas()\n",
    "promoted_content_df = promoted_content.limit(10).toPandas()\n",
    "events_df = events.limit(10).toPandas()"
   ]
  },
  {
   "cell_type": "code",
   "execution_count": 9,
   "metadata": {},
   "outputs": [
    {
     "data": {
      "text/html": [
       "<div>\n",
       "<style scoped>\n",
       "    .dataframe tbody tr th:only-of-type {\n",
       "        vertical-align: middle;\n",
       "    }\n",
       "\n",
       "    .dataframe tbody tr th {\n",
       "        vertical-align: top;\n",
       "    }\n",
       "\n",
       "    .dataframe thead th {\n",
       "        text-align: right;\n",
       "    }\n",
       "</style>\n",
       "<table border=\"1\" class=\"dataframe\">\n",
       "  <thead>\n",
       "    <tr style=\"text-align: right;\">\n",
       "      <th></th>\n",
       "      <th>uuid</th>\n",
       "      <th>document_id</th>\n",
       "      <th>timestamp</th>\n",
       "      <th>platform</th>\n",
       "      <th>geo_location</th>\n",
       "      <th>traffic_source</th>\n",
       "    </tr>\n",
       "  </thead>\n",
       "  <tbody>\n",
       "    <tr>\n",
       "      <th>0</th>\n",
       "      <td>1fd5f051fba643</td>\n",
       "      <td>120</td>\n",
       "      <td>31905835</td>\n",
       "      <td>1</td>\n",
       "      <td>RS</td>\n",
       "      <td>2</td>\n",
       "    </tr>\n",
       "    <tr>\n",
       "      <th>1</th>\n",
       "      <td>8557aa9004be3b</td>\n",
       "      <td>120</td>\n",
       "      <td>32053104</td>\n",
       "      <td>1</td>\n",
       "      <td>VN&gt;44</td>\n",
       "      <td>2</td>\n",
       "    </tr>\n",
       "    <tr>\n",
       "      <th>2</th>\n",
       "      <td>c351b277a358f0</td>\n",
       "      <td>120</td>\n",
       "      <td>54013023</td>\n",
       "      <td>1</td>\n",
       "      <td>KR&gt;12</td>\n",
       "      <td>1</td>\n",
       "    </tr>\n",
       "    <tr>\n",
       "      <th>3</th>\n",
       "      <td>8205775c5387f9</td>\n",
       "      <td>120</td>\n",
       "      <td>44196592</td>\n",
       "      <td>1</td>\n",
       "      <td>IN&gt;16</td>\n",
       "      <td>2</td>\n",
       "    </tr>\n",
       "    <tr>\n",
       "      <th>4</th>\n",
       "      <td>9cb0ccd8458371</td>\n",
       "      <td>120</td>\n",
       "      <td>65817371</td>\n",
       "      <td>1</td>\n",
       "      <td>US&gt;CA&gt;807</td>\n",
       "      <td>2</td>\n",
       "    </tr>\n",
       "    <tr>\n",
       "      <th>5</th>\n",
       "      <td>2aa611f32875c7</td>\n",
       "      <td>120</td>\n",
       "      <td>71495491</td>\n",
       "      <td>1</td>\n",
       "      <td>CA&gt;ON</td>\n",
       "      <td>2</td>\n",
       "    </tr>\n",
       "    <tr>\n",
       "      <th>6</th>\n",
       "      <td>f55a6eaf2b34ab</td>\n",
       "      <td>120</td>\n",
       "      <td>73309199</td>\n",
       "      <td>1</td>\n",
       "      <td>BR&gt;27</td>\n",
       "      <td>2</td>\n",
       "    </tr>\n",
       "    <tr>\n",
       "      <th>7</th>\n",
       "      <td>cc01b582c8cbff</td>\n",
       "      <td>120</td>\n",
       "      <td>50033577</td>\n",
       "      <td>1</td>\n",
       "      <td>CA&gt;BC</td>\n",
       "      <td>2</td>\n",
       "    </tr>\n",
       "    <tr>\n",
       "      <th>8</th>\n",
       "      <td>6c802978b8dd4d</td>\n",
       "      <td>120</td>\n",
       "      <td>66590306</td>\n",
       "      <td>1</td>\n",
       "      <td>CA&gt;ON</td>\n",
       "      <td>2</td>\n",
       "    </tr>\n",
       "    <tr>\n",
       "      <th>9</th>\n",
       "      <td>f4e423314303ff</td>\n",
       "      <td>120</td>\n",
       "      <td>48314254</td>\n",
       "      <td>1</td>\n",
       "      <td>US&gt;LA&gt;622</td>\n",
       "      <td>1</td>\n",
       "    </tr>\n",
       "  </tbody>\n",
       "</table>\n",
       "</div>"
      ],
      "text/plain": [
       "             uuid document_id timestamp platform geo_location traffic_source\n",
       "0  1fd5f051fba643         120  31905835        1           RS              2\n",
       "1  8557aa9004be3b         120  32053104        1        VN>44              2\n",
       "2  c351b277a358f0         120  54013023        1        KR>12              1\n",
       "3  8205775c5387f9         120  44196592        1        IN>16              2\n",
       "4  9cb0ccd8458371         120  65817371        1    US>CA>807              2\n",
       "5  2aa611f32875c7         120  71495491        1        CA>ON              2\n",
       "6  f55a6eaf2b34ab         120  73309199        1        BR>27              2\n",
       "7  cc01b582c8cbff         120  50033577        1        CA>BC              2\n",
       "8  6c802978b8dd4d         120  66590306        1        CA>ON              2\n",
       "9  f4e423314303ff         120  48314254        1    US>LA>622              1"
      ]
     },
     "execution_count": 9,
     "metadata": {},
     "output_type": "execute_result"
    }
   ],
   "source": [
    "page_views_df"
   ]
  },
  {
   "cell_type": "code",
   "execution_count": 11,
   "metadata": {},
   "outputs": [
    {
     "data": {
      "text/html": [
       "<div>\n",
       "<style scoped>\n",
       "    .dataframe tbody tr th:only-of-type {\n",
       "        vertical-align: middle;\n",
       "    }\n",
       "\n",
       "    .dataframe tbody tr th {\n",
       "        vertical-align: top;\n",
       "    }\n",
       "\n",
       "    .dataframe thead th {\n",
       "        text-align: right;\n",
       "    }\n",
       "</style>\n",
       "<table border=\"1\" class=\"dataframe\">\n",
       "  <thead>\n",
       "    <tr style=\"text-align: right;\">\n",
       "      <th></th>\n",
       "      <th>display_id</th>\n",
       "      <th>ad_id</th>\n",
       "      <th>clicked</th>\n",
       "    </tr>\n",
       "  </thead>\n",
       "  <tbody>\n",
       "    <tr>\n",
       "      <th>0</th>\n",
       "      <td>1</td>\n",
       "      <td>42337</td>\n",
       "      <td>0</td>\n",
       "    </tr>\n",
       "    <tr>\n",
       "      <th>1</th>\n",
       "      <td>1</td>\n",
       "      <td>139684</td>\n",
       "      <td>0</td>\n",
       "    </tr>\n",
       "    <tr>\n",
       "      <th>2</th>\n",
       "      <td>1</td>\n",
       "      <td>144739</td>\n",
       "      <td>1</td>\n",
       "    </tr>\n",
       "    <tr>\n",
       "      <th>3</th>\n",
       "      <td>1</td>\n",
       "      <td>156824</td>\n",
       "      <td>0</td>\n",
       "    </tr>\n",
       "    <tr>\n",
       "      <th>4</th>\n",
       "      <td>1</td>\n",
       "      <td>279295</td>\n",
       "      <td>0</td>\n",
       "    </tr>\n",
       "    <tr>\n",
       "      <th>5</th>\n",
       "      <td>1</td>\n",
       "      <td>296965</td>\n",
       "      <td>0</td>\n",
       "    </tr>\n",
       "    <tr>\n",
       "      <th>6</th>\n",
       "      <td>2</td>\n",
       "      <td>125211</td>\n",
       "      <td>0</td>\n",
       "    </tr>\n",
       "    <tr>\n",
       "      <th>7</th>\n",
       "      <td>2</td>\n",
       "      <td>156535</td>\n",
       "      <td>0</td>\n",
       "    </tr>\n",
       "    <tr>\n",
       "      <th>8</th>\n",
       "      <td>2</td>\n",
       "      <td>169564</td>\n",
       "      <td>0</td>\n",
       "    </tr>\n",
       "    <tr>\n",
       "      <th>9</th>\n",
       "      <td>2</td>\n",
       "      <td>308455</td>\n",
       "      <td>1</td>\n",
       "    </tr>\n",
       "  </tbody>\n",
       "</table>\n",
       "</div>"
      ],
      "text/plain": [
       "  display_id   ad_id clicked\n",
       "0          1   42337       0\n",
       "1          1  139684       0\n",
       "2          1  144739       1\n",
       "3          1  156824       0\n",
       "4          1  279295       0\n",
       "5          1  296965       0\n",
       "6          2  125211       0\n",
       "7          2  156535       0\n",
       "8          2  169564       0\n",
       "9          2  308455       1"
      ]
     },
     "execution_count": 11,
     "metadata": {},
     "output_type": "execute_result"
    }
   ],
   "source": [
    "clicks_train_df"
   ]
  },
  {
   "cell_type": "code",
   "execution_count": 12,
   "metadata": {},
   "outputs": [
    {
     "data": {
      "text/html": [
       "<div>\n",
       "<style scoped>\n",
       "    .dataframe tbody tr th:only-of-type {\n",
       "        vertical-align: middle;\n",
       "    }\n",
       "\n",
       "    .dataframe tbody tr th {\n",
       "        vertical-align: top;\n",
       "    }\n",
       "\n",
       "    .dataframe thead th {\n",
       "        text-align: right;\n",
       "    }\n",
       "</style>\n",
       "<table border=\"1\" class=\"dataframe\">\n",
       "  <thead>\n",
       "    <tr style=\"text-align: right;\">\n",
       "      <th></th>\n",
       "      <th>ad_id</th>\n",
       "      <th>promo_document_id</th>\n",
       "      <th>campaign_id</th>\n",
       "      <th>advertiser_id</th>\n",
       "    </tr>\n",
       "  </thead>\n",
       "  <tbody>\n",
       "    <tr>\n",
       "      <th>0</th>\n",
       "      <td>1</td>\n",
       "      <td>6614</td>\n",
       "      <td>1</td>\n",
       "      <td>7</td>\n",
       "    </tr>\n",
       "    <tr>\n",
       "      <th>1</th>\n",
       "      <td>2</td>\n",
       "      <td>471467</td>\n",
       "      <td>2</td>\n",
       "      <td>7</td>\n",
       "    </tr>\n",
       "    <tr>\n",
       "      <th>2</th>\n",
       "      <td>3</td>\n",
       "      <td>7692</td>\n",
       "      <td>3</td>\n",
       "      <td>7</td>\n",
       "    </tr>\n",
       "    <tr>\n",
       "      <th>3</th>\n",
       "      <td>4</td>\n",
       "      <td>471471</td>\n",
       "      <td>2</td>\n",
       "      <td>7</td>\n",
       "    </tr>\n",
       "    <tr>\n",
       "      <th>4</th>\n",
       "      <td>5</td>\n",
       "      <td>471472</td>\n",
       "      <td>2</td>\n",
       "      <td>7</td>\n",
       "    </tr>\n",
       "    <tr>\n",
       "      <th>5</th>\n",
       "      <td>6</td>\n",
       "      <td>12736</td>\n",
       "      <td>1</td>\n",
       "      <td>7</td>\n",
       "    </tr>\n",
       "    <tr>\n",
       "      <th>6</th>\n",
       "      <td>7</td>\n",
       "      <td>12808</td>\n",
       "      <td>1</td>\n",
       "      <td>7</td>\n",
       "    </tr>\n",
       "    <tr>\n",
       "      <th>7</th>\n",
       "      <td>8</td>\n",
       "      <td>471477</td>\n",
       "      <td>2</td>\n",
       "      <td>7</td>\n",
       "    </tr>\n",
       "    <tr>\n",
       "      <th>8</th>\n",
       "      <td>9</td>\n",
       "      <td>13379</td>\n",
       "      <td>1</td>\n",
       "      <td>7</td>\n",
       "    </tr>\n",
       "    <tr>\n",
       "      <th>9</th>\n",
       "      <td>10</td>\n",
       "      <td>13885</td>\n",
       "      <td>1</td>\n",
       "      <td>7</td>\n",
       "    </tr>\n",
       "  </tbody>\n",
       "</table>\n",
       "</div>"
      ],
      "text/plain": [
       "  ad_id promo_document_id campaign_id advertiser_id\n",
       "0     1              6614           1             7\n",
       "1     2            471467           2             7\n",
       "2     3              7692           3             7\n",
       "3     4            471471           2             7\n",
       "4     5            471472           2             7\n",
       "5     6             12736           1             7\n",
       "6     7             12808           1             7\n",
       "7     8            471477           2             7\n",
       "8     9             13379           1             7\n",
       "9    10             13885           1             7"
      ]
     },
     "execution_count": 12,
     "metadata": {},
     "output_type": "execute_result"
    }
   ],
   "source": [
    "promoted_content_df"
   ]
  },
  {
   "cell_type": "code",
   "execution_count": 13,
   "metadata": {},
   "outputs": [
    {
     "data": {
      "text/html": [
       "<div>\n",
       "<style scoped>\n",
       "    .dataframe tbody tr th:only-of-type {\n",
       "        vertical-align: middle;\n",
       "    }\n",
       "\n",
       "    .dataframe tbody tr th {\n",
       "        vertical-align: top;\n",
       "    }\n",
       "\n",
       "    .dataframe thead th {\n",
       "        text-align: right;\n",
       "    }\n",
       "</style>\n",
       "<table border=\"1\" class=\"dataframe\">\n",
       "  <thead>\n",
       "    <tr style=\"text-align: right;\">\n",
       "      <th></th>\n",
       "      <th>display_id</th>\n",
       "      <th>uuid</th>\n",
       "      <th>document_id</th>\n",
       "      <th>timestamp</th>\n",
       "      <th>platform</th>\n",
       "      <th>geo_location</th>\n",
       "    </tr>\n",
       "  </thead>\n",
       "  <tbody>\n",
       "    <tr>\n",
       "      <th>0</th>\n",
       "      <td>1</td>\n",
       "      <td>cb8c55702adb93</td>\n",
       "      <td>379743</td>\n",
       "      <td>61</td>\n",
       "      <td>3</td>\n",
       "      <td>US&gt;SC&gt;519</td>\n",
       "    </tr>\n",
       "    <tr>\n",
       "      <th>1</th>\n",
       "      <td>2</td>\n",
       "      <td>79a85fa78311b9</td>\n",
       "      <td>1794259</td>\n",
       "      <td>81</td>\n",
       "      <td>2</td>\n",
       "      <td>US&gt;CA&gt;807</td>\n",
       "    </tr>\n",
       "    <tr>\n",
       "      <th>2</th>\n",
       "      <td>3</td>\n",
       "      <td>822932ce3d8757</td>\n",
       "      <td>1179111</td>\n",
       "      <td>182</td>\n",
       "      <td>2</td>\n",
       "      <td>US&gt;MI&gt;505</td>\n",
       "    </tr>\n",
       "    <tr>\n",
       "      <th>3</th>\n",
       "      <td>4</td>\n",
       "      <td>85281d0a49f7ac</td>\n",
       "      <td>1777797</td>\n",
       "      <td>234</td>\n",
       "      <td>2</td>\n",
       "      <td>US&gt;WV&gt;564</td>\n",
       "    </tr>\n",
       "    <tr>\n",
       "      <th>4</th>\n",
       "      <td>5</td>\n",
       "      <td>8d0daef4bf5b56</td>\n",
       "      <td>252458</td>\n",
       "      <td>338</td>\n",
       "      <td>2</td>\n",
       "      <td>SG&gt;00</td>\n",
       "    </tr>\n",
       "    <tr>\n",
       "      <th>5</th>\n",
       "      <td>6</td>\n",
       "      <td>7765b4faae4ad4</td>\n",
       "      <td>1773517</td>\n",
       "      <td>395</td>\n",
       "      <td>3</td>\n",
       "      <td>US&gt;OH&gt;510</td>\n",
       "    </tr>\n",
       "    <tr>\n",
       "      <th>6</th>\n",
       "      <td>7</td>\n",
       "      <td>2cc3f6457d16da</td>\n",
       "      <td>1149661</td>\n",
       "      <td>602</td>\n",
       "      <td>2</td>\n",
       "      <td>US&gt;MT&gt;762</td>\n",
       "    </tr>\n",
       "    <tr>\n",
       "      <th>7</th>\n",
       "      <td>8</td>\n",
       "      <td>166fc654d73c98</td>\n",
       "      <td>1330329</td>\n",
       "      <td>638</td>\n",
       "      <td>2</td>\n",
       "      <td>US&gt;PA&gt;566</td>\n",
       "    </tr>\n",
       "    <tr>\n",
       "      <th>8</th>\n",
       "      <td>9</td>\n",
       "      <td>9dddccf70f6067</td>\n",
       "      <td>1772126</td>\n",
       "      <td>667</td>\n",
       "      <td>1</td>\n",
       "      <td>US&gt;FL&gt;528</td>\n",
       "    </tr>\n",
       "    <tr>\n",
       "      <th>9</th>\n",
       "      <td>10</td>\n",
       "      <td>b09a0e92aa4d17</td>\n",
       "      <td>157455</td>\n",
       "      <td>693</td>\n",
       "      <td>1</td>\n",
       "      <td>US</td>\n",
       "    </tr>\n",
       "  </tbody>\n",
       "</table>\n",
       "</div>"
      ],
      "text/plain": [
       "  display_id            uuid document_id timestamp platform geo_location\n",
       "0          1  cb8c55702adb93      379743        61        3    US>SC>519\n",
       "1          2  79a85fa78311b9     1794259        81        2    US>CA>807\n",
       "2          3  822932ce3d8757     1179111       182        2    US>MI>505\n",
       "3          4  85281d0a49f7ac     1777797       234        2    US>WV>564\n",
       "4          5  8d0daef4bf5b56      252458       338        2        SG>00\n",
       "5          6  7765b4faae4ad4     1773517       395        3    US>OH>510\n",
       "6          7  2cc3f6457d16da     1149661       602        2    US>MT>762\n",
       "7          8  166fc654d73c98     1330329       638        2    US>PA>566\n",
       "8          9  9dddccf70f6067     1772126       667        1    US>FL>528\n",
       "9         10  b09a0e92aa4d17      157455       693        1           US"
      ]
     },
     "execution_count": 13,
     "metadata": {},
     "output_type": "execute_result"
    }
   ],
   "source": [
    "events_df"
   ]
  },
  {
   "cell_type": "markdown",
   "metadata": {},
   "source": [
    "# 3 Creation of the dataset"
   ]
  },
  {
   "cell_type": "markdown",
   "metadata": {},
   "source": [
    "### 3.1 We will start by splitting geo_location column into 3 to in events table to get features"
   ]
  },
  {
   "cell_type": "code",
   "execution_count": 7,
   "metadata": {},
   "outputs": [
    {
     "name": "stdout",
     "output_type": "stream",
     "text": [
      "+----------+--------------+-----------+---------+--------+------------+-------+-----+----+\n",
      "|display_id|uuid          |document_id|timestamp|platform|geo_location|country|state|dma |\n",
      "+----------+--------------+-----------+---------+--------+------------+-------+-----+----+\n",
      "|1         |cb8c55702adb93|379743     |61       |3       |US>SC>519   |US     |SC   |519 |\n",
      "|2         |79a85fa78311b9|1794259    |81       |2       |US>CA>807   |US     |CA   |807 |\n",
      "|3         |822932ce3d8757|1179111    |182      |2       |US>MI>505   |US     |MI   |505 |\n",
      "|4         |85281d0a49f7ac|1777797    |234      |2       |US>WV>564   |US     |WV   |564 |\n",
      "|5         |8d0daef4bf5b56|252458     |338      |2       |SG>00       |SG     |00   |null|\n",
      "|6         |7765b4faae4ad4|1773517    |395      |3       |US>OH>510   |US     |OH   |510 |\n",
      "|7         |2cc3f6457d16da|1149661    |602      |2       |US>MT>762   |US     |MT   |762 |\n",
      "|8         |166fc654d73c98|1330329    |638      |2       |US>PA>566   |US     |PA   |566 |\n",
      "|9         |9dddccf70f6067|1772126    |667      |1       |US>FL>528   |US     |FL   |528 |\n",
      "|10        |b09a0e92aa4d17|157455     |693      |1       |US          |US     |null |null|\n",
      "|11        |602e210c5831e5|1773230    |710      |3       |US>IL>675   |US     |IL   |675 |\n",
      "|12        |6fa993bd0e0157|892701     |718      |1       |US>TX>612   |US     |TX   |612 |\n",
      "|13        |7355615832b3af|1778533    |739      |1       |US>AZ>753   |US     |AZ   |753 |\n",
      "|14        |daef797fc210a2|1759953    |798      |3       |US>NC>560   |US     |NC   |560 |\n",
      "|15        |24c64dc30891c0|1777136    |1000     |2       |GB          |GB     |null |null|\n",
      "|16        |30c0ad12b36375|1727882    |1033     |1       |US>FL>561   |US     |FL   |561 |\n",
      "|17        |c80c06d718ba65|1667725    |1044     |2       |US>MI>540   |US     |MI   |540 |\n",
      "|18        |eb58e66b4f6bb0|429183     |1175     |2       |US>OR>820   |US     |OR   |820 |\n",
      "|19        |c419799a427c72|1155107    |1202     |3       |US>HI>744   |US     |HI   |744 |\n",
      "|20        |650e3b5699738b|1642724    |1282     |2       |US>MI>505   |US     |MI   |505 |\n",
      "+----------+--------------+-----------+---------+--------+------------+-------+-----+----+\n",
      "only showing top 20 rows\n",
      "\n"
     ]
    }
   ],
   "source": [
    "events = events.withColumn('country', split(events['geo_location'], '>').getItem(0)) \\\n",
    "       .withColumn('state', split(events['geo_location'], '>').getItem(1)) \\\n",
    "       .withColumn('dma', split(events['geo_location'], '>').getItem(2))\n",
    "events.show(truncate=False)"
   ]
  },
  {
   "cell_type": "markdown",
   "metadata": {},
   "source": [
    "### 3.2 Creating advanced features and doing final merges\n",
    "\n",
    "Using the collect_list function, we can get all the documents for each user in page_views table. Then we will make the joins that Kaggle tops recommend to us in the report. The resulting dataset we will merge with the new version of page_views to get the feature. We will put the received data into the parquet so that, in case of anything, we do not repeat this procedure again"
   ]
  },
  {
   "cell_type": "code",
   "execution_count": 26,
   "metadata": {},
   "outputs": [],
   "source": [
    "page_views1 = page_views.groupby('uuid').agg(collect_list(\"document_id\").alias(\"docs_for_user\"))\n",
    "dataset = clicks_train.join(events, on = 'display_id')\n",
    "dataset = promoted_content.join(dataset, on = 'ad_id')\n",
    "dataset = dataset.join(page_views1, on = 'uuid')\n",
    "dataset1 = dataset.drop('timestamp', 'geo_location')\n",
    "dataset1.write.parquet(\"/user/Clicks_prediction/dataset_train_new_features.parquet\")"
   ]
  },
  {
   "cell_type": "code",
   "execution_count": 14,
   "metadata": {},
   "outputs": [
    {
     "name": "stderr",
     "output_type": "stream",
     "text": [
      "[Stage 15:>                                                         (0 + 1) / 1]\r"
     ]
    },
    {
     "name": "stdout",
     "output_type": "stream",
     "text": [
      "+--------------+-----+-----------------+-----------+-------------+----------+-------+-----------+--------+-------+-----+---+--------------------+\n",
      "|          uuid|ad_id|promo_document_id|campaign_id|advertiser_id|display_id|clicked|document_id|platform|country|state|dma|       docs_for_user|\n",
      "+--------------+-----+-----------------+-----------+-------------+----------+-------+-----------+--------+-------+-----+---+--------------------+\n",
      "|1000d206cdb7ce|59628|          1019158|       7995|         1919|   8818776|      0|    1319618|       3|     US|   FL|539|[652815, 1689747,...|\n",
      "+--------------+-----+-----------------+-----------+-------------+----------+-------+-----------+--------+-------+-----+---+--------------------+\n",
      "only showing top 1 row\n",
      "\n"
     ]
    },
    {
     "name": "stderr",
     "output_type": "stream",
     "text": [
      "                                                                                \r"
     ]
    }
   ],
   "source": [
    "dataset2 = se.read.parquet(\"/user/Clicks_prediction/dataset_train_new_features.parquet\")\n",
    "dataset2.show(1)"
   ]
  },
  {
   "cell_type": "markdown",
   "metadata": {},
   "source": [
    "### 3.4 Let's see what we got"
   ]
  },
  {
   "cell_type": "code",
   "execution_count": 15,
   "metadata": {},
   "outputs": [
    {
     "data": {
      "text/html": [
       "<div>\n",
       "<style scoped>\n",
       "    .dataframe tbody tr th:only-of-type {\n",
       "        vertical-align: middle;\n",
       "    }\n",
       "\n",
       "    .dataframe tbody tr th {\n",
       "        vertical-align: top;\n",
       "    }\n",
       "\n",
       "    .dataframe thead th {\n",
       "        text-align: right;\n",
       "    }\n",
       "</style>\n",
       "<table border=\"1\" class=\"dataframe\">\n",
       "  <thead>\n",
       "    <tr style=\"text-align: right;\">\n",
       "      <th></th>\n",
       "      <th>uuid</th>\n",
       "      <th>ad_id</th>\n",
       "      <th>promo_document_id</th>\n",
       "      <th>campaign_id</th>\n",
       "      <th>advertiser_id</th>\n",
       "      <th>display_id</th>\n",
       "      <th>clicked</th>\n",
       "      <th>document_id</th>\n",
       "      <th>platform</th>\n",
       "      <th>country</th>\n",
       "      <th>state</th>\n",
       "      <th>dma</th>\n",
       "      <th>docs_for_user</th>\n",
       "    </tr>\n",
       "  </thead>\n",
       "  <tbody>\n",
       "    <tr>\n",
       "      <th>0</th>\n",
       "      <td>1000d206cdb7ce</td>\n",
       "      <td>59628</td>\n",
       "      <td>1019158</td>\n",
       "      <td>7995</td>\n",
       "      <td>1919</td>\n",
       "      <td>8818776</td>\n",
       "      <td>0</td>\n",
       "      <td>1319618</td>\n",
       "      <td>3</td>\n",
       "      <td>US</td>\n",
       "      <td>FL</td>\n",
       "      <td>539</td>\n",
       "      <td>[652815, 1689747, 1319618]</td>\n",
       "    </tr>\n",
       "    <tr>\n",
       "      <th>1</th>\n",
       "      <td>1000d206cdb7ce</td>\n",
       "      <td>74845</td>\n",
       "      <td>331537</td>\n",
       "      <td>9991</td>\n",
       "      <td>19</td>\n",
       "      <td>8818776</td>\n",
       "      <td>1</td>\n",
       "      <td>1319618</td>\n",
       "      <td>3</td>\n",
       "      <td>US</td>\n",
       "      <td>FL</td>\n",
       "      <td>539</td>\n",
       "      <td>[652815, 1689747, 1319618]</td>\n",
       "    </tr>\n",
       "    <tr>\n",
       "      <th>2</th>\n",
       "      <td>1000d206cdb7ce</td>\n",
       "      <td>129490</td>\n",
       "      <td>1060089</td>\n",
       "      <td>9756</td>\n",
       "      <td>1593</td>\n",
       "      <td>8818776</td>\n",
       "      <td>0</td>\n",
       "      <td>1319618</td>\n",
       "      <td>3</td>\n",
       "      <td>US</td>\n",
       "      <td>FL</td>\n",
       "      <td>539</td>\n",
       "      <td>[652815, 1689747, 1319618]</td>\n",
       "    </tr>\n",
       "    <tr>\n",
       "      <th>3</th>\n",
       "      <td>1000d206cdb7ce</td>\n",
       "      <td>57889</td>\n",
       "      <td>470705</td>\n",
       "      <td>1204</td>\n",
       "      <td>687</td>\n",
       "      <td>8818776</td>\n",
       "      <td>0</td>\n",
       "      <td>1319618</td>\n",
       "      <td>3</td>\n",
       "      <td>US</td>\n",
       "      <td>FL</td>\n",
       "      <td>539</td>\n",
       "      <td>[652815, 1689747, 1319618]</td>\n",
       "    </tr>\n",
       "    <tr>\n",
       "      <th>4</th>\n",
       "      <td>1000d206cdb7ce</td>\n",
       "      <td>59919</td>\n",
       "      <td>1009076</td>\n",
       "      <td>7838</td>\n",
       "      <td>2158</td>\n",
       "      <td>8818776</td>\n",
       "      <td>0</td>\n",
       "      <td>1319618</td>\n",
       "      <td>3</td>\n",
       "      <td>US</td>\n",
       "      <td>FL</td>\n",
       "      <td>539</td>\n",
       "      <td>[652815, 1689747, 1319618]</td>\n",
       "    </tr>\n",
       "    <tr>\n",
       "      <th>5</th>\n",
       "      <td>1000d206cdb7ce</td>\n",
       "      <td>61159</td>\n",
       "      <td>992370</td>\n",
       "      <td>7283</td>\n",
       "      <td>1919</td>\n",
       "      <td>8818776</td>\n",
       "      <td>0</td>\n",
       "      <td>1319618</td>\n",
       "      <td>3</td>\n",
       "      <td>US</td>\n",
       "      <td>FL</td>\n",
       "      <td>539</td>\n",
       "      <td>[652815, 1689747, 1319618]</td>\n",
       "    </tr>\n",
       "    <tr>\n",
       "      <th>6</th>\n",
       "      <td>1001059ca21968</td>\n",
       "      <td>397508</td>\n",
       "      <td>1933586</td>\n",
       "      <td>1385</td>\n",
       "      <td>16</td>\n",
       "      <td>13454127</td>\n",
       "      <td>0</td>\n",
       "      <td>2638805</td>\n",
       "      <td>1</td>\n",
       "      <td>US</td>\n",
       "      <td>CA</td>\n",
       "      <td>803</td>\n",
       "      <td>[2652613, 2654660, 2657415, 2649374, 2660493, ...</td>\n",
       "    </tr>\n",
       "    <tr>\n",
       "      <th>7</th>\n",
       "      <td>1001059ca21968</td>\n",
       "      <td>532486</td>\n",
       "      <td>1804537</td>\n",
       "      <td>33974</td>\n",
       "      <td>2656</td>\n",
       "      <td>13454127</td>\n",
       "      <td>0</td>\n",
       "      <td>2638805</td>\n",
       "      <td>1</td>\n",
       "      <td>US</td>\n",
       "      <td>CA</td>\n",
       "      <td>803</td>\n",
       "      <td>[2652613, 2654660, 2657415, 2649374, 2660493, ...</td>\n",
       "    </tr>\n",
       "    <tr>\n",
       "      <th>8</th>\n",
       "      <td>1001059ca21968</td>\n",
       "      <td>208491</td>\n",
       "      <td>1528059</td>\n",
       "      <td>23963</td>\n",
       "      <td>2616</td>\n",
       "      <td>13479607</td>\n",
       "      <td>0</td>\n",
       "      <td>2604003</td>\n",
       "      <td>1</td>\n",
       "      <td>US</td>\n",
       "      <td>CA</td>\n",
       "      <td>803</td>\n",
       "      <td>[2652613, 2654660, 2657415, 2649374, 2660493, ...</td>\n",
       "    </tr>\n",
       "    <tr>\n",
       "      <th>9</th>\n",
       "      <td>1001059ca21968</td>\n",
       "      <td>274464</td>\n",
       "      <td>1109919</td>\n",
       "      <td>27241</td>\n",
       "      <td>3829</td>\n",
       "      <td>13454127</td>\n",
       "      <td>0</td>\n",
       "      <td>2638805</td>\n",
       "      <td>1</td>\n",
       "      <td>US</td>\n",
       "      <td>CA</td>\n",
       "      <td>803</td>\n",
       "      <td>[2652613, 2654660, 2657415, 2649374, 2660493, ...</td>\n",
       "    </tr>\n",
       "  </tbody>\n",
       "</table>\n",
       "</div>"
      ],
      "text/plain": [
       "             uuid   ad_id promo_document_id campaign_id advertiser_id  \\\n",
       "0  1000d206cdb7ce   59628           1019158        7995          1919   \n",
       "1  1000d206cdb7ce   74845            331537        9991            19   \n",
       "2  1000d206cdb7ce  129490           1060089        9756          1593   \n",
       "3  1000d206cdb7ce   57889            470705        1204           687   \n",
       "4  1000d206cdb7ce   59919           1009076        7838          2158   \n",
       "5  1000d206cdb7ce   61159            992370        7283          1919   \n",
       "6  1001059ca21968  397508           1933586        1385            16   \n",
       "7  1001059ca21968  532486           1804537       33974          2656   \n",
       "8  1001059ca21968  208491           1528059       23963          2616   \n",
       "9  1001059ca21968  274464           1109919       27241          3829   \n",
       "\n",
       "  display_id clicked document_id platform country state  dma  \\\n",
       "0    8818776       0     1319618        3      US    FL  539   \n",
       "1    8818776       1     1319618        3      US    FL  539   \n",
       "2    8818776       0     1319618        3      US    FL  539   \n",
       "3    8818776       0     1319618        3      US    FL  539   \n",
       "4    8818776       0     1319618        3      US    FL  539   \n",
       "5    8818776       0     1319618        3      US    FL  539   \n",
       "6   13454127       0     2638805        1      US    CA  803   \n",
       "7   13454127       0     2638805        1      US    CA  803   \n",
       "8   13479607       0     2604003        1      US    CA  803   \n",
       "9   13454127       0     2638805        1      US    CA  803   \n",
       "\n",
       "                                       docs_for_user  \n",
       "0                         [652815, 1689747, 1319618]  \n",
       "1                         [652815, 1689747, 1319618]  \n",
       "2                         [652815, 1689747, 1319618]  \n",
       "3                         [652815, 1689747, 1319618]  \n",
       "4                         [652815, 1689747, 1319618]  \n",
       "5                         [652815, 1689747, 1319618]  \n",
       "6  [2652613, 2654660, 2657415, 2649374, 2660493, ...  \n",
       "7  [2652613, 2654660, 2657415, 2649374, 2660493, ...  \n",
       "8  [2652613, 2654660, 2657415, 2649374, 2660493, ...  \n",
       "9  [2652613, 2654660, 2657415, 2649374, 2660493, ...  "
      ]
     },
     "execution_count": 15,
     "metadata": {},
     "output_type": "execute_result"
    }
   ],
   "source": [
    "dataset2_df = dataset2.limit(10).toPandas()\n",
    "dataset2_df"
   ]
  },
  {
   "cell_type": "markdown",
   "metadata": {},
   "source": [
    "### 3.5 Do the same thing for test dataset"
   ]
  },
  {
   "cell_type": "code",
   "execution_count": null,
   "metadata": {},
   "outputs": [],
   "source": [
    "dataset_for_test = clicks_test.join(events, on = 'display_id')\n",
    "dataset_for_test = promoted_content.join(dataset_for_test, on = 'ad_id')\n",
    "dataset_for_test = dataset_for_test.join(page_views1, on = 'uuid')\n",
    "dataset_for_test1 = dataset_for_test.drop('timestamp', 'geo_location')\n",
    "dataset_for_test1.write.parquet(\"/user/Clicks_prediction/dataset_test_new_features.parquet\")"
   ]
  },
  {
   "cell_type": "code",
   "execution_count": 7,
   "metadata": {},
   "outputs": [
    {
     "name": "stderr",
     "output_type": "stream",
     "text": [
      "                                                                                \r"
     ]
    },
    {
     "data": {
      "text/plain": [
       "32225162"
      ]
     },
     "execution_count": 7,
     "metadata": {},
     "output_type": "execute_result"
    }
   ],
   "source": [
    "dataset22 = se.read.parquet(\"/user/Clicks_prediction/dataset_test_new_features.parquet\")\n",
    "dataset22.count() # 32225162"
   ]
  },
  {
   "cell_type": "markdown",
   "metadata": {},
   "source": [
    "### 3.6 A few more words about time-saving lifehacks\n",
    "\n",
    "As I have alreay mentioned, if you take into account some useful features of Spark, you can save plenty of time. For example, I had many experiments with the model and if I had to collect the dataset each time from raw tables, I would probably not finish this research by the time you read it :)\n",
    "\n",
    "Therefore, parquet format is very useful (it is more efficient than csv). I will not fouces on explaining what is it and why it works (I recommend checking this reference https://towardsdatascience.com/6-recommendations-for-optimizing-a-spark-job-5899ec269b4b). Another nice recommendation is to use cache. This will help save intermidiate results in order not to wait until the machine completes same computations several times. This is especially useful because of the Spark's ways to optimize calculations. Again, I strongly advice to check the reference for more details"
   ]
  },
  {
   "cell_type": "code",
   "execution_count": 2,
   "metadata": {},
   "outputs": [
    {
     "data": {
      "image/jpeg": "[encoded data removed]",
      "text/plain": [
       "<IPython.core.display.Image object>"
      ]
     },
     "execution_count": 2,
     "metadata": {},
     "output_type": "execute_result"
    }
   ],
   "source": []
  },
  {
   "cell_type": "markdown",
   "metadata": {},
   "source": [
    "#  4 Online Learning"
   ]
  },
  {
   "cell_type": "markdown",
   "metadata": {},
   "source": [
    "### 4.1 Concept of online learning\n",
    "\n",
    "The essence of online learning is that the data comes in sequentially, and we improve the model after each new example\n",
    "\n",
    "This is useful in two cases:\n",
    "\n",
    "1) the sample does not fit in memory\n",
    "2) you need to quickly adapt to new data dependencies\n",
    "\n",
    "The second case is relevant, for example, for algorithmic trading, when you need to quickly adapt to certain stock market changes. The first case is the classical problem of Big Data. There are many possible definitions of what Big Data is. On an intuitive level, this is when we either have too many observations or too many features. Thus, our dataset is either very wide or very long. If it is very long, this problem is very easily solved with the help of online learning, which we will do a bit later"
   ]
  },
  {
   "cell_type": "markdown",
   "metadata": {},
   "source": [
    "### 4.2 Linear Regression case\n",
    "\n",
    "Suppose we have n obervations: $Y = (y_1, y_2, ..., y_n)$ and d features. Matrix $X$ shows us features for all observations, so $X \\in R^{n x d}$. If we try to approximate $Y$ linearly, we will get a system of equations of a kind:\n",
    "\n",
    "$$y_i = w_0x_{i0} + ... + w_dx_{id} \\Rightarrow y_i = <w, x_i>$$\n",
    "\n",
    "And it turns out that we can find the solution explicitly:\n",
    "\n",
    "$$w^* = (X^TX)^{-1}X^TY$$\n",
    "\n",
    "Now, when we have repeated the first page of the first chapter of the first book of Machine Learning, we can think of some issues with this approach. At first, we need to invert a matrix, which is a cubic, thus, very costly algorithm. That is why numerical methods, such as Gradient Descent, are preferred here. However, we still need to store the whole dataset in memory, if we speak about Vanilla Gradient Descent. In case of Stochastic Gradient Descent (SGD), we use just one observation at a time. The great thing about it is not only that we make algorithm n times faster, but also that now we can just read dataset line by line to update weights. This will be our iterations and it works fine. So, now we can update weights recursively, using a standard formula SGD weight update:\n",
    "\n",
    "$$w_i = w_{i-1} - \\gamma_ix_i(x^T_iw_{i-1} - y_i)$$\n",
    "\n",
    "This is one way we can solve the problem. However, there were already invented advanced open-source tools, and we will consider one of them"
   ]
  },
  {
   "cell_type": "markdown",
   "metadata": {},
   "source": [
    "### 4.3 Vowpal Wabbit (VW)\n",
    "\n",
    "(https://vowpalwabbit.org)\n",
    "\n",
    "This is a popular tool to train linear models online in an efficient way. There are many cool things about it:\n",
    "\n",
    "1) It has many loss functions\n",
    "\n",
    "2) We can use feature interactions (for example, double and triple featrure combinations)\n",
    "\n",
    "3) It does feature hashing automatically. We will see later that we can use even text features without preprocessing, as well as combinations of categorical features\n",
    "\n",
    "4) Efficient scaling (in fact, VW was designed for this)\n",
    "\n",
    "We will use this interactive Machine Learning library to solve the problem"
   ]
  },
  {
   "cell_type": "markdown",
   "metadata": {},
   "source": [
    "# 5 Model training and making predicitons"
   ]
  },
  {
   "cell_type": "markdown",
   "metadata": {},
   "source": [
    "### 5.1 Format\n",
    "\n",
    "Both train and test datasets must match the desired format. It is specific but we cannot do anything about it. In a nutshell, you first specify the target, and after that you specify features, separating them with | symbol. Each feature should be named with an arbitrary symbol. According to VW documentation https://vowpalwabbit.org/docs/vowpal_wabbit/python/latest/tutorials/cmd_linear_regression.html#create-a-dataset, one separator is enough (just to separate features from the target), but I am used to doing like I am doing here. Now we will write a special function that will help us make an input training file from our dataset"
   ]
  },
  {
   "cell_type": "code",
   "execution_count": 8,
   "metadata": {},
   "outputs": [],
   "source": [
    "def convert_to_vw(data):\n",
    "    target = 1 if data['clicked'] == '1' else -1\n",
    "    \n",
    "    ad_id = data['ad_id']\n",
    "    promo_document_id = data['promo_document_id']\n",
    "    campaign_id = data['campaign_id']\n",
    "    advertiser_id = data['advertiser_id']\n",
    "    \n",
    "    document_id = data['document_id']\n",
    "    platform = data['platform']\n",
    "    country = data['country']\n",
    "    state = data['state']\n",
    "    dma = data['dma']\n",
    "    docs_for_user = data['docs_for_user']\n",
    "    \n",
    "    \n",
    "    template = \"{target} |a {ad_id} |p {promo_document_id} |c {campaign_id} |b {advertiser_id} |d {document_id} |e {platform} |r {country} |s {state} |f {dma} |u {docs_for_user}\"\n",
    "    return template.format(\n",
    "        target=target,\n",
    "        ad_id=ad_id,\n",
    "        promo_document_id=promo_document_id,\n",
    "        campaign_id=campaign_id,\n",
    "        advertiser_id=advertiser_id,\n",
    "        document_id=document_id,\n",
    "        platform=platform,\n",
    "        country=country,\n",
    "        state=state,\n",
    "        dma=dma,\n",
    "        docs_for_user = docs_for_user\n",
    "    )"
   ]
  },
  {
   "cell_type": "markdown",
   "metadata": {},
   "source": [
    "### 5.2 Now let's convert our dataset into needed format"
   ]
  },
  {
   "cell_type": "code",
   "execution_count": 9,
   "metadata": {},
   "outputs": [
    {
     "name": "stderr",
     "output_type": "stream",
     "text": [
      "                                                                                \r"
     ]
    }
   ],
   "source": [
    "dataset2.rdd.map(convert_to_vw).saveAsTextFile('/user/Clicks_prediction/train_new_docs.vw')"
   ]
  },
  {
   "cell_type": "code",
   "execution_count": 9,
   "metadata": {},
   "outputs": [],
   "source": [
    "! hdfs dfs -cat /user/Clicks_prediction/train_new_docs.vw/* > train_exp.vw"
   ]
  },
  {
   "cell_type": "markdown",
   "metadata": {},
   "source": [
    "### 5.3 Time to train the model\n",
    "\n",
    "We will use ftrl with parameters, as advised in the mentioned report. The very basic description can be found in that report, but for more information one can check https://courses.cs.washington.edu/courses/cse599s/12sp/scribes/Lecture8.pdf. In addition, we will also use pairwise combinations of several features. The report advised taking specific features for interactions, I basically did so, but added interactions of all these features with our new feature from page_views. Notice that I do not do feature hashing, and VW works perfectly fine while creating feature combinations. In fact, this weird feature from page_views improves the score by around 2%, although it would be very complicated to work with it if we used a common Linear Regression or Gradient Boosting (CatBoost, for example)"
   ]
  },
  {
   "cell_type": "code",
   "execution_count": 10,
   "metadata": {},
   "outputs": [
    {
     "name": "stdout",
     "output_type": "stream",
     "text": [
      "creating features for following interactions: pc pb pd pe pr ps cb cd ce cr cs bd be br bs de dr ds er es rs up uc ub ud ue ur us \n",
      "using l1 regularization = 10\n",
      "final_regressor = drugs.model.bin\n",
      "Enabling FTRL based optimization\n",
      "Algorithm used: Proximal-FTRL\n",
      "ftrl_alpha = 0.05\n",
      "ftrl_beta = 0.5\n",
      "Num weight bits = 23\n",
      "learning rate = 0.5\n",
      "initial_t = 0\n",
      "power_t = 0.5\n",
      "creating cache_file = train_exp.vw.cache\n",
      "Reading datafile = train_exp.vw\n",
      "num sources = 1\n",
      "Enabled reductions: ftrl, scorer\n",
      "average  since         example        example  current  current  current\n",
      "loss     last          counter         weight    label  predict features\n",
      "0.693147 0.693147            1            1.0  -1.0000   0.0000       55\n",
      "0.693147 0.693147            2            2.0   1.0000   0.0000       55\n",
      "0.693147 0.693147            4            4.0  -1.0000   0.0000       55\n",
      "0.693147 0.693147            8            8.0  -1.0000   0.0000      119\n",
      "0.693147 0.693147           16           16.0   1.0000   0.0000      119\n",
      "0.789954 0.886762           32           32.0  -1.0000   0.0000      479\n",
      "0.733872 0.677789           64           64.0  -1.0000  -0.0948       55\n",
      "0.674865 0.615858          128          128.0  -1.0000  -0.4202      223\n",
      "0.607157 0.539450          256          256.0  -1.0000  -0.6132       71\n",
      "0.560459 0.513761          512          512.0  -1.0000  -0.7198      215\n",
      "0.527181 0.493903         1024         1024.0  -1.0000  -1.1025      127\n",
      "0.512185 0.497189         2048         2048.0  -1.0000  -1.1997      183\n",
      "0.507433 0.502680         4096         4096.0  -1.0000  -1.2763       63\n",
      "0.500504 0.493575         8192         8192.0  -1.0000  -1.2195       39\n",
      "0.491999 0.483494        16384        16384.0  -1.0000  -1.5057       63\n",
      "0.486542 0.481085        32768        32768.0  -1.0000  -1.4945      159\n",
      "0.480698 0.474854        65536        65536.0  -1.0000  -1.0787       39\n",
      "0.474715 0.468733       131072       131072.0  -1.0000  -1.0270       39\n",
      "0.467480 0.460245       262144       262144.0   1.0000  -1.1764      279\n",
      "0.460856 0.454232       524288       524288.0   1.0000  -1.6230       39\n",
      "0.454752 0.448647      1048576      1048576.0  -1.0000  -1.5651      231\n",
      "0.448742 0.442733      2097152      2097152.0  -1.0000  -2.4329      927\n",
      "0.443058 0.437373      4194304      4194304.0  -1.0000  -2.8642      111\n",
      "0.437938 0.432818      8388608      8388608.0   1.0000  -2.2342       63\n",
      "0.433024 0.428109     16777216     16777216.0  -1.0000  -1.0725       39\n",
      "0.428746 0.424469     33554432     33554432.0  -1.0000  -2.8349       39\n",
      "0.425238 0.421729     67108864     67108864.0   1.0000   0.3347       55\n",
      "\n",
      "finished run\n",
      "number of examples = 87141731\n",
      "weighted example sum = 87141731.000000\n",
      "weighted label sum = -53392545.000000\n",
      "average loss = 0.424114\n",
      "best constant = -1.426495\n",
      "best constant's loss = 0.491466\n",
      "total feature number = 11656780069\n"
     ]
    }
   ],
   "source": [
    "! vw --final_regressor clicks.model.bin train_exp.vw \\\n",
    "--bit_precision 23 \\\n",
    "--ftrl \\\n",
    "--ftrl_alpha 0.05 \\\n",
    "--ftrl_beta 0.5 --l1 10 \\\n",
    "--interactions pc pb pd pe pr ps cb cd ce cr cs bd be br bs de dr ds er es rs up uc ub ud ue ur us \\\n",
    "--cache -k \\\n",
    "--loss_function logistic"
   ]
  },
  {
   "cell_type": "markdown",
   "metadata": {},
   "source": [
    "### 5.4 Model is trained. Now we will convert test dataset in the required format\n",
    "\n",
    "The only difference is that now we will not specify the tarhet, since we do not have it"
   ]
  },
  {
   "cell_type": "code",
   "execution_count": 11,
   "metadata": {},
   "outputs": [],
   "source": [
    "def convert_to_vw_submission(data):\n",
    "    \n",
    "    display_id = data['display_id']\n",
    "    ad_id = data['ad_id']\n",
    "    promo_document_id = data['promo_document_id']\n",
    "    campaign_id = data['campaign_id']\n",
    "    advertiser_id = data['advertiser_id']\n",
    "    \n",
    "    document_id = data['document_id']\n",
    "    platform = data['platform']\n",
    "    country = data['country']\n",
    "    state = data['state']\n",
    "    dma = data['dma']\n",
    "    docs_for_user = data['docs_for_user']\n",
    "    \n",
    "    \n",
    "    template = \"|{display_id} |a {ad_id} |p {promo_document_id} |c {campaign_id} |b {advertiser_id} |d {document_id} |e {platform} |r {country} |s {state} |f {dma} |u {docs_for_user}\"\n",
    "    return template.format(\n",
    "        display_id = display_id,\n",
    "        ad_id=ad_id,\n",
    "        promo_document_id=promo_document_id,\n",
    "        campaign_id=campaign_id,\n",
    "        advertiser_id=advertiser_id,\n",
    "        document_id=document_id,\n",
    "        platform=platform,\n",
    "        country=country,\n",
    "        state=state,\n",
    "        dma=dma,\n",
    "        docs_for_user = docs_for_user\n",
    "    )"
   ]
  },
  {
   "cell_type": "code",
   "execution_count": 14,
   "metadata": {},
   "outputs": [
    {
     "name": "stderr",
     "output_type": "stream",
     "text": [
      "                                                                                \r"
     ]
    }
   ],
   "source": [
    "dataset22.rdd.map(convert_to_vw_submission).saveAsTextFile('/user/Clicks_prediction/test_new_docs.vw')"
   ]
  },
  {
   "cell_type": "code",
   "execution_count": 11,
   "metadata": {},
   "outputs": [],
   "source": [
    "! hdfs dfs -cat /user/Clicks_prediction/test_new_docs.vw/* > test_for_submission_exp.vw"
   ]
  },
  {
   "cell_type": "markdown",
   "metadata": {},
   "source": [
    "### 5.5 Make predictions and put them in a special txt file"
   ]
  },
  {
   "cell_type": "code",
   "execution_count": 12,
   "metadata": {},
   "outputs": [
    {
     "name": "stdout",
     "output_type": "stream",
     "text": [
      "creating features for following interactions: pc pb pd pe pr ps cb cd ce cr cs bd be br bs de dr ds er es rs up uc ub ud ue ur us \n",
      "only testing\n",
      "predictions = for_submission.txt\n",
      "Enabling FTRL based optimization\n",
      "Algorithm used: Proximal-FTRL\n",
      "ftrl_alpha = 0.005\n",
      "ftrl_beta = 0.1\n",
      "Num weight bits = 23\n",
      "learning rate = 0.5\n",
      "initial_t = 0\n",
      "power_t = 0.5\n",
      "using no cache\n",
      "Reading datafile = test_for_submission_exp.vw\n",
      "num sources = 1\n",
      "Enabled reductions: ftrl, scorer\n",
      "average  since         example        example  current  current  current\n",
      "loss     last          counter         weight    label  predict features\n",
      "    n.a.     n.a.            1            1.0  unknown   0.1453       39\n",
      "    n.a.     n.a.            2            2.0  unknown   0.0400       39\n",
      "    n.a.     n.a.            4            4.0  unknown   0.1176       39\n",
      "    n.a.     n.a.            8            8.0  unknown   0.1492       63\n",
      "    n.a.     n.a.           16           16.0  unknown   0.0810       39\n",
      "    n.a.     n.a.           32           32.0  unknown   0.2119       47\n",
      "    n.a.     n.a.           64           64.0  unknown   0.1289       55\n",
      "    n.a.     n.a.          128          128.0  unknown   0.1377       47\n",
      "    n.a.     n.a.          256          256.0  unknown   0.4267      375\n",
      "    n.a.     n.a.          512          512.0  unknown   0.0503      183\n",
      "    n.a.     n.a.         1024         1024.0  unknown   0.4786       39\n",
      "    n.a.     n.a.         2048         2048.0  unknown   0.2034      295\n",
      "    n.a.     n.a.         4096         4096.0  unknown   0.1116       39\n",
      "    n.a.     n.a.         8192         8192.0  unknown   0.3392      295\n",
      "    n.a.     n.a.        16384        16384.0  unknown   0.2603      103\n",
      "    n.a.     n.a.        32768        32768.0  unknown   0.0288       55\n",
      "    n.a.     n.a.        65536        65536.0  unknown   0.1166       79\n",
      "    n.a.     n.a.       131072       131072.0  unknown   0.0178      351\n",
      "    n.a.     n.a.       262144       262144.0  unknown   0.0972       95\n",
      "    n.a.     n.a.       524288       524288.0  unknown   0.0882       39\n",
      "    n.a.     n.a.      1048576      1048576.0  unknown   0.2264       47\n",
      "    n.a.     n.a.      2097152      2097152.0  unknown   0.2239       55\n",
      "    n.a.     n.a.      4194304      4194304.0  unknown   0.2354      111\n",
      "    n.a.     n.a.      8388608      8388608.0  unknown   0.2388      135\n",
      "    n.a.     n.a.     16777216     16777216.0  unknown   0.0171       47\n",
      "\n",
      "finished run\n",
      "number of examples = 32225162\n",
      "weighted example sum = 32225162.000000\n",
      "weighted label sum = 0.000000\n",
      "average loss = n.a.\n",
      "total feature number = 4113274174\n",
      "CPU times: user 8.61 s, sys: 1.03 s, total: 9.64 s\n",
      "Wall time: 9min 10s\n"
     ]
    }
   ],
   "source": [
    "%%time\n",
    "\n",
    "! vw test_for_submission_exp.vw \\\n",
    "    --link=logistic \\\n",
    "    --testonly \\\n",
    "    --initial_regressor clicks.model.bin \\\n",
    "    --predictions for_submission.txt"
   ]
  },
  {
   "cell_type": "code",
   "execution_count": 13,
   "metadata": {},
   "outputs": [
    {
     "name": "stdout",
     "output_type": "stream",
     "text": [
      "0.145332\r\n",
      "0.040023\r\n",
      "0.053138\r\n",
      "0.117615\r\n",
      "0.286139\r\n",
      "0.082552\r\n",
      "0.232670\r\n",
      "0.149204\r\n",
      "0.257443\r\n",
      "0.183910\r\n"
     ]
    }
   ],
   "source": [
    "! head for_submission.txt"
   ]
  },
  {
   "cell_type": "markdown",
   "metadata": {},
   "source": [
    "# 6 Submission\n",
    "\n",
    "All we have to do now is convert our predictions to the right format, so it looks like the sample submission table. I will first take the keys from the test, then connect them with the predictions, and after that I will make it look just as it needs to"
   ]
  },
  {
   "cell_type": "markdown",
   "metadata": {},
   "source": [
    "### 6.1 The first step"
   ]
  },
  {
   "cell_type": "code",
   "execution_count": 15,
   "metadata": {},
   "outputs": [],
   "source": [
    "! hdfs dfs -put for_submission.txt /user/Clicks_prediction/for_submission_bdz1.txt"
   ]
  },
  {
   "cell_type": "code",
   "execution_count": 16,
   "metadata": {},
   "outputs": [],
   "source": [
    "dataset23 = dataset22.select('display_id', 'ad_id')"
   ]
  },
  {
   "cell_type": "code",
   "execution_count": 17,
   "metadata": {},
   "outputs": [
    {
     "name": "stderr",
     "output_type": "stream",
     "text": [
      "[Stage 5:>                                                          (0 + 1) / 1]\r"
     ]
    },
    {
     "name": "stdout",
     "output_type": "stream",
     "text": [
      "+----------+------+\n",
      "|display_id| ad_id|\n",
      "+----------+------+\n",
      "|  22230846|186412|\n",
      "+----------+------+\n",
      "only showing top 1 row\n",
      "\n"
     ]
    },
    {
     "name": "stderr",
     "output_type": "stream",
     "text": [
      "                                                                                \r"
     ]
    }
   ],
   "source": [
    "dataset23.show(1)"
   ]
  },
  {
   "cell_type": "code",
   "execution_count": 19,
   "metadata": {},
   "outputs": [
    {
     "name": "stderr",
     "output_type": "stream",
     "text": [
      "                                                                                \r"
     ]
    }
   ],
   "source": [
    "dataset23.write.csv(\"/user/Clicks_prediction/to_concat_bdz1.csv\")"
   ]
  },
  {
   "cell_type": "code",
   "execution_count": 20,
   "metadata": {},
   "outputs": [],
   "source": [
    "! hdfs dfs -cat '/user/Clicks_prediction/for_submission_bdz1.txt' > for_submission_bdz1.txt\n",
    "! hdfs dfs -cat '/user/Clicks_prediction/to_concat_bdz1.csv/*' > to_concat_bdz1.csv"
   ]
  },
  {
   "cell_type": "code",
   "execution_count": 21,
   "metadata": {},
   "outputs": [],
   "source": [
    "df1 = pd.read_csv('to_concat_bdz1.csv', header = None)\n",
    "df1.columns = ['display_id', 'ad_id']\n",
    "\n",
    "df = pd.read_csv('for_submission_bdz1.txt', header = None)\n",
    "df.columns = ['proba']\n",
    "\n",
    "df2 = pd.concat([df1, df], axis = 1)"
   ]
  },
  {
   "cell_type": "code",
   "execution_count": 22,
   "metadata": {},
   "outputs": [],
   "source": [
    "df2.to_csv('submission_table_bdz1.csv')"
   ]
  },
  {
   "cell_type": "code",
   "execution_count": 24,
   "metadata": {},
   "outputs": [],
   "source": [
    "! hdfs dfs -put submission_table_bdz1.csv '/user/Clicks_prediction/submission_table_bdz1.csv'"
   ]
  },
  {
   "cell_type": "code",
   "execution_count": 25,
   "metadata": {},
   "outputs": [],
   "source": [
    "submission_table = se.read.csv(\"/user/Clicks_prediction/submission_table_bdz1.csv\", sep=r',', header=True)"
   ]
  },
  {
   "cell_type": "code",
   "execution_count": 26,
   "metadata": {},
   "outputs": [],
   "source": [
    "from pyspark.sql.functions import collect_list\n",
    "from pyspark.sql.functions import *\n",
    "from pyspark.sql.types import StringType"
   ]
  },
  {
   "cell_type": "markdown",
   "metadata": {},
   "source": [
    "### 6.2 Right order\n",
    "For each display_id, we sort the probabilities in descending order so that the order is correct for sending. Then we use the smart collect_list function. After that, it remains just to convert it into a text format. To do this, we remove the commas, and then cut out the first and last elements from the text (these are brackets that open and close the list)"
   ]
  },
  {
   "cell_type": "code",
   "execution_count": 27,
   "metadata": {},
   "outputs": [],
   "source": [
    "submission_table1 = submission_table.orderBy(['display_id', 'proba'], ascending=False) \\\n",
    ".groupBy(\"display_id\").agg(collect_list(\"ad_id\") \\\n",
    ".alias(\"ad_id\")).withColumn(\"ad_id\", col(\"ad_id\").cast(StringType()))\n",
    "submission_table1 = submission_table1.withColumn('ad_id', regexp_replace('ad_id', ',', ''))\n",
    "submission_table1 = submission_table1.withColumn(\"ad_id\", expr(\"substring(ad_id, 2, length(ad_id))\"))\n",
    "submission_table1 = submission_table1.withColumn(\"ad_id\", expr(\"substring(ad_id, 1, (length(ad_id) - 1))\"))"
   ]
  },
  {
   "cell_type": "markdown",
   "metadata": {},
   "source": [
    "### 6.3 Write the file and submit it to Kaggle"
   ]
  },
  {
   "cell_type": "code",
   "execution_count": 29,
   "metadata": {},
   "outputs": [
    {
     "name": "stderr",
     "output_type": "stream",
     "text": [
      "                                                                                \r"
     ]
    }
   ],
   "source": [
    "submission_table1.write.csv(\"/user/Clicks_prediction/almost_there_bdz1.csv\")"
   ]
  },
  {
   "cell_type": "code",
   "execution_count": 30,
   "metadata": {},
   "outputs": [],
   "source": [
    "! hdfs dfs -cat '/user/Clicks_prediction/almost_there_bdz1.csv/*' > for_kaggle_bdz1.csv"
   ]
  },
  {
   "cell_type": "code",
   "execution_count": 31,
   "metadata": {},
   "outputs": [],
   "source": [
    "! sed -i '1idisplay_id,ad_id' for_kaggle_bdz1.csv"
   ]
  },
  {
   "cell_type": "code",
   "execution_count": 32,
   "metadata": {},
   "outputs": [
    {
     "name": "stdout",
     "output_type": "stream",
     "text": [
      "display_id,ad_id\r\n",
      "16874673,91797 207162 107055 158923\r\n",
      "16874705,141374 140897 237858\r\n",
      "16874826,124583 124591 81645 81656 60620\r\n",
      "16875215,67862 212145 252058 44141 173402 269017\r\n",
      "16875344,141009 69098 123093 151955 288314 173006\r\n",
      "16875431,190086 195273 69823 108393\r\n",
      "16875591,303990 82377 39897 59304\r\n",
      "16875854,40717 242759 186789 326617 237442\r\n",
      "16876193,172434 23288 129490 238212 42115 180693\r\n"
     ]
    }
   ],
   "source": [
    "! head for_kaggle_bdz1.csv"
   ]
  },
  {
   "cell_type": "code",
   "execution_count": 33,
   "metadata": {},
   "outputs": [
    {
     "name": "stdout",
     "output_type": "stream",
     "text": [
      "100%|████████████████████████████████████████| 260M/260M [00:08<00:00, 31.5MB/s]\n",
      "Successfully submitted to Outbrain Click Prediction"
     ]
    }
   ],
   "source": [
    "! kaggle competitions submit -c outbrain-click-prediction -f for_kaggle_bdz1.csv -m \"submission_bdz1\""
   ]
  },
  {
   "cell_type": "markdown",
   "metadata": {},
   "source": [
    "### 6.4 The metric we got"
   ]
  },
  {
   "cell_type": "code",
   "execution_count": 4,
   "metadata": {},
   "outputs": [
    {
     "data": {
      "image/png": "[encoded data removed]",
      "text/plain": [
       "<IPython.core.display.Image object>"
      ]
     },
     "execution_count": 4,
     "metadata": {},
     "output_type": "execute_result"
    }
   ],
   "source": []
  },
  {
   "cell_type": "markdown",
   "metadata": {},
   "source": [
    "~ 0.68 is around 50 place on leaderboard. If we applied the leakage, we would get just slightly less. Of course, the competition is old and probably people solving it did not have such tools as we have now, but the result is still satisfying"
   ]
  },
  {
   "cell_type": "markdown",
   "metadata": {},
   "source": [
    "# 7 References\n",
    "\n"
   ]
  },
  {
   "cell_type": "markdown",
   "metadata": {},
   "source": [
    "1) http://dsnotes.com/post/2017-01-27-lessons-learned-from-outbrain-click-prediction-kaggle-competition/ - insights from one of the top-scorers\n",
    "\n",
    "2) https://towardsdatascience.com/6-recommendations-for-optimizing-a-spark-job-5899ec269b4b - some useful things about Spark Optimization\n",
    "\n",
    "3) https://github.com/ZEMUSHKA/lsml_hse_lectures/blob/master/3_LinearModels.pdf - some useful theory about online learning and VW\n",
    "\n",
    "4) https://github.com/ADKosm/lsml-2023-public/blob/main/06.%20Classical%20models.%20Wide%20data.ipynb - working with Big Data and training VW on Python\n",
    "\n",
    "5) https://github.com/ADKosm/lsml-2023-public/blob/main/07.%20Distributed%20training.ipynb - more about VW, how we can use it, and how to install it\n",
    "\n",
    "6) https://vowpalwabbit.org/, https://vowpalwabbit.org/docs/vowpal_wabbit/python/latest/tutorials/cmd_linear_regression.html#create-a-dataset - official documentation of VW, if one wants to know more about it\n",
    "\n",
    "7) https://courses.cs.washington.edu/courses/cse599s/12sp/scribes/Lecture8.pdf - about ftrl\n",
    "\n",
    "8) https://www.youtube.com/watch?v=dQw4w9WgXcQ - just check it :)"
   ]
  },
  {
   "cell_type": "code",
   "execution_count": null,
   "metadata": {},
   "outputs": [],
   "source": []
  }
 ],
 "metadata": {
  "kernelspec": {
   "display_name": "Python 3",
   "language": "python",
   "name": "python3"
  },
  "language_info": {
   "codemirror_mode": {
    "name": "ipython",
    "version": 3
   },
   "file_extension": ".py",
   "mimetype": "text/x-python",
   "name": "python",
   "nbconvert_exporter": "python",
   "pygments_lexer": "ipython3",
   "version": "3.7.6"
  }
 },
 "nbformat": 4,
 "nbformat_minor": 5
}
